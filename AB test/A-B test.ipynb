{
 "cells": [
  {
   "cell_type": "markdown",
   "metadata": {},
   "source": [
    "# A/B-тестирование"
   ]
  },
  {
   "cell_type": "markdown",
   "metadata": {},
   "source": [
    "**Описание проекта.**\n",
    "Я — аналитик крупного интернет-магазина. Вместе с отделом маркетинга мы подготовили список гипотез для увеличения выручки.\n",
    "Приоритизируем гипотезы, запустим A/B-тест и проанализируем результаты.\n",
    "\n",
    "`/datasets/hypothesis.csv` - файл с гипотезами.\n",
    "\n",
    "`/datasets/orders.csv` - файл с заказали пользователей\n",
    "\n",
    "`/datasets/visitors.csv` - файл с визитами пользователей"
   ]
  },
  {
   "cell_type": "code",
   "execution_count": 1,
   "metadata": {},
   "outputs": [],
   "source": [
    "import pandas as pd\n",
    "import numpy as np\n",
    "from scipy import stats as st\n",
    "import seaborn as sns\n",
    "from matplotlib import pyplot as plt\n",
    "import datetime as dt"
   ]
  },
  {
   "cell_type": "markdown",
   "metadata": {},
   "source": [
    "## Загрузка данных и подготовка к анализу"
   ]
  },
  {
   "cell_type": "code",
   "execution_count": 51,
   "metadata": {},
   "outputs": [],
   "source": [
    "hypothesis = pd.read_csv('/datasets/hypothesis.csv')\n",
    "orders = pd.read_csv('/datasets/orders.csv')\n",
    "visitors = pd.read_csv('/datasets/visitors.csv')"
   ]
  },
  {
   "cell_type": "code",
   "execution_count": 3,
   "metadata": {},
   "outputs": [
    {
     "data": {
      "text/html": [
       "<div>\n",
       "<style scoped>\n",
       "    .dataframe tbody tr th:only-of-type {\n",
       "        vertical-align: middle;\n",
       "    }\n",
       "\n",
       "    .dataframe tbody tr th {\n",
       "        vertical-align: top;\n",
       "    }\n",
       "\n",
       "    .dataframe thead th {\n",
       "        text-align: right;\n",
       "    }\n",
       "</style>\n",
       "<table border=\"1\" class=\"dataframe\">\n",
       "  <thead>\n",
       "    <tr style=\"text-align: right;\">\n",
       "      <th></th>\n",
       "      <th>Hypothesis</th>\n",
       "      <th>Reach</th>\n",
       "      <th>Impact</th>\n",
       "      <th>Confidence</th>\n",
       "      <th>Efforts</th>\n",
       "    </tr>\n",
       "  </thead>\n",
       "  <tbody>\n",
       "    <tr>\n",
       "      <td>0</td>\n",
       "      <td>Добавить два новых канала привлечения трафика,...</td>\n",
       "      <td>3</td>\n",
       "      <td>10</td>\n",
       "      <td>8</td>\n",
       "      <td>6</td>\n",
       "    </tr>\n",
       "    <tr>\n",
       "      <td>1</td>\n",
       "      <td>Запустить собственную службу доставки, что сок...</td>\n",
       "      <td>2</td>\n",
       "      <td>5</td>\n",
       "      <td>4</td>\n",
       "      <td>10</td>\n",
       "    </tr>\n",
       "    <tr>\n",
       "      <td>2</td>\n",
       "      <td>Добавить блоки рекомендаций товаров на сайт ин...</td>\n",
       "      <td>8</td>\n",
       "      <td>3</td>\n",
       "      <td>7</td>\n",
       "      <td>3</td>\n",
       "    </tr>\n",
       "    <tr>\n",
       "      <td>3</td>\n",
       "      <td>Изменить структура категорий, что увеличит кон...</td>\n",
       "      <td>8</td>\n",
       "      <td>3</td>\n",
       "      <td>3</td>\n",
       "      <td>8</td>\n",
       "    </tr>\n",
       "    <tr>\n",
       "      <td>4</td>\n",
       "      <td>Изменить цвет фона главной страницы, чтобы уве...</td>\n",
       "      <td>3</td>\n",
       "      <td>1</td>\n",
       "      <td>1</td>\n",
       "      <td>1</td>\n",
       "    </tr>\n",
       "    <tr>\n",
       "      <td>5</td>\n",
       "      <td>Добавить страницу отзывов клиентов о магазине,...</td>\n",
       "      <td>3</td>\n",
       "      <td>2</td>\n",
       "      <td>2</td>\n",
       "      <td>3</td>\n",
       "    </tr>\n",
       "    <tr>\n",
       "      <td>6</td>\n",
       "      <td>Показать на главной странице баннеры с актуаль...</td>\n",
       "      <td>5</td>\n",
       "      <td>3</td>\n",
       "      <td>8</td>\n",
       "      <td>3</td>\n",
       "    </tr>\n",
       "    <tr>\n",
       "      <td>7</td>\n",
       "      <td>Добавить форму подписки на все основные страни...</td>\n",
       "      <td>10</td>\n",
       "      <td>7</td>\n",
       "      <td>8</td>\n",
       "      <td>5</td>\n",
       "    </tr>\n",
       "    <tr>\n",
       "      <td>8</td>\n",
       "      <td>Запустить акцию, дающую скидку на товар в день...</td>\n",
       "      <td>1</td>\n",
       "      <td>9</td>\n",
       "      <td>9</td>\n",
       "      <td>5</td>\n",
       "    </tr>\n",
       "  </tbody>\n",
       "</table>\n",
       "</div>"
      ],
      "text/plain": [
       "                                          Hypothesis  Reach  Impact  \\\n",
       "0  Добавить два новых канала привлечения трафика,...      3      10   \n",
       "1  Запустить собственную службу доставки, что сок...      2       5   \n",
       "2  Добавить блоки рекомендаций товаров на сайт ин...      8       3   \n",
       "3  Изменить структура категорий, что увеличит кон...      8       3   \n",
       "4  Изменить цвет фона главной страницы, чтобы уве...      3       1   \n",
       "5  Добавить страницу отзывов клиентов о магазине,...      3       2   \n",
       "6  Показать на главной странице баннеры с актуаль...      5       3   \n",
       "7  Добавить форму подписки на все основные страни...     10       7   \n",
       "8  Запустить акцию, дающую скидку на товар в день...      1       9   \n",
       "\n",
       "   Confidence  Efforts  \n",
       "0           8        6  \n",
       "1           4       10  \n",
       "2           7        3  \n",
       "3           3        8  \n",
       "4           1        1  \n",
       "5           2        3  \n",
       "6           8        3  \n",
       "7           8        5  \n",
       "8           9        5  "
      ]
     },
     "execution_count": 3,
     "metadata": {},
     "output_type": "execute_result"
    }
   ],
   "source": [
    "hypothesis"
   ]
  },
  {
   "cell_type": "markdown",
   "metadata": {},
   "source": [
    "У каждой гипотезы 4 параметра:\n",
    "- `Reach` - размах наших изменений от 1 до 10.\n",
    "- `Impact` - влияние на пользователей от 1 до 10.\n",
    "- `Confidence` - шкала уверенности в оценках параметров.\n",
    "- `Efforts` - оценка сложности и трудозатрат.\n",
    "\n",
    "Приоритезируем гитотезы фреймворками `ICE` и `RICE`."
   ]
  },
  {
   "cell_type": "code",
   "execution_count": 4,
   "metadata": {},
   "outputs": [],
   "source": [
    "hypothesis['ICE'] = (hypothesis['Impact'] * hypothesis['Confidence']) / hypothesis['Efforts']\n",
    "hypothesis['RICE'] = hypothesis['Reach'] * hypothesis['Impact'] * hypothesis['Confidence'] / hypothesis['Efforts']"
   ]
  },
  {
   "cell_type": "code",
   "execution_count": 5,
   "metadata": {},
   "outputs": [
    {
     "data": {
      "text/html": [
       "<div>\n",
       "<style scoped>\n",
       "    .dataframe tbody tr th:only-of-type {\n",
       "        vertical-align: middle;\n",
       "    }\n",
       "\n",
       "    .dataframe tbody tr th {\n",
       "        vertical-align: top;\n",
       "    }\n",
       "\n",
       "    .dataframe thead th {\n",
       "        text-align: right;\n",
       "    }\n",
       "</style>\n",
       "<table border=\"1\" class=\"dataframe\">\n",
       "  <thead>\n",
       "    <tr style=\"text-align: right;\">\n",
       "      <th></th>\n",
       "      <th>Hypothesis</th>\n",
       "      <th>Reach</th>\n",
       "      <th>Impact</th>\n",
       "      <th>Confidence</th>\n",
       "      <th>Efforts</th>\n",
       "      <th>ICE</th>\n",
       "      <th>RICE</th>\n",
       "    </tr>\n",
       "  </thead>\n",
       "  <tbody>\n",
       "    <tr>\n",
       "      <td>8</td>\n",
       "      <td>Запустить акцию, дающую скидку на товар в день...</td>\n",
       "      <td>1</td>\n",
       "      <td>9</td>\n",
       "      <td>9</td>\n",
       "      <td>5</td>\n",
       "      <td>16.200000</td>\n",
       "      <td>16.2</td>\n",
       "    </tr>\n",
       "    <tr>\n",
       "      <td>0</td>\n",
       "      <td>Добавить два новых канала привлечения трафика,...</td>\n",
       "      <td>3</td>\n",
       "      <td>10</td>\n",
       "      <td>8</td>\n",
       "      <td>6</td>\n",
       "      <td>13.333333</td>\n",
       "      <td>40.0</td>\n",
       "    </tr>\n",
       "    <tr>\n",
       "      <td>7</td>\n",
       "      <td>Добавить форму подписки на все основные страни...</td>\n",
       "      <td>10</td>\n",
       "      <td>7</td>\n",
       "      <td>8</td>\n",
       "      <td>5</td>\n",
       "      <td>11.200000</td>\n",
       "      <td>112.0</td>\n",
       "    </tr>\n",
       "    <tr>\n",
       "      <td>6</td>\n",
       "      <td>Показать на главной странице баннеры с актуаль...</td>\n",
       "      <td>5</td>\n",
       "      <td>3</td>\n",
       "      <td>8</td>\n",
       "      <td>3</td>\n",
       "      <td>8.000000</td>\n",
       "      <td>40.0</td>\n",
       "    </tr>\n",
       "    <tr>\n",
       "      <td>2</td>\n",
       "      <td>Добавить блоки рекомендаций товаров на сайт ин...</td>\n",
       "      <td>8</td>\n",
       "      <td>3</td>\n",
       "      <td>7</td>\n",
       "      <td>3</td>\n",
       "      <td>7.000000</td>\n",
       "      <td>56.0</td>\n",
       "    </tr>\n",
       "    <tr>\n",
       "      <td>1</td>\n",
       "      <td>Запустить собственную службу доставки, что сок...</td>\n",
       "      <td>2</td>\n",
       "      <td>5</td>\n",
       "      <td>4</td>\n",
       "      <td>10</td>\n",
       "      <td>2.000000</td>\n",
       "      <td>4.0</td>\n",
       "    </tr>\n",
       "    <tr>\n",
       "      <td>5</td>\n",
       "      <td>Добавить страницу отзывов клиентов о магазине,...</td>\n",
       "      <td>3</td>\n",
       "      <td>2</td>\n",
       "      <td>2</td>\n",
       "      <td>3</td>\n",
       "      <td>1.333333</td>\n",
       "      <td>4.0</td>\n",
       "    </tr>\n",
       "    <tr>\n",
       "      <td>3</td>\n",
       "      <td>Изменить структура категорий, что увеличит кон...</td>\n",
       "      <td>8</td>\n",
       "      <td>3</td>\n",
       "      <td>3</td>\n",
       "      <td>8</td>\n",
       "      <td>1.125000</td>\n",
       "      <td>9.0</td>\n",
       "    </tr>\n",
       "    <tr>\n",
       "      <td>4</td>\n",
       "      <td>Изменить цвет фона главной страницы, чтобы уве...</td>\n",
       "      <td>3</td>\n",
       "      <td>1</td>\n",
       "      <td>1</td>\n",
       "      <td>1</td>\n",
       "      <td>1.000000</td>\n",
       "      <td>3.0</td>\n",
       "    </tr>\n",
       "  </tbody>\n",
       "</table>\n",
       "</div>"
      ],
      "text/plain": [
       "                                          Hypothesis  Reach  Impact  \\\n",
       "8  Запустить акцию, дающую скидку на товар в день...      1       9   \n",
       "0  Добавить два новых канала привлечения трафика,...      3      10   \n",
       "7  Добавить форму подписки на все основные страни...     10       7   \n",
       "6  Показать на главной странице баннеры с актуаль...      5       3   \n",
       "2  Добавить блоки рекомендаций товаров на сайт ин...      8       3   \n",
       "1  Запустить собственную службу доставки, что сок...      2       5   \n",
       "5  Добавить страницу отзывов клиентов о магазине,...      3       2   \n",
       "3  Изменить структура категорий, что увеличит кон...      8       3   \n",
       "4  Изменить цвет фона главной страницы, чтобы уве...      3       1   \n",
       "\n",
       "   Confidence  Efforts        ICE   RICE  \n",
       "8           9        5  16.200000   16.2  \n",
       "0           8        6  13.333333   40.0  \n",
       "7           8        5  11.200000  112.0  \n",
       "6           8        3   8.000000   40.0  \n",
       "2           7        3   7.000000   56.0  \n",
       "1           4       10   2.000000    4.0  \n",
       "5           2        3   1.333333    4.0  \n",
       "3           3        8   1.125000    9.0  \n",
       "4           1        1   1.000000    3.0  "
      ]
     },
     "execution_count": 5,
     "metadata": {},
     "output_type": "execute_result"
    }
   ],
   "source": [
    "hypothesis.sort_values('ICE',ascending=False)"
   ]
  },
  {
   "cell_type": "code",
   "execution_count": 6,
   "metadata": {},
   "outputs": [
    {
     "data": {
      "text/html": [
       "<div>\n",
       "<style scoped>\n",
       "    .dataframe tbody tr th:only-of-type {\n",
       "        vertical-align: middle;\n",
       "    }\n",
       "\n",
       "    .dataframe tbody tr th {\n",
       "        vertical-align: top;\n",
       "    }\n",
       "\n",
       "    .dataframe thead th {\n",
       "        text-align: right;\n",
       "    }\n",
       "</style>\n",
       "<table border=\"1\" class=\"dataframe\">\n",
       "  <thead>\n",
       "    <tr style=\"text-align: right;\">\n",
       "      <th></th>\n",
       "      <th>Hypothesis</th>\n",
       "      <th>Reach</th>\n",
       "      <th>Impact</th>\n",
       "      <th>Confidence</th>\n",
       "      <th>Efforts</th>\n",
       "      <th>ICE</th>\n",
       "      <th>RICE</th>\n",
       "    </tr>\n",
       "  </thead>\n",
       "  <tbody>\n",
       "    <tr>\n",
       "      <td>7</td>\n",
       "      <td>Добавить форму подписки на все основные страни...</td>\n",
       "      <td>10</td>\n",
       "      <td>7</td>\n",
       "      <td>8</td>\n",
       "      <td>5</td>\n",
       "      <td>11.200000</td>\n",
       "      <td>112.0</td>\n",
       "    </tr>\n",
       "    <tr>\n",
       "      <td>2</td>\n",
       "      <td>Добавить блоки рекомендаций товаров на сайт ин...</td>\n",
       "      <td>8</td>\n",
       "      <td>3</td>\n",
       "      <td>7</td>\n",
       "      <td>3</td>\n",
       "      <td>7.000000</td>\n",
       "      <td>56.0</td>\n",
       "    </tr>\n",
       "    <tr>\n",
       "      <td>0</td>\n",
       "      <td>Добавить два новых канала привлечения трафика,...</td>\n",
       "      <td>3</td>\n",
       "      <td>10</td>\n",
       "      <td>8</td>\n",
       "      <td>6</td>\n",
       "      <td>13.333333</td>\n",
       "      <td>40.0</td>\n",
       "    </tr>\n",
       "    <tr>\n",
       "      <td>6</td>\n",
       "      <td>Показать на главной странице баннеры с актуаль...</td>\n",
       "      <td>5</td>\n",
       "      <td>3</td>\n",
       "      <td>8</td>\n",
       "      <td>3</td>\n",
       "      <td>8.000000</td>\n",
       "      <td>40.0</td>\n",
       "    </tr>\n",
       "    <tr>\n",
       "      <td>8</td>\n",
       "      <td>Запустить акцию, дающую скидку на товар в день...</td>\n",
       "      <td>1</td>\n",
       "      <td>9</td>\n",
       "      <td>9</td>\n",
       "      <td>5</td>\n",
       "      <td>16.200000</td>\n",
       "      <td>16.2</td>\n",
       "    </tr>\n",
       "    <tr>\n",
       "      <td>3</td>\n",
       "      <td>Изменить структура категорий, что увеличит кон...</td>\n",
       "      <td>8</td>\n",
       "      <td>3</td>\n",
       "      <td>3</td>\n",
       "      <td>8</td>\n",
       "      <td>1.125000</td>\n",
       "      <td>9.0</td>\n",
       "    </tr>\n",
       "    <tr>\n",
       "      <td>1</td>\n",
       "      <td>Запустить собственную службу доставки, что сок...</td>\n",
       "      <td>2</td>\n",
       "      <td>5</td>\n",
       "      <td>4</td>\n",
       "      <td>10</td>\n",
       "      <td>2.000000</td>\n",
       "      <td>4.0</td>\n",
       "    </tr>\n",
       "    <tr>\n",
       "      <td>5</td>\n",
       "      <td>Добавить страницу отзывов клиентов о магазине,...</td>\n",
       "      <td>3</td>\n",
       "      <td>2</td>\n",
       "      <td>2</td>\n",
       "      <td>3</td>\n",
       "      <td>1.333333</td>\n",
       "      <td>4.0</td>\n",
       "    </tr>\n",
       "    <tr>\n",
       "      <td>4</td>\n",
       "      <td>Изменить цвет фона главной страницы, чтобы уве...</td>\n",
       "      <td>3</td>\n",
       "      <td>1</td>\n",
       "      <td>1</td>\n",
       "      <td>1</td>\n",
       "      <td>1.000000</td>\n",
       "      <td>3.0</td>\n",
       "    </tr>\n",
       "  </tbody>\n",
       "</table>\n",
       "</div>"
      ],
      "text/plain": [
       "                                          Hypothesis  Reach  Impact  \\\n",
       "7  Добавить форму подписки на все основные страни...     10       7   \n",
       "2  Добавить блоки рекомендаций товаров на сайт ин...      8       3   \n",
       "0  Добавить два новых канала привлечения трафика,...      3      10   \n",
       "6  Показать на главной странице баннеры с актуаль...      5       3   \n",
       "8  Запустить акцию, дающую скидку на товар в день...      1       9   \n",
       "3  Изменить структура категорий, что увеличит кон...      8       3   \n",
       "1  Запустить собственную службу доставки, что сок...      2       5   \n",
       "5  Добавить страницу отзывов клиентов о магазине,...      3       2   \n",
       "4  Изменить цвет фона главной страницы, чтобы уве...      3       1   \n",
       "\n",
       "   Confidence  Efforts        ICE   RICE  \n",
       "7           8        5  11.200000  112.0  \n",
       "2           7        3   7.000000   56.0  \n",
       "0           8        6  13.333333   40.0  \n",
       "6           8        3   8.000000   40.0  \n",
       "8           9        5  16.200000   16.2  \n",
       "3           3        8   1.125000    9.0  \n",
       "1           4       10   2.000000    4.0  \n",
       "5           2        3   1.333333    4.0  \n",
       "4           1        1   1.000000    3.0  "
      ]
     },
     "execution_count": 6,
     "metadata": {},
     "output_type": "execute_result"
    }
   ],
   "source": [
    "hypothesis.sort_values('RICE',ascending=False)"
   ]
  },
  {
   "cell_type": "markdown",
   "metadata": {},
   "source": [
    "В `RICE` есть дополнительный параметр `Reach`, который по сути умножает итоговый `ICE`-рейтинг. Поэтому гипотезы с максимальными `Reach` сразу оказываются вверху `RICE`- рейтинга приоритета."
   ]
  },
  {
   "cell_type": "code",
   "execution_count": 7,
   "metadata": {
    "scrolled": true
   },
   "outputs": [
    {
     "data": {
      "text/html": [
       "<div>\n",
       "<style scoped>\n",
       "    .dataframe tbody tr th:only-of-type {\n",
       "        vertical-align: middle;\n",
       "    }\n",
       "\n",
       "    .dataframe tbody tr th {\n",
       "        vertical-align: top;\n",
       "    }\n",
       "\n",
       "    .dataframe thead th {\n",
       "        text-align: right;\n",
       "    }\n",
       "</style>\n",
       "<table border=\"1\" class=\"dataframe\">\n",
       "  <thead>\n",
       "    <tr style=\"text-align: right;\">\n",
       "      <th></th>\n",
       "      <th>Hypothesis</th>\n",
       "      <th>Reach</th>\n",
       "      <th>Impact</th>\n",
       "      <th>Confidence</th>\n",
       "      <th>Efforts</th>\n",
       "      <th>ICE</th>\n",
       "      <th>RICE</th>\n",
       "    </tr>\n",
       "  </thead>\n",
       "  <tbody>\n",
       "    <tr>\n",
       "      <td>7</td>\n",
       "      <td>Добавить форму подписки на все основные страницы, чтобы собрать базу клиентов для email-рассылок</td>\n",
       "      <td>10</td>\n",
       "      <td>7</td>\n",
       "      <td>8</td>\n",
       "      <td>5</td>\n",
       "      <td>11.200000</td>\n",
       "      <td>112.0</td>\n",
       "    </tr>\n",
       "    <tr>\n",
       "      <td>2</td>\n",
       "      <td>Добавить блоки рекомендаций товаров на сайт интернет магазина, чтобы повысить конверсию и средний чек заказа</td>\n",
       "      <td>8</td>\n",
       "      <td>3</td>\n",
       "      <td>7</td>\n",
       "      <td>3</td>\n",
       "      <td>7.000000</td>\n",
       "      <td>56.0</td>\n",
       "    </tr>\n",
       "    <tr>\n",
       "      <td>0</td>\n",
       "      <td>Добавить два новых канала привлечения трафика, что позволит привлекать на 30% больше пользователей</td>\n",
       "      <td>3</td>\n",
       "      <td>10</td>\n",
       "      <td>8</td>\n",
       "      <td>6</td>\n",
       "      <td>13.333333</td>\n",
       "      <td>40.0</td>\n",
       "    </tr>\n",
       "    <tr>\n",
       "      <td>6</td>\n",
       "      <td>Показать на главной странице баннеры с актуальными акциями и распродажами, чтобы увеличить конверсию</td>\n",
       "      <td>5</td>\n",
       "      <td>3</td>\n",
       "      <td>8</td>\n",
       "      <td>3</td>\n",
       "      <td>8.000000</td>\n",
       "      <td>40.0</td>\n",
       "    </tr>\n",
       "    <tr>\n",
       "      <td>8</td>\n",
       "      <td>Запустить акцию, дающую скидку на товар в день рождения</td>\n",
       "      <td>1</td>\n",
       "      <td>9</td>\n",
       "      <td>9</td>\n",
       "      <td>5</td>\n",
       "      <td>16.200000</td>\n",
       "      <td>16.2</td>\n",
       "    </tr>\n",
       "    <tr>\n",
       "      <td>3</td>\n",
       "      <td>Изменить структура категорий, что увеличит конверсию, т.к. пользователи быстрее найдут нужный товар</td>\n",
       "      <td>8</td>\n",
       "      <td>3</td>\n",
       "      <td>3</td>\n",
       "      <td>8</td>\n",
       "      <td>1.125000</td>\n",
       "      <td>9.0</td>\n",
       "    </tr>\n",
       "    <tr>\n",
       "      <td>1</td>\n",
       "      <td>Запустить собственную службу доставки, что сократит срок доставки заказов</td>\n",
       "      <td>2</td>\n",
       "      <td>5</td>\n",
       "      <td>4</td>\n",
       "      <td>10</td>\n",
       "      <td>2.000000</td>\n",
       "      <td>4.0</td>\n",
       "    </tr>\n",
       "    <tr>\n",
       "      <td>5</td>\n",
       "      <td>Добавить страницу отзывов клиентов о магазине, что позволит увеличить количество заказов</td>\n",
       "      <td>3</td>\n",
       "      <td>2</td>\n",
       "      <td>2</td>\n",
       "      <td>3</td>\n",
       "      <td>1.333333</td>\n",
       "      <td>4.0</td>\n",
       "    </tr>\n",
       "    <tr>\n",
       "      <td>4</td>\n",
       "      <td>Изменить цвет фона главной страницы, чтобы увеличить вовлеченность пользователей</td>\n",
       "      <td>3</td>\n",
       "      <td>1</td>\n",
       "      <td>1</td>\n",
       "      <td>1</td>\n",
       "      <td>1.000000</td>\n",
       "      <td>3.0</td>\n",
       "    </tr>\n",
       "  </tbody>\n",
       "</table>\n",
       "</div>"
      ],
      "text/plain": [
       "                                                                                                     Hypothesis  \\\n",
       "7              Добавить форму подписки на все основные страницы, чтобы собрать базу клиентов для email-рассылок   \n",
       "2  Добавить блоки рекомендаций товаров на сайт интернет магазина, чтобы повысить конверсию и средний чек заказа   \n",
       "0            Добавить два новых канала привлечения трафика, что позволит привлекать на 30% больше пользователей   \n",
       "6          Показать на главной странице баннеры с актуальными акциями и распродажами, чтобы увеличить конверсию   \n",
       "8                                                       Запустить акцию, дающую скидку на товар в день рождения   \n",
       "3           Изменить структура категорий, что увеличит конверсию, т.к. пользователи быстрее найдут нужный товар   \n",
       "1                                     Запустить собственную службу доставки, что сократит срок доставки заказов   \n",
       "5                      Добавить страницу отзывов клиентов о магазине, что позволит увеличить количество заказов   \n",
       "4                              Изменить цвет фона главной страницы, чтобы увеличить вовлеченность пользователей   \n",
       "\n",
       "   Reach  Impact  Confidence  Efforts        ICE   RICE  \n",
       "7     10       7           8        5  11.200000  112.0  \n",
       "2      8       3           7        3   7.000000   56.0  \n",
       "0      3      10           8        6  13.333333   40.0  \n",
       "6      5       3           8        3   8.000000   40.0  \n",
       "8      1       9           9        5  16.200000   16.2  \n",
       "3      8       3           3        8   1.125000    9.0  \n",
       "1      2       5           4       10   2.000000    4.0  \n",
       "5      3       2           2        3   1.333333    4.0  \n",
       "4      3       1           1        1   1.000000    3.0  "
      ]
     },
     "execution_count": 7,
     "metadata": {},
     "output_type": "execute_result"
    }
   ],
   "source": [
    "pd.set_option('display.max_colwidth', 150)\n",
    "hypothesis.sort_values('RICE',ascending=False)"
   ]
  },
  {
   "cell_type": "code",
   "execution_count": 8,
   "metadata": {},
   "outputs": [
    {
     "data": {
      "text/html": [
       "<div>\n",
       "<style scoped>\n",
       "    .dataframe tbody tr th:only-of-type {\n",
       "        vertical-align: middle;\n",
       "    }\n",
       "\n",
       "    .dataframe tbody tr th {\n",
       "        vertical-align: top;\n",
       "    }\n",
       "\n",
       "    .dataframe thead th {\n",
       "        text-align: right;\n",
       "    }\n",
       "</style>\n",
       "<table border=\"1\" class=\"dataframe\">\n",
       "  <thead>\n",
       "    <tr style=\"text-align: right;\">\n",
       "      <th></th>\n",
       "      <th>transactionId</th>\n",
       "      <th>visitorId</th>\n",
       "      <th>date</th>\n",
       "      <th>revenue</th>\n",
       "      <th>group</th>\n",
       "    </tr>\n",
       "  </thead>\n",
       "  <tbody>\n",
       "    <tr>\n",
       "      <td>0</td>\n",
       "      <td>3667963787</td>\n",
       "      <td>3312258926</td>\n",
       "      <td>2019-08-15</td>\n",
       "      <td>1650</td>\n",
       "      <td>B</td>\n",
       "    </tr>\n",
       "    <tr>\n",
       "      <td>1</td>\n",
       "      <td>2804400009</td>\n",
       "      <td>3642806036</td>\n",
       "      <td>2019-08-15</td>\n",
       "      <td>730</td>\n",
       "      <td>B</td>\n",
       "    </tr>\n",
       "    <tr>\n",
       "      <td>2</td>\n",
       "      <td>2961555356</td>\n",
       "      <td>4069496402</td>\n",
       "      <td>2019-08-15</td>\n",
       "      <td>400</td>\n",
       "      <td>A</td>\n",
       "    </tr>\n",
       "    <tr>\n",
       "      <td>3</td>\n",
       "      <td>3797467345</td>\n",
       "      <td>1196621759</td>\n",
       "      <td>2019-08-15</td>\n",
       "      <td>9759</td>\n",
       "      <td>B</td>\n",
       "    </tr>\n",
       "    <tr>\n",
       "      <td>4</td>\n",
       "      <td>2282983706</td>\n",
       "      <td>2322279887</td>\n",
       "      <td>2019-08-15</td>\n",
       "      <td>2308</td>\n",
       "      <td>B</td>\n",
       "    </tr>\n",
       "  </tbody>\n",
       "</table>\n",
       "</div>"
      ],
      "text/plain": [
       "   transactionId   visitorId        date  revenue group\n",
       "0     3667963787  3312258926  2019-08-15     1650     B\n",
       "1     2804400009  3642806036  2019-08-15      730     B\n",
       "2     2961555356  4069496402  2019-08-15      400     A\n",
       "3     3797467345  1196621759  2019-08-15     9759     B\n",
       "4     2282983706  2322279887  2019-08-15     2308     B"
      ]
     },
     "execution_count": 8,
     "metadata": {},
     "output_type": "execute_result"
    }
   ],
   "source": [
    "orders.head()"
   ]
  },
  {
   "cell_type": "code",
   "execution_count": 9,
   "metadata": {},
   "outputs": [
    {
     "data": {
      "text/plain": [
       "0"
      ]
     },
     "execution_count": 9,
     "metadata": {},
     "output_type": "execute_result"
    }
   ],
   "source": [
    "orders = orders.rename(columns={'transactionId':'transaction_id','visitorId':'visitor_id'}) # предобработаем и проверим на дудли\n",
    "orders['date'] = orders['date'].map(lambda x: dt.datetime.strptime(x, '%Y-%m-%d'))\n",
    "visitors['date'] = visitors['date'].map(lambda x: dt.datetime.strptime(x, '%Y-%m-%d'))\n",
    "orders.duplicated().sum() # проверим на дубликаты"
   ]
  },
  {
   "cell_type": "code",
   "execution_count": 50,
   "metadata": {},
   "outputs": [
    {
     "data": {
      "text/html": [
       "<div>\n",
       "<style scoped>\n",
       "    .dataframe tbody tr th:only-of-type {\n",
       "        vertical-align: middle;\n",
       "    }\n",
       "\n",
       "    .dataframe tbody tr th {\n",
       "        vertical-align: top;\n",
       "    }\n",
       "\n",
       "    .dataframe thead th {\n",
       "        text-align: right;\n",
       "    }\n",
       "</style>\n",
       "<table border=\"1\" class=\"dataframe\">\n",
       "  <thead>\n",
       "    <tr style=\"text-align: right;\">\n",
       "      <th></th>\n",
       "      <th>date</th>\n",
       "      <th>group</th>\n",
       "      <th>visitors</th>\n",
       "    </tr>\n",
       "  </thead>\n",
       "  <tbody>\n",
       "    <tr>\n",
       "      <td>0</td>\n",
       "      <td>2019-08-01</td>\n",
       "      <td>A</td>\n",
       "      <td>719</td>\n",
       "    </tr>\n",
       "    <tr>\n",
       "      <td>1</td>\n",
       "      <td>2019-08-02</td>\n",
       "      <td>A</td>\n",
       "      <td>619</td>\n",
       "    </tr>\n",
       "    <tr>\n",
       "      <td>2</td>\n",
       "      <td>2019-08-03</td>\n",
       "      <td>A</td>\n",
       "      <td>507</td>\n",
       "    </tr>\n",
       "    <tr>\n",
       "      <td>3</td>\n",
       "      <td>2019-08-04</td>\n",
       "      <td>A</td>\n",
       "      <td>717</td>\n",
       "    </tr>\n",
       "    <tr>\n",
       "      <td>4</td>\n",
       "      <td>2019-08-05</td>\n",
       "      <td>A</td>\n",
       "      <td>756</td>\n",
       "    </tr>\n",
       "    <tr>\n",
       "      <td>...</td>\n",
       "      <td>...</td>\n",
       "      <td>...</td>\n",
       "      <td>...</td>\n",
       "    </tr>\n",
       "    <tr>\n",
       "      <td>57</td>\n",
       "      <td>2019-08-27</td>\n",
       "      <td>B</td>\n",
       "      <td>720</td>\n",
       "    </tr>\n",
       "    <tr>\n",
       "      <td>58</td>\n",
       "      <td>2019-08-28</td>\n",
       "      <td>B</td>\n",
       "      <td>654</td>\n",
       "    </tr>\n",
       "    <tr>\n",
       "      <td>59</td>\n",
       "      <td>2019-08-29</td>\n",
       "      <td>B</td>\n",
       "      <td>531</td>\n",
       "    </tr>\n",
       "    <tr>\n",
       "      <td>60</td>\n",
       "      <td>2019-08-30</td>\n",
       "      <td>B</td>\n",
       "      <td>490</td>\n",
       "    </tr>\n",
       "    <tr>\n",
       "      <td>61</td>\n",
       "      <td>2019-08-31</td>\n",
       "      <td>B</td>\n",
       "      <td>718</td>\n",
       "    </tr>\n",
       "  </tbody>\n",
       "</table>\n",
       "<p>62 rows × 3 columns</p>\n",
       "</div>"
      ],
      "text/plain": [
       "         date group  visitors\n",
       "0  2019-08-01     A       719\n",
       "1  2019-08-02     A       619\n",
       "2  2019-08-03     A       507\n",
       "3  2019-08-04     A       717\n",
       "4  2019-08-05     A       756\n",
       "..        ...   ...       ...\n",
       "57 2019-08-27     B       720\n",
       "58 2019-08-28     B       654\n",
       "59 2019-08-29     B       531\n",
       "60 2019-08-30     B       490\n",
       "61 2019-08-31     B       718\n",
       "\n",
       "[62 rows x 3 columns]"
      ]
     },
     "execution_count": 50,
     "metadata": {},
     "output_type": "execute_result"
    }
   ],
   "source": [
    "visitors.head(10)"
   ]
  },
  {
   "cell_type": "code",
   "execution_count": 11,
   "metadata": {
    "scrolled": true
   },
   "outputs": [
    {
     "data": {
      "text/plain": [
       "0"
      ]
     },
     "execution_count": 11,
     "metadata": {},
     "output_type": "execute_result"
    }
   ],
   "source": [
    "visitors.duplicated().sum()"
   ]
  },
  {
   "cell_type": "code",
   "execution_count": 12,
   "metadata": {
    "scrolled": true
   },
   "outputs": [
    {
     "data": {
      "text/html": [
       "<div>\n",
       "<style scoped>\n",
       "    .dataframe tbody tr th:only-of-type {\n",
       "        vertical-align: middle;\n",
       "    }\n",
       "\n",
       "    .dataframe tbody tr th {\n",
       "        vertical-align: top;\n",
       "    }\n",
       "\n",
       "    .dataframe thead th {\n",
       "        text-align: right;\n",
       "    }\n",
       "</style>\n",
       "<table border=\"1\" class=\"dataframe\">\n",
       "  <thead>\n",
       "    <tr style=\"text-align: right;\">\n",
       "      <th></th>\n",
       "      <th>visitor_id</th>\n",
       "      <th>group</th>\n",
       "    </tr>\n",
       "  </thead>\n",
       "  <tbody>\n",
       "    <tr>\n",
       "      <td>2</td>\n",
       "      <td>8300375</td>\n",
       "      <td>2</td>\n",
       "    </tr>\n",
       "    <tr>\n",
       "      <td>44</td>\n",
       "      <td>199603092</td>\n",
       "      <td>2</td>\n",
       "    </tr>\n",
       "    <tr>\n",
       "      <td>51</td>\n",
       "      <td>232979603</td>\n",
       "      <td>2</td>\n",
       "    </tr>\n",
       "    <tr>\n",
       "      <td>55</td>\n",
       "      <td>237748145</td>\n",
       "      <td>2</td>\n",
       "    </tr>\n",
       "    <tr>\n",
       "      <td>66</td>\n",
       "      <td>276558944</td>\n",
       "      <td>2</td>\n",
       "    </tr>\n",
       "  </tbody>\n",
       "</table>\n",
       "</div>"
      ],
      "text/plain": [
       "    visitor_id  group\n",
       "2      8300375      2\n",
       "44   199603092      2\n",
       "51   232979603      2\n",
       "55   237748145      2\n",
       "66   276558944      2"
      ]
     },
     "execution_count": 12,
     "metadata": {},
     "output_type": "execute_result"
    }
   ],
   "source": [
    "xxx = orders.groupby('visitor_id')['group'].nunique().reset_index() # айдишники в обоих группах\n",
    "xxx[xxx['group'] == 2].head()"
   ]
  },
  {
   "cell_type": "code",
   "execution_count": 13,
   "metadata": {},
   "outputs": [
    {
     "data": {
      "text/plain": [
       "58"
      ]
     },
     "execution_count": 13,
     "metadata": {},
     "output_type": "execute_result"
    }
   ],
   "source": [
    "len(xxx[xxx['group'] == 2]) # ну их так много"
   ]
  },
  {
   "cell_type": "markdown",
   "metadata": {},
   "source": [
    "## Анализ А/В-теста."
   ]
  },
  {
   "cell_type": "markdown",
   "metadata": {},
   "source": [
    "### Построим график кумулятивной выручки по группам."
   ]
  },
  {
   "cell_type": "code",
   "execution_count": 14,
   "metadata": {},
   "outputs": [],
   "source": [
    "# Сделаем агрегацию кумулятивных данных о заказах и посетителях\n",
    "ordersAggregated = orders.apply(lambda x: orders[np.logical_and(orders['date'] <= x['date'], orders['group'] == x['group'])]\\\n",
    "    .agg({'date':'max', 'group':'max', 'transaction_id':pd.Series.nunique, 'visitor_id':pd.Series.nunique, 'revenue':'sum'}), axis=1).sort_values(by=['date','group'])\n",
    "visitorsAggregated = visitors.apply(lambda x: visitors[np.logical_and(visitors['date'] <= x['date'], visitors['group'] == x['group'])]\\\n",
    "    .agg({'date' : 'max', 'group' : 'max', 'visitors' : 'sum'}), axis=1).sort_values(by=['date','group'])"
   ]
  },
  {
   "cell_type": "code",
   "execution_count": 15,
   "metadata": {},
   "outputs": [],
   "source": [
    "# Соединим\n",
    "cumulativeData = ordersAggregated.merge(visitorsAggregated, left_on=['date', 'group'], right_on=['date', 'group'])\\\n",
    "    .drop_duplicates().reset_index(drop=True)\n",
    "cumulativeData.columns = ['date', 'group', 'transactions', 'buyers', 'revenue', 'visitors']"
   ]
  },
  {
   "cell_type": "code",
   "execution_count": 16,
   "metadata": {},
   "outputs": [
    {
     "data": {
      "text/html": [
       "<div>\n",
       "<style scoped>\n",
       "    .dataframe tbody tr th:only-of-type {\n",
       "        vertical-align: middle;\n",
       "    }\n",
       "\n",
       "    .dataframe tbody tr th {\n",
       "        vertical-align: top;\n",
       "    }\n",
       "\n",
       "    .dataframe thead th {\n",
       "        text-align: right;\n",
       "    }\n",
       "</style>\n",
       "<table border=\"1\" class=\"dataframe\">\n",
       "  <thead>\n",
       "    <tr style=\"text-align: right;\">\n",
       "      <th></th>\n",
       "      <th>date</th>\n",
       "      <th>group</th>\n",
       "      <th>transactions</th>\n",
       "      <th>buyers</th>\n",
       "      <th>revenue</th>\n",
       "      <th>visitors</th>\n",
       "    </tr>\n",
       "  </thead>\n",
       "  <tbody>\n",
       "    <tr>\n",
       "      <td>0</td>\n",
       "      <td>2019-08-01</td>\n",
       "      <td>A</td>\n",
       "      <td>24</td>\n",
       "      <td>20</td>\n",
       "      <td>148579</td>\n",
       "      <td>719</td>\n",
       "    </tr>\n",
       "    <tr>\n",
       "      <td>1</td>\n",
       "      <td>2019-08-01</td>\n",
       "      <td>B</td>\n",
       "      <td>21</td>\n",
       "      <td>20</td>\n",
       "      <td>101217</td>\n",
       "      <td>713</td>\n",
       "    </tr>\n",
       "    <tr>\n",
       "      <td>2</td>\n",
       "      <td>2019-08-02</td>\n",
       "      <td>A</td>\n",
       "      <td>44</td>\n",
       "      <td>38</td>\n",
       "      <td>242401</td>\n",
       "      <td>1338</td>\n",
       "    </tr>\n",
       "    <tr>\n",
       "      <td>3</td>\n",
       "      <td>2019-08-02</td>\n",
       "      <td>B</td>\n",
       "      <td>45</td>\n",
       "      <td>43</td>\n",
       "      <td>266748</td>\n",
       "      <td>1294</td>\n",
       "    </tr>\n",
       "    <tr>\n",
       "      <td>4</td>\n",
       "      <td>2019-08-03</td>\n",
       "      <td>A</td>\n",
       "      <td>68</td>\n",
       "      <td>62</td>\n",
       "      <td>354874</td>\n",
       "      <td>1845</td>\n",
       "    </tr>\n",
       "  </tbody>\n",
       "</table>\n",
       "</div>"
      ],
      "text/plain": [
       "        date group  transactions  buyers  revenue  visitors\n",
       "0 2019-08-01     A            24      20   148579       719\n",
       "1 2019-08-01     B            21      20   101217       713\n",
       "2 2019-08-02     A            44      38   242401      1338\n",
       "3 2019-08-02     B            45      43   266748      1294\n",
       "4 2019-08-03     A            68      62   354874      1845"
      ]
     },
     "execution_count": 16,
     "metadata": {},
     "output_type": "execute_result"
    }
   ],
   "source": [
    "# Агрегируем данные\n",
    "cumulativeData.head()"
   ]
  },
  {
   "cell_type": "code",
   "execution_count": 17,
   "metadata": {},
   "outputs": [
    {
     "name": "stderr",
     "output_type": "stream",
     "text": [
      "/opt/conda/lib/python3.7/site-packages/pandas/plotting/_matplotlib/converter.py:103: FutureWarning: Using an implicitly registered datetime converter for a matplotlib plotting method. The converter was registered by pandas on import. Future versions of pandas will require you to explicitly register matplotlib converters.\n",
      "\n",
      "To register the converters:\n",
      "\t>>> from pandas.plotting import register_matplotlib_converters\n",
      "\t>>> register_matplotlib_converters()\n",
      "  warnings.warn(msg, FutureWarning)\n"
     ]
    },
    {
     "data": {
      "image/png": "[encoded data removed]",
      "text/plain": [
       "<Figure size 1080x360 with 1 Axes>"
      ]
     },
     "metadata": {
      "needs_background": "light"
     },
     "output_type": "display_data"
    }
   ],
   "source": [
    "cumulativeRevenueA = cumulativeData[cumulativeData['group']=='A'][['date','revenue','transactions']]\n",
    "cumulativeRevenueB = cumulativeData[cumulativeData['group']=='B'][['date','revenue','transactions']]\n",
    "fig = plt.subplots(figsize=(15, 5))\n",
    "plt.plot(cumulativeRevenueA['date'], cumulativeRevenueA['revenue'], label='A')\n",
    "plt.plot(cumulativeRevenueB['date'], cumulativeRevenueB['revenue'], label='B')\n",
    "plt.title('Рост выручки групп')\n",
    "plt.xlabel('Дата')\n",
    "plt.ylabel('Выручка')\n",
    "plt.grid(True)\n",
    "plt.legend()\n",
    "plt.show()"
   ]
  },
  {
   "cell_type": "markdown",
   "metadata": {},
   "source": [
    "Вначале группы идут ровно, на середине теста выручка B-группы сильно возрастает и к концу опять более менее ровно. Выброс может сигнализировать либо всплекс числа заказов, либо сделан очень дорогой заказ."
   ]
  },
  {
   "cell_type": "markdown",
   "metadata": {},
   "source": [
    "### Построим график кумулятивного среднего чека по группам."
   ]
  },
  {
   "cell_type": "code",
   "execution_count": 18,
   "metadata": {},
   "outputs": [
    {
     "data": {
      "image/png": "[encoded data removed]",
      "text/plain": [
       "<Figure size 1080x360 with 1 Axes>"
      ]
     },
     "metadata": {
      "needs_background": "light"
     },
     "output_type": "display_data"
    }
   ],
   "source": [
    "fig = plt.subplots(figsize=(15, 5))\n",
    "plt.plot(cumulativeRevenueA['date'], cumulativeRevenueA['revenue']/cumulativeRevenueA['transactions'], label='A')\n",
    "plt.plot(cumulativeRevenueB['date'], cumulativeRevenueB['revenue']/cumulativeRevenueB['transactions'], label='B')\n",
    "plt.title('Средний чек групп')\n",
    "plt.xlabel('Дата')\n",
    "plt.ylabel('Средний чек')\n",
    "plt.grid(True)\n",
    "plt.legend()\n",
    "plt.show()"
   ]
  },
  {
   "cell_type": "markdown",
   "metadata": {},
   "source": [
    "Средние чеки сравниваются к середине теста. И просходит тот самый выброс. Средний чек вырос, значит кто-то сделал очень большой заказ и из-за этого исказил данные. Средняя А продолжает немного расти, а средняя В начинает падать. Не видно на какой отметке они должны стабилизираться. Выброс сильно искажает данные. ВОзможно стоит очистить."
   ]
  },
  {
   "cell_type": "markdown",
   "metadata": {},
   "source": [
    "### Построим график относительного изменения кумулятивного среднего чека группы B к группе A."
   ]
  },
  {
   "cell_type": "code",
   "execution_count": 19,
   "metadata": {},
   "outputs": [
    {
     "data": {
      "image/png": "[encoded data removed]",
      "text/plain": [
       "<Figure size 1080x360 with 1 Axes>"
      ]
     },
     "metadata": {
      "needs_background": "light"
     },
     "output_type": "display_data"
    }
   ],
   "source": [
    "mergedCumulativeRevenue = cumulativeRevenueA.merge(cumulativeRevenueB, left_on='date', right_on='date',\\\n",
    "                                                   how='left', suffixes=['A', 'B'])\n",
    "fig = plt.subplots(figsize=(15, 5))\n",
    "plt.plot(mergedCumulativeRevenue['date'],(mergedCumulativeRevenue['revenueB']/mergedCumulativeRevenue['transactionsB'])/(mergedCumulativeRevenue['revenueA']/mergedCumulativeRevenue['transactionsA'])-1)\n",
    "plt.title('Группа B относительно А')\n",
    "plt.xlabel('Дата')\n",
    "plt.ylabel('Изменение')\n",
    "plt.grid(True)\n",
    "plt.axhline(y=0, color='black', linestyle='--')\n",
    "plt.show()"
   ]
  },
  {
   "cell_type": "markdown",
   "metadata": {},
   "source": [
    "Та же самая картина. В начинает лидировать, к середине стабилизация и примерно паритет, выброс в группе А на 13 число ненадолго выводит А в лидеры и выброс в B искажает данные настолько, что средний чек B становится на 50% больше среднего чека A. К концу теста средние чеки стремемятся друг к другу(район около 0 на графике.)"
   ]
  },
  {
   "cell_type": "markdown",
   "metadata": {},
   "source": [
    "### Построим график кумулятивной конверсии по группам."
   ]
  },
  {
   "cell_type": "code",
   "execution_count": 20,
   "metadata": {},
   "outputs": [],
   "source": [
    "cumulativeData['conversion'] = cumulativeData['transactions']/cumulativeData['visitors']\n",
    "cumulativeDataA = cumulativeData[cumulativeData['group']=='A']\n",
    "cumulativeDataB = cumulativeData[cumulativeData['group']=='B']"
   ]
  },
  {
   "cell_type": "code",
   "execution_count": 21,
   "metadata": {},
   "outputs": [
    {
     "data": {
      "image/png": "[encoded data removed]",
      "text/plain": [
       "<Figure size 1080x360 with 1 Axes>"
      ]
     },
     "metadata": {
      "needs_background": "light"
     },
     "output_type": "display_data"
    }
   ],
   "source": [
    "fig = plt.subplots(figsize=(15, 5))\n",
    "plt.plot(cumulativeDataA['date'], cumulativeDataA['conversion'], label='A')\n",
    "plt.plot(cumulativeDataB['date'], cumulativeDataB['conversion'], label='B')\n",
    "plt.title('Конверсия во времени')\n",
    "plt.xlabel('Дата')\n",
    "plt.ylabel('Конверсия')\n",
    "plt.grid(True)\n",
    "plt.legend()\n",
    "plt.show()"
   ]
  },
  {
   "cell_type": "markdown",
   "metadata": {},
   "source": [
    "Конверсия А - примерно 3%, а группы В - 3,4%. Вроде бы в группе B покупают лучше A."
   ]
  },
  {
   "cell_type": "markdown",
   "metadata": {},
   "source": [
    "### График относительного изменения кумулятивной конверсии группы B к группе A."
   ]
  },
  {
   "cell_type": "code",
   "execution_count": 22,
   "metadata": {},
   "outputs": [
    {
     "data": {
      "image/png": "[encoded data removed]",
      "text/plain": [
       "<Figure size 1080x360 with 1 Axes>"
      ]
     },
     "metadata": {
      "needs_background": "light"
     },
     "output_type": "display_data"
    }
   ],
   "source": [
    "mergedCumulativeConversions = cumulativeDataA[['date','conversion']].merge(cumulativeDataB[['date','conversion']], left_on='date', right_on='date', how='left', suffixes=['A', 'B'])\n",
    "fig = plt.subplots(figsize=(15, 5))\n",
    "plt.plot(mergedCumulativeConversions['date'], mergedCumulativeConversions['conversionB']/mergedCumulativeConversions['conversionA']-1, label=\"Относительный прирост конверсии группы B относительно группы A\")\n",
    "plt.title('Конверсия B относительно А')\n",
    "plt.xlabel('Дата')\n",
    "plt.ylabel('Изменение')\n",
    "plt.grid(True)\n",
    "plt.axhline(y=0, color='black', linestyle='--')\n",
    "plt.show()"
   ]
  },
  {
   "cell_type": "markdown",
   "metadata": {},
   "source": [
    "К концу теста конверсия B выше на 10%-14% по неочищенным данным."
   ]
  },
  {
   "cell_type": "markdown",
   "metadata": {},
   "source": [
    "### Точечный график количества заказов по пользователям."
   ]
  },
  {
   "cell_type": "code",
   "execution_count": 23,
   "metadata": {},
   "outputs": [
    {
     "data": {
      "image/png": "[encoded data removed]",
      "text/plain": [
       "<Figure size 432x288 with 1 Axes>"
      ]
     },
     "metadata": {
      "needs_background": "light"
     },
     "output_type": "display_data"
    }
   ],
   "source": [
    "ordersByUsers = (\n",
    "    orders.drop(['group', 'revenue', 'date'], axis=1)\n",
    "    .groupby('visitor_id', as_index=False)\n",
    "    .agg({'transaction_id': pd.Series.nunique})\n",
    ")\n",
    "ordersByUsers.columns = ['visitor_id', 'transactions']\n",
    "x_values = pd.Series(range(0,len(ordersByUsers)))\n",
    "plt.scatter(x_values, ordersByUsers['transactions']) \n",
    "plt.title('Количество заказов по пользователям')\n",
    "plt.xlabel('Пользователи')\n",
    "plt.ylabel('Заказы')\n",
    "plt.grid(True)\n",
    "plt.show()"
   ]
  },
  {
   "cell_type": "code",
   "execution_count": 24,
   "metadata": {},
   "outputs": [
    {
     "data": {
      "text/plain": [
       "count    1031.000000\n",
       "mean        1.161009\n",
       "std         0.724919\n",
       "min         1.000000\n",
       "25%         1.000000\n",
       "50%         1.000000\n",
       "75%         1.000000\n",
       "max        11.000000\n",
       "Name: transactions, dtype: float64"
      ]
     },
     "execution_count": 24,
     "metadata": {},
     "output_type": "execute_result"
    }
   ],
   "source": [
    "ordersByUsers['transactions'].describe()"
   ]
  },
  {
   "cell_type": "markdown",
   "metadata": {},
   "source": [
    "Большинство пользователей делает только 1 заказ. Есть небольшая доля с 2. Тех, кто делает больше 2 заказов уже единицы."
   ]
  },
  {
   "cell_type": "markdown",
   "metadata": {},
   "source": [
    "### Посчитаем 95-й и 99-й перцентили количества заказов на пользователя. Выберем границу."
   ]
  },
  {
   "cell_type": "code",
   "execution_count": 25,
   "metadata": {},
   "outputs": [
    {
     "data": {
      "text/plain": [
       "array([2., 4.])"
      ]
     },
     "execution_count": 25,
     "metadata": {},
     "output_type": "execute_result"
    }
   ],
   "source": [
    "np.percentile(ordersByUsers['transactions'], [95, 99])"
   ]
  },
  {
   "cell_type": "markdown",
   "metadata": {},
   "source": [
    "5% делали больше 2 заказов, и 1% больше 4. Таким образом границей можно считать 2 заказа, все что выше(5%) - аномалии."
   ]
  },
  {
   "cell_type": "markdown",
   "metadata": {},
   "source": [
    "### Точечный график стоимостей заказов."
   ]
  },
  {
   "cell_type": "code",
   "execution_count": 26,
   "metadata": {},
   "outputs": [
    {
     "data": {
      "text/plain": [
       "count    1.197000e+03\n",
       "mean     8.348006e+03\n",
       "std      3.919113e+04\n",
       "min      5.000000e+01\n",
       "25%      1.220000e+03\n",
       "50%      2.978000e+03\n",
       "75%      8.290000e+03\n",
       "max      1.294500e+06\n",
       "Name: revenue, dtype: float64"
      ]
     },
     "execution_count": 26,
     "metadata": {},
     "output_type": "execute_result"
    }
   ],
   "source": [
    "orders['revenue'].describe()"
   ]
  },
  {
   "cell_type": "code",
   "execution_count": 27,
   "metadata": {},
   "outputs": [
    {
     "data": {
      "image/png": "[encoded data removed]",
      "text/plain": [
       "<Figure size 432x288 with 1 Axes>"
      ]
     },
     "metadata": {
      "needs_background": "light"
     },
     "output_type": "display_data"
    }
   ],
   "source": [
    "x_values2 = pd.Series(range(0,len(orders['revenue'])))\n",
    "plt.scatter(x_values2, orders['revenue']) \n",
    "plt.title('Стоимость заказов по пользователям')\n",
    "plt.xlabel('Пользователи')\n",
    "plt.ylabel('Стоимость заказа')\n",
    "plt.grid(True)\n",
    "plt.show()"
   ]
  },
  {
   "cell_type": "markdown",
   "metadata": {},
   "source": [
    "Всего 2 заказы отбились от общей массы. Изменим масштаб."
   ]
  },
  {
   "cell_type": "code",
   "execution_count": 28,
   "metadata": {},
   "outputs": [
    {
     "data": {
      "image/png": "[encoded data removed]",
      "text/plain": [
       "<Figure size 1152x432 with 1 Axes>"
      ]
     },
     "metadata": {
      "needs_background": "light"
     },
     "output_type": "display_data"
    }
   ],
   "source": [
    "plt.figure(figsize=(16,6))\n",
    "plt.scatter(x_values2, orders['revenue'],alpha=0.3)\n",
    "plt.title('Стоимость заказов по пользователям')\n",
    "plt.xlabel('Пользователи')\n",
    "plt.ylabel('Стоимость заказа')\n",
    "plt.ylim([0, 100000])\n",
    "plt.grid(True)\n",
    "plt.show()"
   ]
  },
  {
   "cell_type": "markdown",
   "metadata": {},
   "source": [
    "БОльшая часть находится в пределах 20000. Точные цифры укажут перцентили."
   ]
  },
  {
   "cell_type": "markdown",
   "metadata": {},
   "source": [
    "### Посчитаем 95-й и 99-й перцентили стоимости заказов. Выберем границу."
   ]
  },
  {
   "cell_type": "code",
   "execution_count": 29,
   "metadata": {},
   "outputs": [
    {
     "data": {
      "text/plain": [
       "array([28000. , 58233.2])"
      ]
     },
     "execution_count": 29,
     "metadata": {},
     "output_type": "execute_result"
    }
   ],
   "source": [
    "np.percentile(orders['revenue'], [95, 99])"
   ]
  },
  {
   "cell_type": "markdown",
   "metadata": {},
   "source": [
    "Только 5% заказов больше 28тысяч, 1% - более 58233."
   ]
  },
  {
   "cell_type": "markdown",
   "metadata": {},
   "source": [
    "### Посчитаем статистическую значимость различий в конверсии между группами по сырым данным."
   ]
  },
  {
   "cell_type": "code",
   "execution_count": 30,
   "metadata": {},
   "outputs": [],
   "source": [
    "ordersByUsersA = (orders[orders['group'] == 'A'].groupby('visitor_id', as_index=False).agg({'transaction_id': pd.Series.nunique}))\n",
    "ordersByUsersA.columns = ['user_id', 'orders']\n",
    "ordersByUsersB = (orders[orders['group'] == 'B'].groupby('visitor_id', as_index=False).agg({'transaction_id': pd.Series.nunique}))\n",
    "ordersByUsersB.columns = ['user_id', 'orders']"
   ]
  },
  {
   "cell_type": "code",
   "execution_count": 31,
   "metadata": {},
   "outputs": [],
   "source": [
    "ordersByUsers = (orders.drop(['group', 'revenue', 'date'], axis=1)\n",
    "    .groupby('visitor_id', as_index=False).agg({'transaction_id': pd.Series.nunique}))"
   ]
  },
  {
   "cell_type": "code",
   "execution_count": 32,
   "metadata": {},
   "outputs": [],
   "source": [
    "sampleA = pd.concat([ordersByUsersA['orders'],pd.Series(0, index=np.arange(visitors[visitors['group'] == 'A']['visitors'].sum() - len(ordersByUsersA['orders'])), name='orders')],axis=0)\n",
    "sampleB = pd.concat([ordersByUsersB['orders'],pd.Series(0, index=np.arange(visitors[visitors['group'] == 'B']['visitors'].sum() - len(ordersByUsersB['orders'])), name='orders')],axis=0)"
   ]
  },
  {
   "cell_type": "code",
   "execution_count": 33,
   "metadata": {},
   "outputs": [
    {
     "data": {
      "text/plain": [
       "array([1, 4, 2, 3, 5, 7, 0])"
      ]
     },
     "execution_count": 33,
     "metadata": {},
     "output_type": "execute_result"
    }
   ],
   "source": [
    "sampleA.unique()"
   ]
  },
  {
   "cell_type": "code",
   "execution_count": 34,
   "metadata": {},
   "outputs": [
    {
     "data": {
      "text/plain": [
       "array([1, 3, 2, 5, 6, 4, 0])"
      ]
     },
     "execution_count": 34,
     "metadata": {},
     "output_type": "execute_result"
    }
   ],
   "source": [
    "sampleB.unique()"
   ]
  },
  {
   "cell_type": "markdown",
   "metadata": {},
   "source": [
    "В предыдущих данных было известно, что какие-то пользователи сделали 11 заказов,но в `sampleA` и `sampleB` это не отражено. Интересно."
   ]
  },
  {
   "cell_type": "code",
   "execution_count": 35,
   "metadata": {},
   "outputs": [
    {
     "data": {
      "text/plain": [
       "array([ 1,  2,  5,  3,  4,  8,  9, 11])"
      ]
     },
     "execution_count": 35,
     "metadata": {},
     "output_type": "execute_result"
    }
   ],
   "source": [
    "ordersByUsers['transaction_id'].unique()"
   ]
  },
  {
   "cell_type": "code",
   "execution_count": 36,
   "metadata": {},
   "outputs": [
    {
     "data": {
      "text/html": [
       "<div>\n",
       "<style scoped>\n",
       "    .dataframe tbody tr th:only-of-type {\n",
       "        vertical-align: middle;\n",
       "    }\n",
       "\n",
       "    .dataframe tbody tr th {\n",
       "        vertical-align: top;\n",
       "    }\n",
       "\n",
       "    .dataframe thead th {\n",
       "        text-align: right;\n",
       "    }\n",
       "</style>\n",
       "<table border=\"1\" class=\"dataframe\">\n",
       "  <thead>\n",
       "    <tr style=\"text-align: right;\">\n",
       "      <th></th>\n",
       "      <th>visitor_id</th>\n",
       "      <th>transaction_id</th>\n",
       "    </tr>\n",
       "  </thead>\n",
       "  <tbody>\n",
       "    <tr>\n",
       "      <td>591</td>\n",
       "      <td>2458001652</td>\n",
       "      <td>11</td>\n",
       "    </tr>\n",
       "    <tr>\n",
       "      <td>1023</td>\n",
       "      <td>4256040402</td>\n",
       "      <td>11</td>\n",
       "    </tr>\n",
       "  </tbody>\n",
       "</table>\n",
       "</div>"
      ],
      "text/plain": [
       "      visitor_id  transaction_id\n",
       "591   2458001652              11\n",
       "1023  4256040402              11"
      ]
     },
     "execution_count": 36,
     "metadata": {},
     "output_type": "execute_result"
    }
   ],
   "source": [
    "ordersByUsers[ordersByUsers['transaction_id']== 11]"
   ]
  },
  {
   "cell_type": "code",
   "execution_count": 37,
   "metadata": {},
   "outputs": [
    {
     "data": {
      "text/html": [
       "<div>\n",
       "<style scoped>\n",
       "    .dataframe tbody tr th:only-of-type {\n",
       "        vertical-align: middle;\n",
       "    }\n",
       "\n",
       "    .dataframe tbody tr th {\n",
       "        vertical-align: top;\n",
       "    }\n",
       "\n",
       "    .dataframe thead th {\n",
       "        text-align: right;\n",
       "    }\n",
       "</style>\n",
       "<table border=\"1\" class=\"dataframe\">\n",
       "  <thead>\n",
       "    <tr style=\"text-align: right;\">\n",
       "      <th></th>\n",
       "      <th>transaction_id</th>\n",
       "      <th>visitor_id</th>\n",
       "      <th>date</th>\n",
       "      <th>revenue</th>\n",
       "      <th>group</th>\n",
       "    </tr>\n",
       "  </thead>\n",
       "  <tbody>\n",
       "    <tr>\n",
       "      <td>60</td>\n",
       "      <td>1421016313</td>\n",
       "      <td>4256040402</td>\n",
       "      <td>2019-08-16</td>\n",
       "      <td>56650</td>\n",
       "      <td>B</td>\n",
       "    </tr>\n",
       "    <tr>\n",
       "      <td>114</td>\n",
       "      <td>1120327437</td>\n",
       "      <td>4256040402</td>\n",
       "      <td>2019-08-01</td>\n",
       "      <td>5800</td>\n",
       "      <td>A</td>\n",
       "    </tr>\n",
       "    <tr>\n",
       "      <td>187</td>\n",
       "      <td>2048878902</td>\n",
       "      <td>4256040402</td>\n",
       "      <td>2019-08-17</td>\n",
       "      <td>1550</td>\n",
       "      <td>A</td>\n",
       "    </tr>\n",
       "    <tr>\n",
       "      <td>253</td>\n",
       "      <td>1610091760</td>\n",
       "      <td>4256040402</td>\n",
       "      <td>2019-08-23</td>\n",
       "      <td>16950</td>\n",
       "      <td>A</td>\n",
       "    </tr>\n",
       "    <tr>\n",
       "      <td>263</td>\n",
       "      <td>2575861846</td>\n",
       "      <td>4256040402</td>\n",
       "      <td>2019-08-18</td>\n",
       "      <td>10970</td>\n",
       "      <td>B</td>\n",
       "    </tr>\n",
       "    <tr>\n",
       "      <td>588</td>\n",
       "      <td>3700356838</td>\n",
       "      <td>4256040402</td>\n",
       "      <td>2019-08-20</td>\n",
       "      <td>17650</td>\n",
       "      <td>A</td>\n",
       "    </tr>\n",
       "    <tr>\n",
       "      <td>873</td>\n",
       "      <td>2519737434</td>\n",
       "      <td>4256040402</td>\n",
       "      <td>2019-08-08</td>\n",
       "      <td>58220</td>\n",
       "      <td>B</td>\n",
       "    </tr>\n",
       "    <tr>\n",
       "      <td>901</td>\n",
       "      <td>3402467119</td>\n",
       "      <td>4256040402</td>\n",
       "      <td>2019-08-27</td>\n",
       "      <td>1630</td>\n",
       "      <td>A</td>\n",
       "    </tr>\n",
       "    <tr>\n",
       "      <td>1018</td>\n",
       "      <td>1415970216</td>\n",
       "      <td>4256040402</td>\n",
       "      <td>2019-08-31</td>\n",
       "      <td>5170</td>\n",
       "      <td>A</td>\n",
       "    </tr>\n",
       "    <tr>\n",
       "      <td>1019</td>\n",
       "      <td>453824282</td>\n",
       "      <td>4256040402</td>\n",
       "      <td>2019-08-31</td>\n",
       "      <td>1850</td>\n",
       "      <td>B</td>\n",
       "    </tr>\n",
       "    <tr>\n",
       "      <td>1091</td>\n",
       "      <td>750632879</td>\n",
       "      <td>4256040402</td>\n",
       "      <td>2019-08-12</td>\n",
       "      <td>50</td>\n",
       "      <td>A</td>\n",
       "    </tr>\n",
       "  </tbody>\n",
       "</table>\n",
       "</div>"
      ],
      "text/plain": [
       "      transaction_id  visitor_id       date  revenue group\n",
       "60        1421016313  4256040402 2019-08-16    56650     B\n",
       "114       1120327437  4256040402 2019-08-01     5800     A\n",
       "187       2048878902  4256040402 2019-08-17     1550     A\n",
       "253       1610091760  4256040402 2019-08-23    16950     A\n",
       "263       2575861846  4256040402 2019-08-18    10970     B\n",
       "588       3700356838  4256040402 2019-08-20    17650     A\n",
       "873       2519737434  4256040402 2019-08-08    58220     B\n",
       "901       3402467119  4256040402 2019-08-27     1630     A\n",
       "1018      1415970216  4256040402 2019-08-31     5170     A\n",
       "1019       453824282  4256040402 2019-08-31     1850     B\n",
       "1091       750632879  4256040402 2019-08-12       50     A"
      ]
     },
     "execution_count": 37,
     "metadata": {},
     "output_type": "execute_result"
    }
   ],
   "source": [
    "orders[orders['visitor_id']== 4256040402]"
   ]
  },
  {
   "cell_type": "markdown",
   "metadata": {},
   "source": [
    "Теперь понятно в чем дело. Один и тот же пользователь состоит в обоих группах. Как раз 11 заказов. Причем 31 числа слелал два заказа и попал в разные группы. Наверняка с остальными пользователями тоже самое."
   ]
  },
  {
   "cell_type": "markdown",
   "metadata": {},
   "source": [
    "Вернёмся к выборкам. Посчитаем статистическую значимость различий в конверсии"
   ]
  },
  {
   "cell_type": "code",
   "execution_count": 38,
   "metadata": {},
   "outputs": [
    {
     "name": "stdout",
     "output_type": "stream",
     "text": [
      "0.008396177528376304\n",
      "0.13807884655320146\n"
     ]
    }
   ],
   "source": [
    "print(st.mannwhitneyu(sampleA, sampleB)[1]) # p-value\n",
    "print(sampleB.mean() / sampleA.mean() - 1) # насколько различны"
   ]
  },
  {
   "cell_type": "markdown",
   "metadata": {},
   "source": [
    "p-value значительно меньше 5%. По сырым данным в конверсиях есть статистически значимые различия. А прирост конверсии группы B относительно группы A равен 13,8%. Нулевую гипотезу о равенстве отвергаем."
   ]
  },
  {
   "cell_type": "markdown",
   "metadata": {},
   "source": [
    "### Посчитаем статистическую значимость различий в среднем чеке заказа между группами по сырым данным."
   ]
  },
  {
   "cell_type": "code",
   "execution_count": 39,
   "metadata": {},
   "outputs": [
    {
     "data": {
      "text/plain": [
       "0.3646454927716229"
      ]
     },
     "execution_count": 39,
     "metadata": {},
     "output_type": "execute_result"
    }
   ],
   "source": [
    "st.mannwhitneyu(orders[orders['group']=='A']['revenue'], orders[orders['group']=='B']['revenue'])[1]"
   ]
  },
  {
   "cell_type": "code",
   "execution_count": 40,
   "metadata": {},
   "outputs": [
    {
     "data": {
      "text/plain": [
       "0.2587136699126005"
      ]
     },
     "execution_count": 40,
     "metadata": {},
     "output_type": "execute_result"
    }
   ],
   "source": [
    "orders[orders['group']=='B']['revenue'].mean() / orders[orders['group']=='A']['revenue'].mean()-1"
   ]
  },
  {
   "cell_type": "markdown",
   "metadata": {},
   "source": [
    "Здесь же P-value уже значительно больше 5%. Следовательно причин отвергать нулевую гипотезу и считать, что в средних чеках есть различия нет. Однако прирост среднего чека группы B составил 25.8%. Не исключено, что в группе B большие анамальные заказы, они и создали такой сильный прирост."
   ]
  },
  {
   "cell_type": "markdown",
   "metadata": {},
   "source": [
    "### Посчитаем статистическую значимость различий в конверсии между группами по очищенным данным."
   ]
  },
  {
   "cell_type": "markdown",
   "metadata": {},
   "source": [
    "Попробуем очистить данные от аномальных значений и посмотрим как изменятся результаты тестов.\n",
    "\n",
    "95-й и 99-й перцентили средних чеков равны 28000 и 58233.2 рублям.\n",
    "\n",
    "95-й и 99-й перцентили количества заказов на одного пользователя равны 2 и 4 заказам.\n",
    "\n",
    "Уберем 5% пользователей, кто сделал заказ больше 28000 и 5%, кто сделал больше 2 заказов. Сделаем срезы и исключим их из наших данных.\n",
    "\n",
    "Тут есть одно противоречие. Например, взять нашего пользователя с 11 заказами. Он делал как большие заказы больше 50000, так и маленькие. Таким образом, по первому критерию мы должны его 'очистить' вместе с данными маленьких заказов. Но по второму критерию, он сделал 7 заказов в группе A и 4 заказа в группе B и тоже должен быть 'очищен' полностью,т.к заказов больше 2.\n",
    "\n",
    "Но допустим, есть некий пользователь в группе B с двумя заказами на 30000 и 3000. По первому критерию он должен быть 'очищен', а по второму нет. Таким образом, теряется заказ этого пользователя на 3000, хотя по логике он теряться не должен.\n",
    "\n",
    "Поэтому первый критерий немного изменим. Просто удалим аномальные покупки, а уже потом отфильтруем от всех пользователей кто сделал больше 2 покупок.\n",
    "\n",
    "В итоге мы получим, что аномальные пользозователи делали визиты на сайт, но как будто ничего не покупали."
   ]
  },
  {
   "cell_type": "code",
   "execution_count": 41,
   "metadata": {},
   "outputs": [],
   "source": [
    "orders_filtered = orders.query('revenue <= 28000').reset_index(drop=True)\n",
    "ordersByUsersA_filtered = (orders_filtered[orders_filtered['group'] == 'A'].groupby('visitor_id', as_index=False).agg({'transaction_id': pd.Series.nunique}))\n",
    "ordersByUsersA_filtered.columns = ['user_id', 'orders']\n",
    "ordersByUsersA_filtered = ordersByUsersA_filtered.query('orders <=2').reset_index(drop=True)\n",
    "ordersByUsersB_filtered = (orders_filtered[orders_filtered['group'] == 'B'].groupby('visitor_id', as_index=False).agg({'transaction_id': pd.Series.nunique}))\n",
    "ordersByUsersB_filtered.columns = ['user_id', 'orders']\n",
    "ordersByUsersB_filtered = ordersByUsersB_filtered.query('orders <=2').reset_index(drop=True)"
   ]
  },
  {
   "cell_type": "code",
   "execution_count": 42,
   "metadata": {},
   "outputs": [],
   "source": [
    "sampleA_filtered = pd.concat([ordersByUsersA_filtered['orders'],pd.Series(0, index=np.arange(visitors[visitors['group'] == 'A']['visitors'].sum() - len(ordersByUsersA_filtered['orders'])), name='orders')],axis=0).reset_index(drop=True)\n",
    "sampleB_filtered = pd.concat([ordersByUsersB_filtered['orders'],pd.Series(0, index=np.arange(visitors[visitors['group'] == 'B']['visitors'].sum() - len(ordersByUsersB_filtered['orders'])), name='orders')],axis=0).reset_index(drop=True)"
   ]
  },
  {
   "cell_type": "code",
   "execution_count": 43,
   "metadata": {},
   "outputs": [
    {
     "name": "stdout",
     "output_type": "stream",
     "text": [
      "Было\n",
      "0.008396177528376304\n",
      "0.13807884655320146\n",
      "Стало\n",
      "0.007571533738051045\n",
      "0.17131954419144169\n"
     ]
    }
   ],
   "source": [
    "print('Было')\n",
    "print(st.mannwhitneyu(sampleA, sampleB)[1]) # было\n",
    "print(sampleB.mean() / sampleA.mean() - 1)\n",
    "print('Стало')\n",
    "print(st.mannwhitneyu(sampleA_filtered, sampleB_filtered)[1]) # очищенные данные\n",
    "print(sampleB_filtered.mean() / sampleA_filtered.mean() - 1)"
   ]
  },
  {
   "cell_type": "markdown",
   "metadata": {},
   "source": [
    "Результат не сильно изменился. P-value даже немного уменьшился, а относительная разница увеличилась."
   ]
  },
  {
   "cell_type": "markdown",
   "metadata": {},
   "source": [
    "### Посчитаем статистическую значимость различий в среднем чеке заказа между группами по очищенным данным."
   ]
  },
  {
   "cell_type": "code",
   "execution_count": 44,
   "metadata": {},
   "outputs": [
    {
     "name": "stdout",
     "output_type": "stream",
     "text": [
      "Было\n",
      "0.3646454927716229\n",
      "0.2587136699126005\n",
      "Стало\n",
      "0.4259370929702875\n",
      "-0.016217981630632927\n"
     ]
    }
   ],
   "source": [
    "print('Было')\n",
    "print(st.mannwhitneyu(orders[orders['group']=='A']['revenue'], orders[orders['group']=='B']['revenue'])[1])\n",
    "print(orders[orders['group']=='B']['revenue'].mean() / orders[orders['group']=='A']['revenue'].mean()-1)\n",
    "print('Стало')\n",
    "print(st.mannwhitneyu(orders_filtered[orders_filtered['group']=='A']['revenue'], orders_filtered[orders_filtered['group']=='B']['revenue'])[1])\n",
    "print(orders_filtered[orders_filtered['group']=='B']['revenue'].mean() / orders_filtered[orders_filtered['group']=='A']['revenue'].mean()-1)"
   ]
  },
  {
   "cell_type": "markdown",
   "metadata": {},
   "source": [
    "По средним чекам статистической значимости как не было, так и нет. После очистки от аномалий прирост среднего чека в +25,8% сменился на падение -1,6%."
   ]
  },
  {
   "cell_type": "code",
   "execution_count": 45,
   "metadata": {},
   "outputs": [
    {
     "name": "stdout",
     "output_type": "stream",
     "text": [
      "Было\n",
      "7333.578096947936\n",
      "9230.875\n",
      "Стало\n",
      "5213.212806026366\n",
      "5128.66501650165\n"
     ]
    }
   ],
   "source": [
    "# средние чеки\n",
    "print('Было')\n",
    "print(orders.query('group == \"A\"')['revenue'].mean())\n",
    "print(orders.query('group == \"B\"')['revenue'].mean())\n",
    "print('Стало')\n",
    "print(orders_filtered.query('group == \"A\"')['revenue'].mean())\n",
    "print(orders_filtered.query('group == \"B\"')['revenue'].mean())"
   ]
  },
  {
   "cell_type": "markdown",
   "metadata": {},
   "source": [
    "Аномальные данные влияли на B группу слишком сильно. Всего 5% пользователей своими большими заказами увеличивали средний почти в 2 раза. После очистки средние чеки по группам практически сравнялись."
   ]
  },
  {
   "cell_type": "markdown",
   "metadata": {},
   "source": [
    "### Решение по результатам теста."
   ]
  },
  {
   "cell_type": "code",
   "execution_count": 46,
   "metadata": {},
   "outputs": [
    {
     "data": {
      "text/html": [
       "<div>\n",
       "<style scoped>\n",
       "    .dataframe tbody tr th:only-of-type {\n",
       "        vertical-align: middle;\n",
       "    }\n",
       "\n",
       "    .dataframe tbody tr th {\n",
       "        vertical-align: top;\n",
       "    }\n",
       "\n",
       "    .dataframe thead th {\n",
       "        text-align: right;\n",
       "    }\n",
       "</style>\n",
       "<table border=\"1\" class=\"dataframe\">\n",
       "  <thead>\n",
       "    <tr style=\"text-align: right;\">\n",
       "      <th></th>\n",
       "      <th>revenueA</th>\n",
       "      <th>revenueB</th>\n",
       "      <th>cumulative_revenueA</th>\n",
       "      <th>cumulative_revenueB</th>\n",
       "    </tr>\n",
       "    <tr>\n",
       "      <th>date</th>\n",
       "      <th></th>\n",
       "      <th></th>\n",
       "      <th></th>\n",
       "      <th></th>\n",
       "    </tr>\n",
       "  </thead>\n",
       "  <tbody>\n",
       "    <tr>\n",
       "      <td>2019-08-27</td>\n",
       "      <td>143345</td>\n",
       "      <td>61057</td>\n",
       "      <td>2395126</td>\n",
       "      <td>2657171</td>\n",
       "    </tr>\n",
       "    <tr>\n",
       "      <td>2019-08-28</td>\n",
       "      <td>101122</td>\n",
       "      <td>96008</td>\n",
       "      <td>2496248</td>\n",
       "      <td>2753179</td>\n",
       "    </tr>\n",
       "    <tr>\n",
       "      <td>2019-08-29</td>\n",
       "      <td>123675</td>\n",
       "      <td>121150</td>\n",
       "      <td>2619923</td>\n",
       "      <td>2874329</td>\n",
       "    </tr>\n",
       "    <tr>\n",
       "      <td>2019-08-30</td>\n",
       "      <td>86460</td>\n",
       "      <td>100513</td>\n",
       "      <td>2706383</td>\n",
       "      <td>2974842</td>\n",
       "    </tr>\n",
       "    <tr>\n",
       "      <td>2019-08-31</td>\n",
       "      <td>61833</td>\n",
       "      <td>133129</td>\n",
       "      <td>2768216</td>\n",
       "      <td>3107971</td>\n",
       "    </tr>\n",
       "  </tbody>\n",
       "</table>\n",
       "</div>"
      ],
      "text/plain": [
       "            revenueA  revenueB  cumulative_revenueA  cumulative_revenueB\n",
       "date                                                                    \n",
       "2019-08-27    143345     61057              2395126              2657171\n",
       "2019-08-28    101122     96008              2496248              2753179\n",
       "2019-08-29    123675    121150              2619923              2874329\n",
       "2019-08-30     86460    100513              2706383              2974842\n",
       "2019-08-31     61833    133129              2768216              3107971"
      ]
     },
     "execution_count": 46,
     "metadata": {},
     "output_type": "execute_result"
    }
   ],
   "source": [
    "orders_days = orders_filtered.groupby(['date','group'])['revenue'].sum().reset_index()\n",
    "visitors_days = visitors.groupby(['date','group'])['visitors'].sum().reset_index()\n",
    "orders_days['cumulative_revenue'] = orders_days.groupby('group')['revenue'].cumsum()\n",
    "orders_days = orders_days.pivot(index='date',columns='group',values=['revenue','cumulative_revenue'])\n",
    "orders_days.columns = ['revenueA','revenueB','cumulative_revenueA','cumulative_revenueB']\n",
    "orders_days.tail()"
   ]
  },
  {
   "cell_type": "code",
   "execution_count": 47,
   "metadata": {},
   "outputs": [
    {
     "data": {
      "image/png": "[encoded data removed]",
      "text/plain": [
       "<Figure size 1080x360 with 1 Axes>"
      ]
     },
     "metadata": {
      "needs_background": "light"
     },
     "output_type": "display_data"
    }
   ],
   "source": [
    "fig = plt.subplots(figsize=(15, 5))\n",
    "plt.plot(orders_days['cumulative_revenueA'], label='A')\n",
    "plt.plot(orders_days['cumulative_revenueB'], label='B')\n",
    "plt.title('Рост выручки групп после фильтрации данных')\n",
    "plt.xlabel('Дата')\n",
    "plt.ylabel('Выручка')\n",
    "plt.grid(True)\n",
    "plt.legend()\n",
    "plt.show()"
   ]
  },
  {
   "cell_type": "code",
   "execution_count": 48,
   "metadata": {},
   "outputs": [
    {
     "data": {
      "text/html": [
       "<div>\n",
       "<style scoped>\n",
       "    .dataframe tbody tr th:only-of-type {\n",
       "        vertical-align: middle;\n",
       "    }\n",
       "\n",
       "    .dataframe tbody tr th {\n",
       "        vertical-align: top;\n",
       "    }\n",
       "\n",
       "    .dataframe thead th {\n",
       "        text-align: right;\n",
       "    }\n",
       "</style>\n",
       "<table border=\"1\" class=\"dataframe\">\n",
       "  <thead>\n",
       "    <tr style=\"text-align: right;\">\n",
       "      <th></th>\n",
       "      <th>visitor_id</th>\n",
       "    </tr>\n",
       "    <tr>\n",
       "      <th>group</th>\n",
       "      <th></th>\n",
       "    </tr>\n",
       "  </thead>\n",
       "  <tbody>\n",
       "    <tr>\n",
       "      <td>A</td>\n",
       "      <td>479</td>\n",
       "    </tr>\n",
       "    <tr>\n",
       "      <td>B</td>\n",
       "      <td>557</td>\n",
       "    </tr>\n",
       "  </tbody>\n",
       "</table>\n",
       "</div>"
      ],
      "text/plain": [
       "       visitor_id\n",
       "group            \n",
       "A             479\n",
       "B             557"
      ]
     },
     "execution_count": 48,
     "metadata": {},
     "output_type": "execute_result"
    }
   ],
   "source": [
    "orders_filtered.groupby('group').agg({'visitor_id': 'nunique'})"
   ]
  },
  {
   "cell_type": "markdown",
   "metadata": {},
   "source": [
    "**Итак, что можно сказать по результатам теста. Конверсия улучшилась на 17%, визитеры конвертируются в покупателей чаще, как по сырым данным, так и после фильтрации.**\n",
    "\n",
    "**По среднему чеку нет статистически значимых различий. Сам средний чек практически не изменился.**\n",
    "\n",
    "**Выручка у B-группы лучше, но и конвертнутых пользователей в В-группе больше. Оттого В-группа показала лушие результаты.**\n",
    "\n",
    "**Получается после введения изменений----> Конверсия возросла ----> Пользователи стали чаще покупать ---> Рост выручки.\n",
    "Но на средний чек изменения не повлияли.**\n",
    "\n",
    "**Тест можно останавливать. Результаты можно считать позитивными.**\n"
   ]
  }
 ],
 "metadata": {
  "ExecuteTimeLog": [
   {
    "duration": 3,
    "start_time": "2021-09-27T14:14:20.821Z"
   },
   {
    "duration": 1151,
    "start_time": "2021-09-27T14:16:36.032Z"
   },
   {
    "duration": 71,
    "start_time": "2021-09-27T14:16:40.041Z"
   },
   {
    "duration": 11,
    "start_time": "2021-09-27T14:23:36.041Z"
   },
   {
    "duration": 69,
    "start_time": "2021-09-27T14:24:08.021Z"
   },
   {
    "duration": 8,
    "start_time": "2021-09-27T14:24:10.050Z"
   },
   {
    "duration": 68,
    "start_time": "2021-09-27T14:24:25.361Z"
   },
   {
    "duration": 5,
    "start_time": "2021-09-27T14:24:30.251Z"
   },
   {
    "duration": 7132,
    "start_time": "2021-09-27T14:25:18.004Z"
   },
   {
    "duration": -733,
    "start_time": "2021-09-27T14:25:36.395Z"
   },
   {
    "duration": 9,
    "start_time": "2021-09-27T14:25:39.855Z"
   },
   {
    "duration": 9,
    "start_time": "2021-09-27T14:26:22.363Z"
   },
   {
    "duration": 8,
    "start_time": "2021-09-27T14:26:31.627Z"
   },
   {
    "duration": 9,
    "start_time": "2021-09-27T14:26:42.287Z"
   },
   {
    "duration": 5,
    "start_time": "2021-09-27T14:26:47.466Z"
   },
   {
    "duration": 3,
    "start_time": "2021-09-27T14:27:03.797Z"
   },
   {
    "duration": 8,
    "start_time": "2021-09-27T14:27:09.598Z"
   },
   {
    "duration": 12,
    "start_time": "2021-09-27T14:27:27.037Z"
   },
   {
    "duration": 11,
    "start_time": "2021-09-27T14:27:49.004Z"
   },
   {
    "duration": 8,
    "start_time": "2021-09-27T14:28:02.105Z"
   },
   {
    "duration": 11,
    "start_time": "2021-09-27T14:58:20.878Z"
   },
   {
    "duration": 9,
    "start_time": "2021-09-27T14:58:27.187Z"
   },
   {
    "duration": 10,
    "start_time": "2021-09-27T15:01:54.283Z"
   },
   {
    "duration": 10,
    "start_time": "2021-09-27T15:02:14.340Z"
   },
   {
    "duration": 1571,
    "start_time": "2021-09-28T10:53:00.666Z"
   },
   {
    "duration": 75,
    "start_time": "2021-09-28T10:53:02.240Z"
   },
   {
    "duration": 23,
    "start_time": "2021-09-28T10:53:02.317Z"
   },
   {
    "duration": 35,
    "start_time": "2021-09-28T10:53:02.343Z"
   },
   {
    "duration": 14,
    "start_time": "2021-09-28T10:53:02.380Z"
   },
   {
    "duration": 33,
    "start_time": "2021-09-28T10:53:02.396Z"
   },
   {
    "duration": 3,
    "start_time": "2021-09-28T11:15:17.601Z"
   },
   {
    "duration": 13,
    "start_time": "2021-09-28T11:15:39.012Z"
   },
   {
    "duration": 134,
    "start_time": "2021-09-28T11:17:03.249Z"
   },
   {
    "duration": 545,
    "start_time": "2021-09-28T11:17:10.697Z"
   },
   {
    "duration": 4,
    "start_time": "2021-09-28T11:18:52.258Z"
   },
   {
    "duration": 12,
    "start_time": "2021-09-28T11:18:55.017Z"
   },
   {
    "duration": 9,
    "start_time": "2021-09-28T11:19:43.061Z"
   },
   {
    "duration": 12,
    "start_time": "2021-09-28T11:19:52.070Z"
   },
   {
    "duration": 1240,
    "start_time": "2021-09-28T11:21:01.381Z"
   },
   {
    "duration": 64,
    "start_time": "2021-09-28T11:21:02.623Z"
   },
   {
    "duration": 13,
    "start_time": "2021-09-28T11:21:02.690Z"
   },
   {
    "duration": 14,
    "start_time": "2021-09-28T11:21:02.706Z"
   },
   {
    "duration": 20,
    "start_time": "2021-09-28T11:21:02.721Z"
   },
   {
    "duration": 18,
    "start_time": "2021-09-28T11:21:02.743Z"
   },
   {
    "duration": 23,
    "start_time": "2021-09-28T11:21:02.763Z"
   },
   {
    "duration": 12,
    "start_time": "2021-09-28T11:21:02.787Z"
   },
   {
    "duration": 31,
    "start_time": "2021-09-28T11:21:02.801Z"
   },
   {
    "duration": 8,
    "start_time": "2021-09-28T11:24:00.043Z"
   },
   {
    "duration": 7,
    "start_time": "2021-09-28T11:24:42.224Z"
   },
   {
    "duration": 1944,
    "start_time": "2021-09-28T11:25:38.088Z"
   },
   {
    "duration": 3,
    "start_time": "2021-09-28T11:26:24.469Z"
   },
   {
    "duration": 13,
    "start_time": "2021-09-28T11:27:06.615Z"
   },
   {
    "duration": 6,
    "start_time": "2021-09-28T11:27:58.433Z"
   },
   {
    "duration": 7,
    "start_time": "2021-09-28T11:31:39.490Z"
   },
   {
    "duration": 7,
    "start_time": "2021-09-28T11:31:59.567Z"
   },
   {
    "duration": 6,
    "start_time": "2021-09-28T11:32:44.679Z"
   },
   {
    "duration": 1200,
    "start_time": "2021-09-28T11:35:09.069Z"
   },
   {
    "duration": 64,
    "start_time": "2021-09-28T11:35:10.271Z"
   },
   {
    "duration": 16,
    "start_time": "2021-09-28T11:35:10.337Z"
   },
   {
    "duration": 21,
    "start_time": "2021-09-28T11:35:10.354Z"
   },
   {
    "duration": 20,
    "start_time": "2021-09-28T11:35:10.377Z"
   },
   {
    "duration": 30,
    "start_time": "2021-09-28T11:35:10.399Z"
   },
   {
    "duration": 38,
    "start_time": "2021-09-28T11:35:10.431Z"
   },
   {
    "duration": 34,
    "start_time": "2021-09-28T11:35:10.471Z"
   },
   {
    "duration": 29,
    "start_time": "2021-09-28T11:35:10.507Z"
   },
   {
    "duration": 24,
    "start_time": "2021-09-28T11:35:10.538Z"
   },
   {
    "duration": 47,
    "start_time": "2021-09-28T11:35:10.564Z"
   },
   {
    "duration": 456,
    "start_time": "2021-09-28T11:37:26.930Z"
   },
   {
    "duration": 3,
    "start_time": "2021-09-28T11:38:48.979Z"
   },
   {
    "duration": 4,
    "start_time": "2021-09-28T11:39:19.199Z"
   },
   {
    "duration": 10,
    "start_time": "2021-09-28T11:39:24.742Z"
   },
   {
    "duration": 11325,
    "start_time": "2021-09-28T11:41:56.095Z"
   },
   {
    "duration": 3768,
    "start_time": "2021-09-28T11:43:07.816Z"
   },
   {
    "duration": 13,
    "start_time": "2021-09-28T11:43:21.832Z"
   },
   {
    "duration": 11,
    "start_time": "2021-09-28T11:43:45.711Z"
   },
   {
    "duration": 10,
    "start_time": "2021-09-28T11:43:51.410Z"
   },
   {
    "duration": 11,
    "start_time": "2021-09-28T11:45:41.755Z"
   },
   {
    "duration": 3885,
    "start_time": "2021-09-28T11:46:28.932Z"
   },
   {
    "duration": 11,
    "start_time": "2021-09-28T11:48:38.802Z"
   },
   {
    "duration": 8,
    "start_time": "2021-09-28T11:50:40.081Z"
   },
   {
    "duration": 14,
    "start_time": "2021-09-28T11:51:13.251Z"
   },
   {
    "duration": 11,
    "start_time": "2021-09-28T11:52:05.540Z"
   },
   {
    "duration": 13,
    "start_time": "2021-09-28T11:53:25.030Z"
   },
   {
    "duration": 11,
    "start_time": "2021-09-28T11:53:34.079Z"
   },
   {
    "duration": 15,
    "start_time": "2021-09-28T11:53:36.390Z"
   },
   {
    "duration": 11,
    "start_time": "2021-09-28T11:53:57.949Z"
   },
   {
    "duration": 15,
    "start_time": "2021-09-28T11:53:59.957Z"
   },
   {
    "duration": 10,
    "start_time": "2021-09-28T11:54:12.029Z"
   },
   {
    "duration": 14,
    "start_time": "2021-09-28T11:54:14.157Z"
   },
   {
    "duration": 12,
    "start_time": "2021-09-28T11:54:42.156Z"
   },
   {
    "duration": 12,
    "start_time": "2021-09-28T11:54:43.987Z"
   },
   {
    "duration": 407,
    "start_time": "2021-09-28T11:55:55.423Z"
   },
   {
    "duration": 9,
    "start_time": "2021-09-28T11:55:59.335Z"
   },
   {
    "duration": 288,
    "start_time": "2021-09-28T12:00:40.314Z"
   },
   {
    "duration": 690,
    "start_time": "2021-09-28T12:02:12.007Z"
   },
   {
    "duration": 602,
    "start_time": "2021-09-28T12:02:39.248Z"
   },
   {
    "duration": 686,
    "start_time": "2021-09-28T12:02:47.119Z"
   },
   {
    "duration": 782,
    "start_time": "2021-09-28T12:02:59.572Z"
   },
   {
    "duration": 692,
    "start_time": "2021-09-28T12:04:30.978Z"
   },
   {
    "duration": 842,
    "start_time": "2021-09-28T12:06:49.090Z"
   },
   {
    "duration": 729,
    "start_time": "2021-09-28T12:07:10.466Z"
   },
   {
    "duration": 672,
    "start_time": "2021-09-28T12:07:19.378Z"
   },
   {
    "duration": 844,
    "start_time": "2021-09-28T12:07:36.851Z"
   },
   {
    "duration": 396,
    "start_time": "2021-09-28T12:08:26.936Z"
   },
   {
    "duration": 400,
    "start_time": "2021-09-28T12:10:13.153Z"
   },
   {
    "duration": 362,
    "start_time": "2021-09-28T12:10:31.312Z"
   },
   {
    "duration": 574,
    "start_time": "2021-09-28T12:10:40.873Z"
   },
   {
    "duration": 735,
    "start_time": "2021-09-28T12:11:04.040Z"
   },
   {
    "duration": 505,
    "start_time": "2021-09-28T12:13:06.911Z"
   },
   {
    "duration": 518,
    "start_time": "2021-09-28T12:14:17.217Z"
   },
   {
    "duration": 596,
    "start_time": "2021-09-28T12:17:09.332Z"
   },
   {
    "duration": 593,
    "start_time": "2021-09-28T12:18:04.780Z"
   },
   {
    "duration": 222,
    "start_time": "2021-09-28T12:18:21.460Z"
   },
   {
    "duration": 209,
    "start_time": "2021-09-28T12:18:38.060Z"
   },
   {
    "duration": 220,
    "start_time": "2021-09-28T12:19:10.562Z"
   },
   {
    "duration": 221,
    "start_time": "2021-09-28T12:19:21.074Z"
   },
   {
    "duration": 214,
    "start_time": "2021-09-28T12:19:40.642Z"
   },
   {
    "duration": 3,
    "start_time": "2021-09-28T12:25:15.724Z"
   },
   {
    "duration": 4,
    "start_time": "2021-09-28T12:25:23.283Z"
   },
   {
    "duration": 680,
    "start_time": "2021-09-28T12:25:55.091Z"
   },
   {
    "duration": 583,
    "start_time": "2021-09-28T12:26:36.532Z"
   },
   {
    "duration": 584,
    "start_time": "2021-09-28T12:32:14.853Z"
   },
   {
    "duration": 592,
    "start_time": "2021-09-28T12:33:48.003Z"
   },
   {
    "duration": 212,
    "start_time": "2021-09-28T12:38:45.462Z"
   },
   {
    "duration": 274,
    "start_time": "2021-09-28T12:47:37.201Z"
   },
   {
    "duration": 757,
    "start_time": "2021-09-28T12:49:03.750Z"
   },
   {
    "duration": 140,
    "start_time": "2021-09-28T12:50:24.830Z"
   },
   {
    "duration": 268,
    "start_time": "2021-09-28T12:50:31.799Z"
   },
   {
    "duration": 298,
    "start_time": "2021-09-28T12:52:30.436Z"
   },
   {
    "duration": 267,
    "start_time": "2021-09-28T12:53:21.716Z"
   },
   {
    "duration": 289,
    "start_time": "2021-09-28T12:53:39.387Z"
   },
   {
    "duration": 296,
    "start_time": "2021-09-28T12:54:01.107Z"
   },
   {
    "duration": 294,
    "start_time": "2021-09-28T12:54:31.091Z"
   },
   {
    "duration": 299,
    "start_time": "2021-09-28T12:55:00.769Z"
   },
   {
    "duration": 271,
    "start_time": "2021-09-28T12:55:27.897Z"
   },
   {
    "duration": 12,
    "start_time": "2021-09-28T13:07:31.392Z"
   },
   {
    "duration": 10,
    "start_time": "2021-09-28T13:13:35.217Z"
   },
   {
    "duration": 9,
    "start_time": "2021-09-28T13:13:37.566Z"
   },
   {
    "duration": 13,
    "start_time": "2021-09-28T13:14:19.396Z"
   },
   {
    "duration": 9446,
    "start_time": "2021-09-28T13:16:07.577Z"
   },
   {
    "duration": 275,
    "start_time": "2021-09-28T13:17:00.166Z"
   },
   {
    "duration": 356,
    "start_time": "2021-09-28T13:17:04.231Z"
   },
   {
    "duration": 7,
    "start_time": "2021-09-28T13:32:27.554Z"
   },
   {
    "duration": 11,
    "start_time": "2021-09-28T13:32:33.432Z"
   },
   {
    "duration": 115,
    "start_time": "2021-09-28T13:34:44.286Z"
   },
   {
    "duration": 119,
    "start_time": "2021-09-28T13:34:58.819Z"
   },
   {
    "duration": 162,
    "start_time": "2021-09-28T13:36:16.198Z"
   },
   {
    "duration": 254,
    "start_time": "2021-09-28T13:36:31.983Z"
   },
   {
    "duration": 410,
    "start_time": "2021-09-28T13:37:05.863Z"
   },
   {
    "duration": 392,
    "start_time": "2021-09-28T13:37:21.289Z"
   },
   {
    "duration": 668,
    "start_time": "2021-09-28T13:37:29.612Z"
   },
   {
    "duration": 351,
    "start_time": "2021-09-28T13:37:34.000Z"
   },
   {
    "duration": 17,
    "start_time": "2021-09-28T13:51:17.863Z"
   },
   {
    "duration": 4,
    "start_time": "2021-09-28T13:51:37.357Z"
   },
   {
    "duration": 18,
    "start_time": "2021-09-28T13:51:39.676Z"
   },
   {
    "duration": 223,
    "start_time": "2021-09-28T13:53:33.239Z"
   },
   {
    "duration": 417,
    "start_time": "2021-09-28T13:55:10.005Z"
   },
   {
    "duration": 287,
    "start_time": "2021-09-28T13:55:17.485Z"
   },
   {
    "duration": 3,
    "start_time": "2021-09-28T14:32:31.368Z"
   },
   {
    "duration": 6,
    "start_time": "2021-09-28T14:35:36.910Z"
   },
   {
    "duration": 300,
    "start_time": "2021-09-28T14:35:38.961Z"
   },
   {
    "duration": 271,
    "start_time": "2021-09-28T14:37:29.864Z"
   },
   {
    "duration": 379,
    "start_time": "2021-09-28T14:40:19.160Z"
   },
   {
    "duration": 3,
    "start_time": "2021-09-28T14:48:40.191Z"
   },
   {
    "duration": 115,
    "start_time": "2021-09-28T14:55:00.786Z"
   },
   {
    "duration": 8,
    "start_time": "2021-09-28T14:55:06.108Z"
   },
   {
    "duration": 344,
    "start_time": "2021-09-28T14:55:59.106Z"
   },
   {
    "duration": 274,
    "start_time": "2021-09-28T14:56:08.476Z"
   },
   {
    "duration": 10062,
    "start_time": "2021-09-28T14:58:49.590Z"
   },
   {
    "duration": 436,
    "start_time": "2021-09-28T14:59:14.530Z"
   },
   {
    "duration": 372,
    "start_time": "2021-09-28T15:01:34.107Z"
   },
   {
    "duration": 5,
    "start_time": "2021-09-28T15:01:53.392Z"
   },
   {
    "duration": 5,
    "start_time": "2021-09-28T15:02:04.249Z"
   },
   {
    "duration": 8,
    "start_time": "2021-09-28T15:02:28.308Z"
   },
   {
    "duration": 3,
    "start_time": "2021-09-28T19:23:58.000Z"
   },
   {
    "duration": 5,
    "start_time": "2021-09-28T19:24:40.184Z"
   },
   {
    "duration": 5,
    "start_time": "2021-09-28T19:26:05.994Z"
   },
   {
    "duration": 4,
    "start_time": "2021-09-28T19:26:21.268Z"
   },
   {
    "duration": 5,
    "start_time": "2021-09-28T19:26:25.925Z"
   },
   {
    "duration": 5,
    "start_time": "2021-09-28T19:26:32.513Z"
   },
   {
    "duration": 3,
    "start_time": "2021-09-28T19:31:46.795Z"
   },
   {
    "duration": 9,
    "start_time": "2021-09-28T19:37:03.159Z"
   },
   {
    "duration": 346,
    "start_time": "2021-09-28T19:39:11.750Z"
   },
   {
    "duration": 327,
    "start_time": "2021-09-28T19:43:33.380Z"
   },
   {
    "duration": 501,
    "start_time": "2021-09-28T19:46:42.309Z"
   },
   {
    "duration": 25002,
    "start_time": "2021-09-28T19:48:50.098Z"
   },
   {
    "duration": 351,
    "start_time": "2021-09-28T19:49:50.448Z"
   },
   {
    "duration": 318,
    "start_time": "2021-09-28T19:51:35.202Z"
   },
   {
    "duration": 293,
    "start_time": "2021-09-28T19:57:46.840Z"
   },
   {
    "duration": 313,
    "start_time": "2021-09-28T19:58:21.991Z"
   },
   {
    "duration": 337,
    "start_time": "2021-09-28T19:58:30.812Z"
   },
   {
    "duration": 357,
    "start_time": "2021-09-28T19:58:52.150Z"
   },
   {
    "duration": 397,
    "start_time": "2021-09-28T19:58:58.461Z"
   },
   {
    "duration": 363,
    "start_time": "2021-09-28T19:59:05.152Z"
   },
   {
    "duration": 433,
    "start_time": "2021-09-28T19:59:18.382Z"
   },
   {
    "duration": 321,
    "start_time": "2021-09-28T20:00:42.021Z"
   },
   {
    "duration": 321,
    "start_time": "2021-09-28T20:00:44.371Z"
   },
   {
    "duration": 135,
    "start_time": "2021-09-28T20:06:54.221Z"
   },
   {
    "duration": 6,
    "start_time": "2021-09-28T20:08:25.603Z"
   },
   {
    "duration": 5,
    "start_time": "2021-09-28T20:09:07.181Z"
   },
   {
    "duration": 5,
    "start_time": "2021-09-28T20:09:13.632Z"
   },
   {
    "duration": 571,
    "start_time": "2021-09-28T20:14:41.820Z"
   },
   {
    "duration": 576,
    "start_time": "2021-09-28T20:15:22.829Z"
   },
   {
    "duration": 308,
    "start_time": "2021-09-28T20:15:39.510Z"
   },
   {
    "duration": 354,
    "start_time": "2021-09-28T20:15:57.280Z"
   },
   {
    "duration": 692,
    "start_time": "2021-09-28T20:16:38.745Z"
   },
   {
    "duration": 479,
    "start_time": "2021-09-28T20:18:24.120Z"
   },
   {
    "duration": 493,
    "start_time": "2021-09-28T20:18:43.211Z"
   },
   {
    "duration": 399,
    "start_time": "2021-09-28T20:31:13.650Z"
   },
   {
    "duration": 13,
    "start_time": "2021-09-28T20:42:44.848Z"
   },
   {
    "duration": 13,
    "start_time": "2021-09-28T22:12:34.799Z"
   },
   {
    "duration": 122,
    "start_time": "2021-09-28T22:14:53.753Z"
   },
   {
    "duration": 9,
    "start_time": "2021-09-28T22:15:02.174Z"
   },
   {
    "duration": 8,
    "start_time": "2021-09-28T22:15:12.556Z"
   },
   {
    "duration": 10,
    "start_time": "2021-09-28T22:21:47.124Z"
   },
   {
    "duration": 6,
    "start_time": "2021-09-28T22:24:48.107Z"
   },
   {
    "duration": 6,
    "start_time": "2021-09-28T22:24:58.729Z"
   },
   {
    "duration": 5,
    "start_time": "2021-09-28T22:25:24.860Z"
   },
   {
    "duration": 9,
    "start_time": "2021-09-28T22:26:23.205Z"
   },
   {
    "duration": 5,
    "start_time": "2021-09-28T22:26:31.796Z"
   },
   {
    "duration": 9,
    "start_time": "2021-09-28T22:26:50.344Z"
   },
   {
    "duration": 4,
    "start_time": "2021-09-28T22:26:52.535Z"
   },
   {
    "duration": 10,
    "start_time": "2021-09-28T22:29:48.185Z"
   },
   {
    "duration": 9,
    "start_time": "2021-09-28T22:30:13.511Z"
   },
   {
    "duration": 9,
    "start_time": "2021-09-28T22:30:19.740Z"
   },
   {
    "duration": 8,
    "start_time": "2021-09-28T22:31:41.841Z"
   },
   {
    "duration": 343,
    "start_time": "2021-09-28T22:31:51.309Z"
   },
   {
    "duration": 8,
    "start_time": "2021-09-28T22:31:58.669Z"
   },
   {
    "duration": 4,
    "start_time": "2021-09-28T22:32:10.489Z"
   },
   {
    "duration": 9,
    "start_time": "2021-09-28T22:32:30.918Z"
   },
   {
    "duration": 113,
    "start_time": "2021-09-28T22:36:22.711Z"
   },
   {
    "duration": 9,
    "start_time": "2021-09-28T22:36:47.045Z"
   },
   {
    "duration": 6,
    "start_time": "2021-09-28T22:37:04.071Z"
   },
   {
    "duration": 5,
    "start_time": "2021-09-28T22:37:11.260Z"
   },
   {
    "duration": 6,
    "start_time": "2021-09-28T22:37:26.958Z"
   },
   {
    "duration": 7,
    "start_time": "2021-09-28T22:38:08.822Z"
   },
   {
    "duration": 8,
    "start_time": "2021-09-28T22:38:23.999Z"
   },
   {
    "duration": 7,
    "start_time": "2021-09-28T22:38:33.951Z"
   },
   {
    "duration": 4,
    "start_time": "2021-09-28T22:38:49.798Z"
   },
   {
    "duration": 5,
    "start_time": "2021-09-28T22:38:54.558Z"
   },
   {
    "duration": 4,
    "start_time": "2021-09-28T22:39:25.237Z"
   },
   {
    "duration": 6,
    "start_time": "2021-09-28T22:40:06.230Z"
   },
   {
    "duration": 8,
    "start_time": "2021-09-28T22:40:34.100Z"
   },
   {
    "duration": 12,
    "start_time": "2021-09-28T22:41:19.445Z"
   },
   {
    "duration": 17,
    "start_time": "2021-09-28T22:42:11.049Z"
   },
   {
    "duration": 12,
    "start_time": "2021-09-28T22:42:51.072Z"
   },
   {
    "duration": 7,
    "start_time": "2021-09-28T22:42:57.264Z"
   },
   {
    "duration": 10,
    "start_time": "2021-09-28T22:43:27.079Z"
   },
   {
    "duration": 438,
    "start_time": "2021-09-28T22:47:43.140Z"
   },
   {
    "duration": 6,
    "start_time": "2021-09-28T22:47:59.625Z"
   },
   {
    "duration": 5,
    "start_time": "2021-09-28T22:48:22.009Z"
   },
   {
    "duration": 371,
    "start_time": "2021-09-28T22:53:14.953Z"
   },
   {
    "duration": 5,
    "start_time": "2021-09-28T22:54:00.404Z"
   },
   {
    "duration": 11,
    "start_time": "2021-09-28T22:54:31.642Z"
   },
   {
    "duration": -1048,
    "start_time": "2021-09-28T22:55:25.176Z"
   },
   {
    "duration": 5,
    "start_time": "2021-09-28T22:55:27.334Z"
   },
   {
    "duration": 8,
    "start_time": "2021-09-28T22:57:58.538Z"
   },
   {
    "duration": 350,
    "start_time": "2021-09-28T23:09:16.272Z"
   },
   {
    "duration": 405,
    "start_time": "2021-09-28T23:09:30.050Z"
   },
   {
    "duration": 7,
    "start_time": "2021-09-28T23:10:19.280Z"
   },
   {
    "duration": 8,
    "start_time": "2021-09-28T23:10:27.525Z"
   },
   {
    "duration": 13,
    "start_time": "2021-09-28T23:11:09.582Z"
   },
   {
    "duration": 8,
    "start_time": "2021-09-28T23:11:38.171Z"
   },
   {
    "duration": 122,
    "start_time": "2021-09-28T23:12:36.423Z"
   },
   {
    "duration": 6,
    "start_time": "2021-09-28T23:12:43.682Z"
   },
   {
    "duration": 8,
    "start_time": "2021-09-28T23:16:21.463Z"
   },
   {
    "duration": 7,
    "start_time": "2021-09-28T23:16:41.083Z"
   },
   {
    "duration": 5,
    "start_time": "2021-09-28T23:19:44.270Z"
   },
   {
    "duration": 5,
    "start_time": "2021-09-28T23:19:51.991Z"
   },
   {
    "duration": 1482,
    "start_time": "2021-09-29T14:22:33.779Z"
   },
   {
    "duration": 58,
    "start_time": "2021-09-29T14:22:35.263Z"
   },
   {
    "duration": 15,
    "start_time": "2021-09-29T14:22:35.325Z"
   },
   {
    "duration": 15,
    "start_time": "2021-09-29T14:22:35.343Z"
   },
   {
    "duration": 17,
    "start_time": "2021-09-29T14:22:35.360Z"
   },
   {
    "duration": 27,
    "start_time": "2021-09-29T14:22:35.379Z"
   },
   {
    "duration": 36,
    "start_time": "2021-09-29T14:22:35.408Z"
   },
   {
    "duration": 34,
    "start_time": "2021-09-29T14:22:35.447Z"
   },
   {
    "duration": 6,
    "start_time": "2021-09-29T14:22:35.485Z"
   },
   {
    "duration": 6153,
    "start_time": "2021-09-29T14:22:35.494Z"
   },
   {
    "duration": 14,
    "start_time": "2021-09-29T14:22:41.649Z"
   },
   {
    "duration": 26,
    "start_time": "2021-09-29T14:22:41.666Z"
   },
   {
    "duration": 431,
    "start_time": "2021-09-29T14:22:41.694Z"
   },
   {
    "duration": 409,
    "start_time": "2021-09-29T14:22:42.127Z"
   },
   {
    "duration": 547,
    "start_time": "2021-09-29T14:22:42.539Z"
   },
   {
    "duration": 9,
    "start_time": "2021-09-29T14:22:43.088Z"
   },
   {
    "duration": 502,
    "start_time": "2021-09-29T14:22:43.099Z"
   },
   {
    "duration": 512,
    "start_time": "2021-09-29T14:22:43.603Z"
   },
   {
    "duration": 568,
    "start_time": "2021-09-29T14:22:44.117Z"
   },
   {
    "duration": 11,
    "start_time": "2021-09-29T14:22:44.687Z"
   },
   {
    "duration": 9,
    "start_time": "2021-09-29T14:22:44.700Z"
   },
   {
    "duration": 19,
    "start_time": "2021-09-29T14:22:44.711Z"
   },
   {
    "duration": 468,
    "start_time": "2021-09-29T14:22:44.733Z"
   },
   {
    "duration": 564,
    "start_time": "2021-09-29T14:22:45.204Z"
   },
   {
    "duration": 17,
    "start_time": "2021-09-29T14:22:45.770Z"
   },
   {
    "duration": 218,
    "start_time": "2021-09-29T14:22:45.789Z"
   },
   {
    "duration": 577,
    "start_time": "2021-09-29T14:22:46.011Z"
   },
   {
    "duration": -142,
    "start_time": "2021-09-29T14:22:46.733Z"
   },
   {
    "duration": -142,
    "start_time": "2021-09-29T14:22:46.735Z"
   },
   {
    "duration": -142,
    "start_time": "2021-09-29T14:22:46.737Z"
   },
   {
    "duration": -142,
    "start_time": "2021-09-29T14:22:46.738Z"
   },
   {
    "duration": -142,
    "start_time": "2021-09-29T14:22:46.740Z"
   },
   {
    "duration": -142,
    "start_time": "2021-09-29T14:22:46.741Z"
   },
   {
    "duration": -144,
    "start_time": "2021-09-29T14:22:46.744Z"
   },
   {
    "duration": -145,
    "start_time": "2021-09-29T14:22:46.746Z"
   },
   {
    "duration": 84,
    "start_time": "2021-09-29T14:23:56.299Z"
   },
   {
    "duration": 206,
    "start_time": "2021-09-29T14:24:10.521Z"
   },
   {
    "duration": 11,
    "start_time": "2021-09-29T14:24:13.761Z"
   },
   {
    "duration": 5,
    "start_time": "2021-09-29T14:24:16.001Z"
   },
   {
    "duration": 7,
    "start_time": "2021-09-29T14:24:18.299Z"
   },
   {
    "duration": 8608,
    "start_time": "2021-09-29T14:24:20.690Z"
   },
   {
    "duration": 9234,
    "start_time": "2021-09-29T14:24:57.225Z"
   },
   {
    "duration": 11,
    "start_time": "2021-09-29T14:25:13.124Z"
   },
   {
    "duration": 6,
    "start_time": "2021-09-29T14:25:23.783Z"
   },
   {
    "duration": 9,
    "start_time": "2021-09-29T14:25:39.695Z"
   },
   {
    "duration": 13,
    "start_time": "2021-09-29T14:25:45.593Z"
   },
   {
    "duration": 13,
    "start_time": "2021-09-29T14:26:00.645Z"
   },
   {
    "duration": 18,
    "start_time": "2021-09-29T14:29:29.050Z"
   },
   {
    "duration": 310,
    "start_time": "2021-09-29T14:30:09.463Z"
   },
   {
    "duration": 12,
    "start_time": "2021-09-29T14:30:18.714Z"
   },
   {
    "duration": 13,
    "start_time": "2021-09-29T14:31:04.515Z"
   },
   {
    "duration": 3,
    "start_time": "2021-09-29T14:41:33.882Z"
   },
   {
    "duration": 10,
    "start_time": "2021-09-29T18:10:48.558Z"
   },
   {
    "duration": 12,
    "start_time": "2021-09-29T18:11:12.810Z"
   },
   {
    "duration": 177,
    "start_time": "2021-09-29T18:14:45.802Z"
   },
   {
    "duration": 7,
    "start_time": "2021-09-29T18:15:06.321Z"
   },
   {
    "duration": 20,
    "start_time": "2021-09-29T18:15:13.090Z"
   },
   {
    "duration": 14,
    "start_time": "2021-09-29T18:15:41.990Z"
   },
   {
    "duration": 17,
    "start_time": "2021-09-29T18:15:54.370Z"
   },
   {
    "duration": 8,
    "start_time": "2021-09-29T18:16:05.351Z"
   },
   {
    "duration": 21,
    "start_time": "2021-09-29T18:16:09.612Z"
   },
   {
    "duration": 8,
    "start_time": "2021-09-29T18:16:16.061Z"
   },
   {
    "duration": 19,
    "start_time": "2021-09-29T18:16:17.991Z"
   },
   {
    "duration": 13,
    "start_time": "2021-09-29T18:17:13.770Z"
   },
   {
    "duration": 12,
    "start_time": "2021-09-29T18:21:10.521Z"
   },
   {
    "duration": 12,
    "start_time": "2021-09-29T18:21:16.992Z"
   },
   {
    "duration": 12,
    "start_time": "2021-09-29T18:22:45.092Z"
   },
   {
    "duration": 12,
    "start_time": "2021-09-29T18:23:08.242Z"
   },
   {
    "duration": 8,
    "start_time": "2021-09-29T18:23:20.080Z"
   },
   {
    "duration": 6,
    "start_time": "2021-09-29T18:23:23.882Z"
   },
   {
    "duration": 10,
    "start_time": "2021-09-29T18:24:32.252Z"
   },
   {
    "duration": 7,
    "start_time": "2021-09-29T18:24:35.972Z"
   },
   {
    "duration": 10,
    "start_time": "2021-09-29T18:24:57.013Z"
   },
   {
    "duration": 9,
    "start_time": "2021-09-29T18:24:59.317Z"
   },
   {
    "duration": 6,
    "start_time": "2021-09-29T18:25:02.401Z"
   },
   {
    "duration": 18,
    "start_time": "2021-09-29T18:26:37.359Z"
   },
   {
    "duration": 210,
    "start_time": "2021-09-29T18:26:53.989Z"
   },
   {
    "duration": 15,
    "start_time": "2021-09-29T18:28:42.762Z"
   },
   {
    "duration": 6,
    "start_time": "2021-09-29T18:31:11.774Z"
   },
   {
    "duration": 112,
    "start_time": "2021-09-29T18:32:57.857Z"
   },
   {
    "duration": 81,
    "start_time": "2021-09-29T18:33:08.368Z"
   },
   {
    "duration": 341,
    "start_time": "2021-09-29T18:35:27.365Z"
   },
   {
    "duration": 14,
    "start_time": "2021-09-29T18:42:30.711Z"
   },
   {
    "duration": 14,
    "start_time": "2021-09-29T18:44:10.393Z"
   },
   {
    "duration": 7,
    "start_time": "2021-09-29T18:44:19.403Z"
   },
   {
    "duration": 7,
    "start_time": "2021-09-29T18:44:28.733Z"
   },
   {
    "duration": 7,
    "start_time": "2021-09-29T18:44:53.621Z"
   },
   {
    "duration": 6,
    "start_time": "2021-09-29T18:45:07.221Z"
   },
   {
    "duration": 6,
    "start_time": "2021-09-29T18:45:42.012Z"
   },
   {
    "duration": 8,
    "start_time": "2021-09-29T18:45:50.011Z"
   },
   {
    "duration": 11,
    "start_time": "2021-09-29T18:46:29.895Z"
   },
   {
    "duration": 19,
    "start_time": "2021-09-29T18:47:08.019Z"
   },
   {
    "duration": 6,
    "start_time": "2021-09-29T18:47:28.046Z"
   },
   {
    "duration": 6,
    "start_time": "2021-09-29T18:48:28.117Z"
   },
   {
    "duration": 15,
    "start_time": "2021-09-29T18:49:15.058Z"
   },
   {
    "duration": 17,
    "start_time": "2021-09-29T18:50:12.851Z"
   },
   {
    "duration": 12,
    "start_time": "2021-09-29T18:51:28.965Z"
   },
   {
    "duration": 235,
    "start_time": "2021-09-29T18:53:25.003Z"
   },
   {
    "duration": 13,
    "start_time": "2021-09-29T18:53:33.734Z"
   },
   {
    "duration": 222,
    "start_time": "2021-09-29T18:54:02.064Z"
   },
   {
    "duration": 12,
    "start_time": "2021-09-29T18:56:31.955Z"
   },
   {
    "duration": 205,
    "start_time": "2021-09-29T18:56:40.149Z"
   },
   {
    "duration": 11,
    "start_time": "2021-09-29T18:56:42.436Z"
   },
   {
    "duration": 18,
    "start_time": "2021-09-29T18:57:03.646Z"
   },
   {
    "duration": 17,
    "start_time": "2021-09-29T18:57:10.275Z"
   },
   {
    "duration": 7,
    "start_time": "2021-09-29T18:57:27.756Z"
   },
   {
    "duration": 7,
    "start_time": "2021-09-29T18:57:36.585Z"
   },
   {
    "duration": 11,
    "start_time": "2021-09-29T18:58:20.151Z"
   },
   {
    "duration": 7,
    "start_time": "2021-09-29T18:58:25.031Z"
   },
   {
    "duration": 10,
    "start_time": "2021-09-29T18:58:39.101Z"
   },
   {
    "duration": 12,
    "start_time": "2021-09-29T18:59:11.318Z"
   },
   {
    "duration": 14,
    "start_time": "2021-09-29T18:59:15.275Z"
   },
   {
    "duration": 12,
    "start_time": "2021-09-29T18:59:25.178Z"
   },
   {
    "duration": 12,
    "start_time": "2021-09-29T18:59:33.027Z"
   },
   {
    "duration": 11,
    "start_time": "2021-09-29T19:04:42.540Z"
   },
   {
    "duration": 15,
    "start_time": "2021-09-29T19:07:03.643Z"
   },
   {
    "duration": 20,
    "start_time": "2021-09-29T19:08:39.034Z"
   },
   {
    "duration": 12,
    "start_time": "2021-09-29T19:13:18.863Z"
   },
   {
    "duration": 12,
    "start_time": "2021-09-29T19:13:22.368Z"
   },
   {
    "duration": 13,
    "start_time": "2021-09-29T19:14:28.054Z"
   },
   {
    "duration": 11,
    "start_time": "2021-09-29T19:14:33.973Z"
   },
   {
    "duration": 23,
    "start_time": "2021-09-29T19:20:23.813Z"
   },
   {
    "duration": 436,
    "start_time": "2021-09-29T19:25:13.603Z"
   },
   {
    "duration": 18,
    "start_time": "2021-09-29T19:26:33.053Z"
   },
   {
    "duration": 336,
    "start_time": "2021-09-29T19:27:16.034Z"
   },
   {
    "duration": 10,
    "start_time": "2021-09-29T19:27:23.893Z"
   },
   {
    "duration": 9,
    "start_time": "2021-09-29T19:27:30.775Z"
   },
   {
    "duration": 10,
    "start_time": "2021-09-29T19:27:43.515Z"
   },
   {
    "duration": 10,
    "start_time": "2021-09-29T19:28:00.623Z"
   },
   {
    "duration": 10,
    "start_time": "2021-09-29T19:28:44.373Z"
   },
   {
    "duration": 9,
    "start_time": "2021-09-29T19:28:51.873Z"
   },
   {
    "duration": 10,
    "start_time": "2021-09-29T19:29:00.931Z"
   },
   {
    "duration": 9,
    "start_time": "2021-09-29T19:29:06.141Z"
   },
   {
    "duration": 15,
    "start_time": "2021-09-29T22:07:44.099Z"
   },
   {
    "duration": 22,
    "start_time": "2021-09-29T22:08:12.522Z"
   },
   {
    "duration": 19,
    "start_time": "2021-09-29T22:15:19.593Z"
   },
   {
    "duration": 20,
    "start_time": "2021-09-29T22:15:58.779Z"
   },
   {
    "duration": 19,
    "start_time": "2021-09-29T22:30:19.448Z"
   },
   {
    "duration": 13,
    "start_time": "2021-09-29T22:39:59.492Z"
   },
   {
    "duration": 14,
    "start_time": "2021-09-29T22:40:03.965Z"
   },
   {
    "duration": 16,
    "start_time": "2021-09-29T22:41:32.285Z"
   },
   {
    "duration": 18,
    "start_time": "2021-09-29T22:41:47.104Z"
   },
   {
    "duration": 23,
    "start_time": "2021-09-29T22:43:47.547Z"
   },
   {
    "duration": 15,
    "start_time": "2021-09-29T22:43:50.721Z"
   },
   {
    "duration": 12,
    "start_time": "2021-09-29T22:45:23.056Z"
   },
   {
    "duration": 15,
    "start_time": "2021-09-29T22:45:32.937Z"
   },
   {
    "duration": 92,
    "start_time": "2021-09-29T22:46:48.144Z"
   },
   {
    "duration": 12,
    "start_time": "2021-09-29T22:46:52.361Z"
   },
   {
    "duration": 14,
    "start_time": "2021-09-29T22:47:02.346Z"
   },
   {
    "duration": 26,
    "start_time": "2021-09-29T22:49:16.299Z"
   },
   {
    "duration": 15,
    "start_time": "2021-09-29T22:49:29.082Z"
   },
   {
    "duration": 26,
    "start_time": "2021-09-29T22:50:49.051Z"
   },
   {
    "duration": 15,
    "start_time": "2021-09-29T22:50:56.951Z"
   },
   {
    "duration": 424,
    "start_time": "2021-09-29T22:51:38.228Z"
   },
   {
    "duration": 7793,
    "start_time": "2021-09-29T22:53:31.759Z"
   },
   {
    "duration": 15,
    "start_time": "2021-09-29T22:53:59.899Z"
   },
   {
    "duration": 6643,
    "start_time": "2021-09-29T22:54:49.849Z"
   },
   {
    "duration": 10,
    "start_time": "2021-09-29T22:55:39.090Z"
   },
   {
    "duration": 16,
    "start_time": "2021-09-29T22:55:45.854Z"
   },
   {
    "duration": 31,
    "start_time": "2021-09-29T22:56:18.391Z"
   },
   {
    "duration": 10167,
    "start_time": "2021-09-29T22:56:39.072Z"
   },
   {
    "duration": 628,
    "start_time": "2021-09-29T22:57:04.302Z"
   },
   {
    "duration": 406,
    "start_time": "2021-09-29T22:57:17.662Z"
   },
   {
    "duration": 36,
    "start_time": "2021-09-29T22:58:49.396Z"
   },
   {
    "duration": 17,
    "start_time": "2021-09-29T23:00:29.633Z"
   },
   {
    "duration": 11,
    "start_time": "2021-09-29T23:01:45.587Z"
   },
   {
    "duration": 11,
    "start_time": "2021-09-29T23:01:58.600Z"
   },
   {
    "duration": 37,
    "start_time": "2021-09-29T23:11:42.368Z"
   },
   {
    "duration": 417,
    "start_time": "2021-09-29T23:13:50.265Z"
   },
   {
    "duration": 1276,
    "start_time": "2021-09-30T07:25:26.641Z"
   },
   {
    "duration": 74,
    "start_time": "2021-09-30T07:25:27.919Z"
   },
   {
    "duration": 14,
    "start_time": "2021-09-30T07:25:27.995Z"
   },
   {
    "duration": 14,
    "start_time": "2021-09-30T07:25:28.012Z"
   },
   {
    "duration": 21,
    "start_time": "2021-09-30T07:25:28.028Z"
   },
   {
    "duration": 27,
    "start_time": "2021-09-30T07:25:28.051Z"
   },
   {
    "duration": 17,
    "start_time": "2021-09-30T07:25:28.080Z"
   },
   {
    "duration": 42,
    "start_time": "2021-09-30T07:25:28.100Z"
   },
   {
    "duration": 9,
    "start_time": "2021-09-30T07:25:28.144Z"
   },
   {
    "duration": 3839,
    "start_time": "2021-09-30T07:25:28.155Z"
   },
   {
    "duration": 10,
    "start_time": "2021-09-30T07:25:31.996Z"
   },
   {
    "duration": 19,
    "start_time": "2021-09-30T07:25:32.009Z"
   },
   {
    "duration": 295,
    "start_time": "2021-09-30T07:25:32.030Z"
   },
   {
    "duration": 286,
    "start_time": "2021-09-30T07:25:32.327Z"
   },
   {
    "duration": 430,
    "start_time": "2021-09-30T07:25:32.615Z"
   },
   {
    "duration": 7,
    "start_time": "2021-09-30T07:25:33.047Z"
   },
   {
    "duration": 379,
    "start_time": "2021-09-30T07:25:33.056Z"
   },
   {
    "duration": 407,
    "start_time": "2021-09-30T07:25:33.437Z"
   },
   {
    "duration": 426,
    "start_time": "2021-09-30T07:25:33.846Z"
   },
   {
    "duration": 8,
    "start_time": "2021-09-30T07:25:34.274Z"
   },
   {
    "duration": 10,
    "start_time": "2021-09-30T07:25:34.284Z"
   },
   {
    "duration": 10,
    "start_time": "2021-09-30T07:25:34.296Z"
   },
   {
    "duration": 353,
    "start_time": "2021-09-30T07:25:34.310Z"
   },
   {
    "duration": 392,
    "start_time": "2021-09-30T07:25:34.666Z"
   },
   {
    "duration": 6,
    "start_time": "2021-09-30T07:25:35.060Z"
   },
   {
    "duration": 130,
    "start_time": "2021-09-30T07:25:35.068Z"
   },
   {
    "duration": 112,
    "start_time": "2021-09-30T07:25:35.200Z"
   },
   {
    "duration": 11,
    "start_time": "2021-09-30T07:25:35.315Z"
   },
   {
    "duration": 14,
    "start_time": "2021-09-30T07:25:35.328Z"
   },
   {
    "duration": 18,
    "start_time": "2021-09-30T07:25:35.350Z"
   },
   {
    "duration": 19,
    "start_time": "2021-09-30T07:25:35.370Z"
   },
   {
    "duration": 22,
    "start_time": "2021-09-30T07:25:35.391Z"
   },
   {
    "duration": 22,
    "start_time": "2021-09-30T07:25:35.415Z"
   },
   {
    "duration": 26,
    "start_time": "2021-09-30T07:25:35.439Z"
   },
   {
    "duration": 15,
    "start_time": "2021-09-30T07:25:35.467Z"
   },
   {
    "duration": 15,
    "start_time": "2021-09-30T07:25:35.484Z"
   },
   {
    "duration": 120,
    "start_time": "2021-09-30T07:25:35.501Z"
   },
   {
    "duration": 9,
    "start_time": "2021-09-30T07:25:35.623Z"
   },
   {
    "duration": 27,
    "start_time": "2021-09-30T07:25:35.634Z"
   },
   {
    "duration": 23,
    "start_time": "2021-09-30T07:25:35.664Z"
   },
   {
    "duration": 15,
    "start_time": "2021-09-30T07:25:35.689Z"
   },
   {
    "duration": 48,
    "start_time": "2021-09-30T07:25:35.706Z"
   },
   {
    "duration": 293,
    "start_time": "2021-09-30T07:25:35.756Z"
   },
   {
    "duration": 9,
    "start_time": "2021-09-30T07:25:36.051Z"
   },
   {
    "duration": 371,
    "start_time": "2021-09-30T08:05:10.515Z"
   },
   {
    "duration": 13,
    "start_time": "2021-09-30T08:05:31.343Z"
   },
   {
    "duration": 5,
    "start_time": "2021-09-30T08:05:46.499Z"
   },
   {
    "duration": 13,
    "start_time": "2021-09-30T08:06:26.600Z"
   },
   {
    "duration": 6,
    "start_time": "2021-09-30T08:06:36.383Z"
   },
   {
    "duration": 6,
    "start_time": "2021-09-30T08:06:41.030Z"
   },
   {
    "duration": 6,
    "start_time": "2021-09-30T08:07:07.933Z"
   },
   {
    "duration": 6,
    "start_time": "2021-09-30T08:07:16.716Z"
   },
   {
    "duration": 5,
    "start_time": "2021-09-30T08:12:34.645Z"
   },
   {
    "duration": 6,
    "start_time": "2021-09-30T08:13:26.320Z"
   },
   {
    "duration": 6,
    "start_time": "2021-09-30T08:13:55.949Z"
   },
   {
    "duration": 446,
    "start_time": "2021-09-30T19:43:08.801Z"
   },
   {
    "duration": 416,
    "start_time": "2021-09-30T19:43:16.762Z"
   },
   {
    "duration": 1473,
    "start_time": "2021-09-30T19:43:21.143Z"
   },
   {
    "duration": 96,
    "start_time": "2021-09-30T19:43:28.481Z"
   },
   {
    "duration": 17,
    "start_time": "2021-09-30T19:43:30.362Z"
   },
   {
    "duration": 15,
    "start_time": "2021-09-30T19:43:34.771Z"
   },
   {
    "duration": 18,
    "start_time": "2021-09-30T19:43:40.810Z"
   },
   {
    "duration": 15,
    "start_time": "2021-09-30T19:43:48.552Z"
   },
   {
    "duration": 465,
    "start_time": "2021-09-30T19:43:52.669Z"
   },
   {
    "duration": 406,
    "start_time": "2021-09-30T19:44:52.047Z"
   },
   {
    "duration": 17,
    "start_time": "2021-09-30T19:47:54.348Z"
   },
   {
    "duration": 15,
    "start_time": "2021-09-30T19:48:07.739Z"
   },
   {
    "duration": 404,
    "start_time": "2021-09-30T19:57:39.909Z"
   },
   {
    "duration": 480,
    "start_time": "2021-09-30T20:02:34.573Z"
   },
   {
    "duration": 404,
    "start_time": "2021-09-30T20:06:53.062Z"
   },
   {
    "duration": 12,
    "start_time": "2021-09-30T20:07:07.619Z"
   },
   {
    "duration": 33,
    "start_time": "2021-09-30T20:07:09.910Z"
   },
   {
    "duration": 8,
    "start_time": "2021-09-30T20:07:12.740Z"
   },
   {
    "duration": 6,
    "start_time": "2021-09-30T20:07:15.580Z"
   },
   {
    "duration": 10,
    "start_time": "2021-09-30T20:07:20.732Z"
   },
   {
    "duration": 16,
    "start_time": "2021-09-30T20:07:54.702Z"
   },
   {
    "duration": 405,
    "start_time": "2021-09-30T20:08:13.000Z"
   },
   {
    "duration": 16,
    "start_time": "2021-09-30T20:08:32.242Z"
   },
   {
    "duration": 18,
    "start_time": "2021-09-30T20:08:55.972Z"
   },
   {
    "duration": 15,
    "start_time": "2021-09-30T20:10:45.331Z"
   },
   {
    "duration": 15,
    "start_time": "2021-09-30T20:11:16.082Z"
   },
   {
    "duration": 17,
    "start_time": "2021-09-30T20:11:40.492Z"
   },
   {
    "duration": -265,
    "start_time": "2021-09-30T20:12:00.374Z"
   },
   {
    "duration": 5777,
    "start_time": "2021-09-30T20:12:16.659Z"
   },
   {
    "duration": 14,
    "start_time": "2021-09-30T20:13:00.250Z"
   },
   {
    "duration": 6059,
    "start_time": "2021-09-30T20:13:20.090Z"
   },
   {
    "duration": 16,
    "start_time": "2021-09-30T20:13:34.169Z"
   },
   {
    "duration": 1536,
    "start_time": "2021-09-30T20:14:31.045Z"
   },
   {
    "duration": 96,
    "start_time": "2021-09-30T20:14:32.584Z"
   },
   {
    "duration": 19,
    "start_time": "2021-09-30T20:14:32.683Z"
   },
   {
    "duration": 11,
    "start_time": "2021-09-30T20:14:32.706Z"
   },
   {
    "duration": 18,
    "start_time": "2021-09-30T20:14:32.719Z"
   },
   {
    "duration": 17,
    "start_time": "2021-09-30T20:14:32.740Z"
   },
   {
    "duration": 16,
    "start_time": "2021-09-30T20:14:32.760Z"
   },
   {
    "duration": 40,
    "start_time": "2021-09-30T20:14:32.780Z"
   },
   {
    "duration": 31,
    "start_time": "2021-09-30T20:14:32.823Z"
   },
   {
    "duration": 8,
    "start_time": "2021-09-30T20:14:32.856Z"
   },
   {
    "duration": 51,
    "start_time": "2021-09-30T20:14:32.866Z"
   },
   {
    "duration": 6453,
    "start_time": "2021-09-30T20:14:32.920Z"
   },
   {
    "duration": 16,
    "start_time": "2021-09-30T20:14:39.375Z"
   },
   {
    "duration": 29,
    "start_time": "2021-09-30T20:14:39.393Z"
   },
   {
    "duration": 477,
    "start_time": "2021-09-30T20:14:39.425Z"
   },
   {
    "duration": 447,
    "start_time": "2021-09-30T20:14:39.906Z"
   },
   {
    "duration": 554,
    "start_time": "2021-09-30T20:14:40.356Z"
   },
   {
    "duration": 9,
    "start_time": "2021-09-30T20:14:40.916Z"
   },
   {
    "duration": 531,
    "start_time": "2021-09-30T20:14:40.928Z"
   },
   {
    "duration": 560,
    "start_time": "2021-09-30T20:14:41.462Z"
   },
   {
    "duration": 588,
    "start_time": "2021-09-30T20:14:42.024Z"
   },
   {
    "duration": 11,
    "start_time": "2021-09-30T20:14:42.616Z"
   },
   {
    "duration": 16,
    "start_time": "2021-09-30T20:14:42.632Z"
   },
   {
    "duration": 21,
    "start_time": "2021-09-30T20:14:42.652Z"
   },
   {
    "duration": 448,
    "start_time": "2021-09-30T20:14:42.676Z"
   },
   {
    "duration": 560,
    "start_time": "2021-09-30T20:14:43.128Z"
   },
   {
    "duration": 25,
    "start_time": "2021-09-30T20:14:43.692Z"
   },
   {
    "duration": 262,
    "start_time": "2021-09-30T20:14:43.720Z"
   },
   {
    "duration": 183,
    "start_time": "2021-09-30T20:14:43.985Z"
   },
   {
    "duration": 10,
    "start_time": "2021-09-30T20:14:44.171Z"
   },
   {
    "duration": 8,
    "start_time": "2021-09-30T20:14:44.184Z"
   },
   {
    "duration": 23,
    "start_time": "2021-09-30T20:14:44.194Z"
   },
   {
    "duration": 7,
    "start_time": "2021-09-30T20:14:44.220Z"
   },
   {
    "duration": 14,
    "start_time": "2021-09-30T20:14:44.229Z"
   },
   {
    "duration": 15,
    "start_time": "2021-09-30T20:14:44.245Z"
   },
   {
    "duration": 11,
    "start_time": "2021-09-30T20:14:44.262Z"
   },
   {
    "duration": 48,
    "start_time": "2021-09-30T20:14:44.275Z"
   },
   {
    "duration": 10,
    "start_time": "2021-09-30T20:14:44.325Z"
   },
   {
    "duration": 235,
    "start_time": "2021-09-30T20:14:44.338Z"
   },
   {
    "duration": 11,
    "start_time": "2021-09-30T20:14:44.576Z"
   },
   {
    "duration": 29,
    "start_time": "2021-09-30T20:14:44.590Z"
   },
   {
    "duration": 23,
    "start_time": "2021-09-30T20:14:44.622Z"
   },
   {
    "duration": 20,
    "start_time": "2021-09-30T20:14:44.648Z"
   },
   {
    "duration": 74,
    "start_time": "2021-09-30T20:14:44.670Z"
   },
   {
    "duration": 469,
    "start_time": "2021-09-30T20:14:44.747Z"
   },
   {
    "duration": 12,
    "start_time": "2021-09-30T20:14:45.219Z"
   },
   {
    "duration": 6,
    "start_time": "2021-09-30T20:20:52.862Z"
   },
   {
    "duration": 10,
    "start_time": "2021-09-30T20:21:10.883Z"
   },
   {
    "duration": 304,
    "start_time": "2021-10-24T13:10:30.454Z"
   },
   {
    "duration": 1524,
    "start_time": "2021-10-24T13:10:42.304Z"
   },
   {
    "duration": 1465,
    "start_time": "2021-10-24T13:10:56.937Z"
   },
   {
    "duration": 69,
    "start_time": "2021-10-24T13:10:58.404Z"
   },
   {
    "duration": 15,
    "start_time": "2021-10-24T13:10:58.476Z"
   },
   {
    "duration": 11,
    "start_time": "2021-10-24T13:10:58.494Z"
   },
   {
    "duration": 15,
    "start_time": "2021-10-24T13:10:58.507Z"
   },
   {
    "duration": 44,
    "start_time": "2021-10-24T13:10:58.524Z"
   },
   {
    "duration": 15,
    "start_time": "2021-10-24T13:10:58.571Z"
   },
   {
    "duration": 24,
    "start_time": "2021-10-24T13:10:58.589Z"
   },
   {
    "duration": 55,
    "start_time": "2021-10-24T13:10:58.616Z"
   },
   {
    "duration": 3,
    "start_time": "2021-10-24T13:10:58.673Z"
   },
   {
    "duration": 9,
    "start_time": "2021-10-24T13:10:58.678Z"
   },
   {
    "duration": 15,
    "start_time": "2021-10-24T13:10:58.689Z"
   },
   {
    "duration": 5,
    "start_time": "2021-10-24T13:10:58.707Z"
   },
   {
    "duration": 6671,
    "start_time": "2021-10-24T13:10:58.714Z"
   },
   {
    "duration": 14,
    "start_time": "2021-10-24T13:11:05.388Z"
   },
   {
    "duration": 17,
    "start_time": "2021-10-24T13:11:05.404Z"
   },
   {
    "duration": 494,
    "start_time": "2021-10-24T13:11:05.424Z"
   },
   {
    "duration": 449,
    "start_time": "2021-10-24T13:11:05.922Z"
   },
   {
    "duration": 551,
    "start_time": "2021-10-24T13:11:06.374Z"
   },
   {
    "duration": 9,
    "start_time": "2021-10-24T13:11:06.929Z"
   },
   {
    "duration": 494,
    "start_time": "2021-10-24T13:11:06.941Z"
   },
   {
    "duration": 652,
    "start_time": "2021-10-24T13:11:07.438Z"
   },
   {
    "duration": 666,
    "start_time": "2021-10-24T13:11:08.095Z"
   },
   {
    "duration": 11,
    "start_time": "2021-10-24T13:11:08.769Z"
   },
   {
    "duration": 7,
    "start_time": "2021-10-24T13:11:08.783Z"
   },
   {
    "duration": 14,
    "start_time": "2021-10-24T13:11:08.793Z"
   },
   {
    "duration": 481,
    "start_time": "2021-10-24T13:11:08.810Z"
   },
   {
    "duration": 552,
    "start_time": "2021-10-24T13:11:09.294Z"
   },
   {
    "duration": 19,
    "start_time": "2021-10-24T13:11:09.849Z"
   },
   {
    "duration": 227,
    "start_time": "2021-10-24T13:11:09.870Z"
   },
   {
    "duration": 208,
    "start_time": "2021-10-24T13:11:10.100Z"
   },
   {
    "duration": 11,
    "start_time": "2021-10-24T13:11:10.311Z"
   },
   {
    "duration": 10,
    "start_time": "2021-10-24T13:11:10.324Z"
   },
   {
    "duration": 31,
    "start_time": "2021-10-24T13:11:10.336Z"
   },
   {
    "duration": 7,
    "start_time": "2021-10-24T13:11:10.369Z"
   },
   {
    "duration": 10,
    "start_time": "2021-10-24T13:11:10.378Z"
   },
   {
    "duration": 15,
    "start_time": "2021-10-24T13:11:10.390Z"
   },
   {
    "duration": 12,
    "start_time": "2021-10-24T13:11:10.407Z"
   },
   {
    "duration": 52,
    "start_time": "2021-10-24T13:11:10.421Z"
   },
   {
    "duration": 10,
    "start_time": "2021-10-24T13:11:10.476Z"
   },
   {
    "duration": 252,
    "start_time": "2021-10-24T13:11:10.490Z"
   },
   {
    "duration": 23,
    "start_time": "2021-10-24T13:11:10.745Z"
   },
   {
    "duration": 17,
    "start_time": "2021-10-24T13:11:10.771Z"
   },
   {
    "duration": 24,
    "start_time": "2021-10-24T13:11:10.791Z"
   },
   {
    "duration": 53,
    "start_time": "2021-10-24T13:11:10.818Z"
   },
   {
    "duration": 39,
    "start_time": "2021-10-24T13:11:10.874Z"
   },
   {
    "duration": 484,
    "start_time": "2021-10-24T13:11:10.916Z"
   },
   {
    "duration": 13,
    "start_time": "2021-10-24T13:11:11.404Z"
   },
   {
    "duration": 9,
    "start_time": "2021-10-24T13:11:35.364Z"
   },
   {
    "duration": 14,
    "start_time": "2021-10-24T13:11:44.459Z"
   },
   {
    "duration": 66,
    "start_time": "2021-10-24T13:21:54.423Z"
   },
   {
    "duration": 19,
    "start_time": "2021-10-24T13:22:00.894Z"
   },
   {
    "duration": 7,
    "start_time": "2021-10-24T13:22:08.183Z"
   },
   {
    "duration": 9,
    "start_time": "2021-10-24T13:22:18.600Z"
   }
  ],
  "kernelspec": {
   "display_name": "Python 3 (ipykernel)",
   "language": "python",
   "name": "python3"
  },
  "language_info": {
   "codemirror_mode": {
    "name": "ipython",
    "version": 3
   },
   "file_extension": ".py",
   "mimetype": "text/x-python",
   "name": "python",
   "nbconvert_exporter": "python",
   "pygments_lexer": "ipython3",
   "version": "3.9.5"
  },
  "toc": {
   "base_numbering": 1,
   "nav_menu": {},
   "number_sections": true,
   "sideBar": true,
   "skip_h1_title": true,
   "title_cell": "Table of Contents",
   "title_sidebar": "Contents",
   "toc_cell": false,
   "toc_position": {},
   "toc_section_display": true,
   "toc_window_display": false
  }
 },
 "nbformat": 4,
 "nbformat_minor": 2
}
