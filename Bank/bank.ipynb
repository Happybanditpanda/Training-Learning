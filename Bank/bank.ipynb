{
 "cells": [
  {
   "cell_type": "markdown",
   "metadata": {},
   "source": [
    "# Анализ оттока клиентов банка."
   ]
  },
  {
   "cell_type": "markdown",
   "metadata": {},
   "source": [
    "Датасет содержит данные о клиентах банка «Метанпром». Банк располагается в Ярославле и областных городах: Ростов Великий и Рыбинск. Нам предстоит провести анализ данных, определить портрет пользователя, склонного уходить, проверить гипотезы, а также обучить модель, способную прогнозировать отток клиентов.\n",
    "\n",
    "\n",
    "**Описание данных:**\n",
    "\n",
    "Данный находятся в файле `bank_dataset.csv`.\n",
    "Описание полей:\n",
    "- `userid` — идентификатор пользователя;\n",
    "- `score` — баллы кредитного скоринга;\n",
    "- `City` — город;\n",
    "- `Gender` — пол;\n",
    "- `Age` — возраст;\n",
    "- `Objects` — количество объектов в собственности;\n",
    "- `Balance` — баланс на счёте;\n",
    "- `Products` — количество продуктов, которыми пользуется клиент;\n",
    "- `CreditCard` — есть ли кредитная карта;\n",
    "- `Loyalty` — активный клиент;\n",
    "- `estimated_salary` — заработная плата клиента;\n",
    "- `Churn` — ушел или нет."
   ]
  },
  {
   "cell_type": "markdown",
   "metadata": {},
   "source": [
    "## Загрузка данных и изучение информации"
   ]
  },
  {
   "cell_type": "code",
   "execution_count": 1,
   "metadata": {},
   "outputs": [],
   "source": [
    "import pandas as pd\n",
    "import numpy as np\n",
    "import seaborn as sns\n",
    "from matplotlib import pyplot as plt\n",
    "from sklearn.preprocessing import StandardScaler\n",
    "from sklearn.model_selection import train_test_split\n",
    "from sklearn.linear_model import LogisticRegression\n",
    "from sklearn.ensemble import RandomForestClassifier\n",
    "from sklearn.metrics import accuracy_score, precision_score, recall_score, f1_score, roc_auc_score\n",
    "from sklearn.cluster import KMeans\n",
    "from scipy import stats as st\n",
    "from scipy.stats import mannwhitneyu\n",
    "from scipy.cluster.hierarchy import dendrogram, linkage\n",
    "import warnings\n",
    "warnings.filterwarnings('ignore')  "
   ]
  },
  {
   "cell_type": "markdown",
   "metadata": {},
   "source": [
    "Обновим seaborn, без этого гистограммы просто не строятся. Потом перезапустить тетрадку."
   ]
  },
  {
   "cell_type": "code",
   "execution_count": 2,
   "metadata": {},
   "outputs": [
    {
     "name": "stdout",
     "output_type": "stream",
     "text": [
      "Defaulting to user installation because normal site-packages is not writeable\n",
      "Requirement already satisfied: seaborn==0.11.0 in /home/jovyan/.local/lib/python3.7/site-packages (0.11.0)\n",
      "Requirement already satisfied: matplotlib>=2.2 in /opt/conda/lib/python3.7/site-packages (from seaborn==0.11.0) (3.1.0)\n",
      "Requirement already satisfied: numpy>=1.15 in /opt/conda/lib/python3.7/site-packages (from seaborn==0.11.0) (1.19.5)\n",
      "Requirement already satisfied: pandas>=0.23 in /opt/conda/lib/python3.7/site-packages (from seaborn==0.11.0) (0.25.1)\n",
      "Requirement already satisfied: scipy>=1.0 in /opt/conda/lib/python3.7/site-packages (from seaborn==0.11.0) (1.4.1)\n",
      "Requirement already satisfied: python-dateutil>=2.1 in /opt/conda/lib/python3.7/site-packages (from matplotlib>=2.2->seaborn==0.11.0) (2.8.1)\n",
      "Requirement already satisfied: cycler>=0.10 in /opt/conda/lib/python3.7/site-packages (from matplotlib>=2.2->seaborn==0.11.0) (0.10.0)\n",
      "Requirement already satisfied: pyparsing!=2.0.4,!=2.1.2,!=2.1.6,>=2.0.1 in /opt/conda/lib/python3.7/site-packages (from matplotlib>=2.2->seaborn==0.11.0) (2.4.7)\n",
      "Requirement already satisfied: kiwisolver>=1.0.1 in /opt/conda/lib/python3.7/site-packages (from matplotlib>=2.2->seaborn==0.11.0) (1.3.1)\n",
      "Requirement already satisfied: pytz>=2017.2 in /opt/conda/lib/python3.7/site-packages (from pandas>=0.23->seaborn==0.11.0) (2021.1)\n",
      "Requirement already satisfied: six>=1.5 in /opt/conda/lib/python3.7/site-packages (from python-dateutil>=2.1->matplotlib>=2.2->seaborn==0.11.0) (1.15.0)\n",
      "Note: you may need to restart the kernel to use updated packages.\n"
     ]
    }
   ],
   "source": [
    "pip install seaborn==0.11.0"
   ]
  },
  {
   "cell_type": "code",
   "execution_count": 3,
   "metadata": {},
   "outputs": [
    {
     "name": "stdout",
     "output_type": "stream",
     "text": [
      "<class 'pandas.core.frame.DataFrame'>\n",
      "RangeIndex: 10000 entries, 0 to 9999\n",
      "Data columns (total 12 columns):\n",
      "userid              10000 non-null int64\n",
      "score               10000 non-null int64\n",
      "City                10000 non-null object\n",
      "Gender              10000 non-null object\n",
      "Age                 10000 non-null int64\n",
      "Objects             10000 non-null int64\n",
      "Balance             6383 non-null float64\n",
      "Products            10000 non-null int64\n",
      "CreditCard          10000 non-null int64\n",
      "Loyalty             10000 non-null int64\n",
      "estimated_salary    10000 non-null float64\n",
      "Churn               10000 non-null int64\n",
      "dtypes: float64(2), int64(8), object(2)\n",
      "memory usage: 937.6+ KB\n"
     ]
    }
   ],
   "source": [
    "df = pd.read_csv('/datasets/bank_dataset.csv')\n",
    "df.info()"
   ]
  },
  {
   "cell_type": "code",
   "execution_count": 4,
   "metadata": {},
   "outputs": [
    {
     "data": {
      "text/html": [
       "<div>\n",
       "<style scoped>\n",
       "    .dataframe tbody tr th:only-of-type {\n",
       "        vertical-align: middle;\n",
       "    }\n",
       "\n",
       "    .dataframe tbody tr th {\n",
       "        vertical-align: top;\n",
       "    }\n",
       "\n",
       "    .dataframe thead th {\n",
       "        text-align: right;\n",
       "    }\n",
       "</style>\n",
       "<table border=\"1\" class=\"dataframe\">\n",
       "  <thead>\n",
       "    <tr style=\"text-align: right;\">\n",
       "      <th></th>\n",
       "      <th>userid</th>\n",
       "      <th>score</th>\n",
       "      <th>City</th>\n",
       "      <th>Gender</th>\n",
       "      <th>Age</th>\n",
       "      <th>Objects</th>\n",
       "      <th>Balance</th>\n",
       "      <th>Products</th>\n",
       "      <th>CreditCard</th>\n",
       "      <th>Loyalty</th>\n",
       "      <th>estimated_salary</th>\n",
       "      <th>Churn</th>\n",
       "    </tr>\n",
       "  </thead>\n",
       "  <tbody>\n",
       "    <tr>\n",
       "      <td>0</td>\n",
       "      <td>15677338</td>\n",
       "      <td>619</td>\n",
       "      <td>Ярославль</td>\n",
       "      <td>Ж</td>\n",
       "      <td>42</td>\n",
       "      <td>2</td>\n",
       "      <td>NaN</td>\n",
       "      <td>1</td>\n",
       "      <td>1</td>\n",
       "      <td>1</td>\n",
       "      <td>101348.88</td>\n",
       "      <td>1</td>\n",
       "    </tr>\n",
       "    <tr>\n",
       "      <td>1</td>\n",
       "      <td>15690047</td>\n",
       "      <td>608</td>\n",
       "      <td>Рыбинск</td>\n",
       "      <td>Ж</td>\n",
       "      <td>41</td>\n",
       "      <td>1</td>\n",
       "      <td>83807.86</td>\n",
       "      <td>1</td>\n",
       "      <td>0</td>\n",
       "      <td>1</td>\n",
       "      <td>112542.58</td>\n",
       "      <td>0</td>\n",
       "    </tr>\n",
       "    <tr>\n",
       "      <td>2</td>\n",
       "      <td>15662040</td>\n",
       "      <td>502</td>\n",
       "      <td>Ярославль</td>\n",
       "      <td>Ж</td>\n",
       "      <td>42</td>\n",
       "      <td>8</td>\n",
       "      <td>159660.80</td>\n",
       "      <td>3</td>\n",
       "      <td>1</td>\n",
       "      <td>0</td>\n",
       "      <td>113931.57</td>\n",
       "      <td>1</td>\n",
       "    </tr>\n",
       "    <tr>\n",
       "      <td>3</td>\n",
       "      <td>15744090</td>\n",
       "      <td>699</td>\n",
       "      <td>Ярославль</td>\n",
       "      <td>Ж</td>\n",
       "      <td>39</td>\n",
       "      <td>1</td>\n",
       "      <td>NaN</td>\n",
       "      <td>2</td>\n",
       "      <td>0</td>\n",
       "      <td>0</td>\n",
       "      <td>93826.63</td>\n",
       "      <td>0</td>\n",
       "    </tr>\n",
       "    <tr>\n",
       "      <td>4</td>\n",
       "      <td>15780624</td>\n",
       "      <td>850</td>\n",
       "      <td>Рыбинск</td>\n",
       "      <td>Ж</td>\n",
       "      <td>43</td>\n",
       "      <td>2</td>\n",
       "      <td>125510.82</td>\n",
       "      <td>1</td>\n",
       "      <td>1</td>\n",
       "      <td>1</td>\n",
       "      <td>79084.10</td>\n",
       "      <td>0</td>\n",
       "    </tr>\n",
       "  </tbody>\n",
       "</table>\n",
       "</div>"
      ],
      "text/plain": [
       "     userid  score       City Gender  Age  Objects    Balance  Products  \\\n",
       "0  15677338    619  Ярославль      Ж   42        2        NaN         1   \n",
       "1  15690047    608    Рыбинск      Ж   41        1   83807.86         1   \n",
       "2  15662040    502  Ярославль      Ж   42        8  159660.80         3   \n",
       "3  15744090    699  Ярославль      Ж   39        1        NaN         2   \n",
       "4  15780624    850    Рыбинск      Ж   43        2  125510.82         1   \n",
       "\n",
       "   CreditCard  Loyalty  estimated_salary  Churn  \n",
       "0           1        1         101348.88      1  \n",
       "1           0        1         112542.58      0  \n",
       "2           1        0         113931.57      1  \n",
       "3           0        0          93826.63      0  \n",
       "4           1        1          79084.10      0  "
      ]
     },
     "execution_count": 4,
     "metadata": {},
     "output_type": "execute_result"
    }
   ],
   "source": [
    "df.head()"
   ]
  },
  {
   "cell_type": "markdown",
   "metadata": {},
   "source": [
    "10000 записей.12 колонок. Есть пропуски в балансе, типы данных корректны, название колонок нужно привести в нижний регистр."
   ]
  },
  {
   "cell_type": "markdown",
   "metadata": {},
   "source": [
    "## Шаг. Предобработка данных."
   ]
  },
  {
   "cell_type": "markdown",
   "metadata": {},
   "source": [
    "Создадим копию исходника и будем работать уже с ней. Переведем колонки в нижний регистр."
   ]
  },
  {
   "cell_type": "code",
   "execution_count": 5,
   "metadata": {},
   "outputs": [],
   "source": [
    "data = df.copy()\n",
    "data.columns = data.columns.str.lower()"
   ]
  },
  {
   "cell_type": "markdown",
   "metadata": {},
   "source": [
    "Проверим на пропуски и дубликаты."
   ]
  },
  {
   "cell_type": "code",
   "execution_count": 6,
   "metadata": {},
   "outputs": [
    {
     "data": {
      "text/plain": [
       "userid                 0\n",
       "score                  0\n",
       "city                   0\n",
       "gender                 0\n",
       "age                    0\n",
       "objects                0\n",
       "balance             3617\n",
       "products               0\n",
       "creditcard             0\n",
       "loyalty                0\n",
       "estimated_salary       0\n",
       "churn                  0\n",
       "dtype: int64"
      ]
     },
     "execution_count": 6,
     "metadata": {},
     "output_type": "execute_result"
    }
   ],
   "source": [
    "data.isna().sum()"
   ]
  },
  {
   "cell_type": "markdown",
   "metadata": {},
   "source": [
    "В `balance` много отсутствующих данных."
   ]
  },
  {
   "cell_type": "code",
   "execution_count": 7,
   "metadata": {},
   "outputs": [
    {
     "data": {
      "text/plain": [
       "count      6383.000000\n",
       "mean     119827.493793\n",
       "std       30095.056462\n",
       "min        3768.690000\n",
       "25%      100181.975000\n",
       "50%      119839.690000\n",
       "75%      139512.290000\n",
       "max      250898.090000\n",
       "Name: balance, dtype: float64"
      ]
     },
     "execution_count": 7,
     "metadata": {},
     "output_type": "execute_result"
    }
   ],
   "source": [
    "data['balance'].describe()"
   ]
  },
  {
   "cell_type": "code",
   "execution_count": 8,
   "metadata": {},
   "outputs": [
    {
     "data": {
      "text/html": [
       "<div>\n",
       "<style scoped>\n",
       "    .dataframe tbody tr th:only-of-type {\n",
       "        vertical-align: middle;\n",
       "    }\n",
       "\n",
       "    .dataframe tbody tr th {\n",
       "        vertical-align: top;\n",
       "    }\n",
       "\n",
       "    .dataframe thead th {\n",
       "        text-align: right;\n",
       "    }\n",
       "</style>\n",
       "<table border=\"1\" class=\"dataframe\">\n",
       "  <thead>\n",
       "    <tr style=\"text-align: right;\">\n",
       "      <th></th>\n",
       "      <th>userid</th>\n",
       "      <th>score</th>\n",
       "      <th>city</th>\n",
       "      <th>gender</th>\n",
       "      <th>age</th>\n",
       "      <th>objects</th>\n",
       "      <th>balance</th>\n",
       "      <th>products</th>\n",
       "      <th>creditcard</th>\n",
       "      <th>loyalty</th>\n",
       "      <th>estimated_salary</th>\n",
       "      <th>churn</th>\n",
       "    </tr>\n",
       "  </thead>\n",
       "  <tbody>\n",
       "    <tr>\n",
       "      <td>0</td>\n",
       "      <td>15677338</td>\n",
       "      <td>619</td>\n",
       "      <td>Ярославль</td>\n",
       "      <td>Ж</td>\n",
       "      <td>42</td>\n",
       "      <td>2</td>\n",
       "      <td>NaN</td>\n",
       "      <td>1</td>\n",
       "      <td>1</td>\n",
       "      <td>1</td>\n",
       "      <td>101348.88</td>\n",
       "      <td>1</td>\n",
       "    </tr>\n",
       "    <tr>\n",
       "      <td>3</td>\n",
       "      <td>15744090</td>\n",
       "      <td>699</td>\n",
       "      <td>Ярославль</td>\n",
       "      <td>Ж</td>\n",
       "      <td>39</td>\n",
       "      <td>1</td>\n",
       "      <td>NaN</td>\n",
       "      <td>2</td>\n",
       "      <td>0</td>\n",
       "      <td>0</td>\n",
       "      <td>93826.63</td>\n",
       "      <td>0</td>\n",
       "    </tr>\n",
       "    <tr>\n",
       "      <td>6</td>\n",
       "      <td>15635267</td>\n",
       "      <td>822</td>\n",
       "      <td>Ярославль</td>\n",
       "      <td>М</td>\n",
       "      <td>50</td>\n",
       "      <td>7</td>\n",
       "      <td>NaN</td>\n",
       "      <td>2</td>\n",
       "      <td>1</td>\n",
       "      <td>1</td>\n",
       "      <td>10062.80</td>\n",
       "      <td>0</td>\n",
       "    </tr>\n",
       "    <tr>\n",
       "      <td>11</td>\n",
       "      <td>15779909</td>\n",
       "      <td>497</td>\n",
       "      <td>Рыбинск</td>\n",
       "      <td>М</td>\n",
       "      <td>24</td>\n",
       "      <td>3</td>\n",
       "      <td>NaN</td>\n",
       "      <td>2</td>\n",
       "      <td>1</td>\n",
       "      <td>0</td>\n",
       "      <td>76390.01</td>\n",
       "      <td>0</td>\n",
       "    </tr>\n",
       "    <tr>\n",
       "      <td>12</td>\n",
       "      <td>15675000</td>\n",
       "      <td>476</td>\n",
       "      <td>Ярославль</td>\n",
       "      <td>Ж</td>\n",
       "      <td>34</td>\n",
       "      <td>10</td>\n",
       "      <td>NaN</td>\n",
       "      <td>2</td>\n",
       "      <td>1</td>\n",
       "      <td>0</td>\n",
       "      <td>26260.98</td>\n",
       "      <td>0</td>\n",
       "    </tr>\n",
       "    <tr>\n",
       "      <td>13</td>\n",
       "      <td>15734219</td>\n",
       "      <td>549</td>\n",
       "      <td>Ярославль</td>\n",
       "      <td>Ж</td>\n",
       "      <td>25</td>\n",
       "      <td>5</td>\n",
       "      <td>NaN</td>\n",
       "      <td>2</td>\n",
       "      <td>0</td>\n",
       "      <td>0</td>\n",
       "      <td>190857.79</td>\n",
       "      <td>0</td>\n",
       "    </tr>\n",
       "    <tr>\n",
       "      <td>14</td>\n",
       "      <td>15643618</td>\n",
       "      <td>635</td>\n",
       "      <td>Рыбинск</td>\n",
       "      <td>Ж</td>\n",
       "      <td>35</td>\n",
       "      <td>7</td>\n",
       "      <td>NaN</td>\n",
       "      <td>2</td>\n",
       "      <td>1</td>\n",
       "      <td>1</td>\n",
       "      <td>65951.65</td>\n",
       "      <td>0</td>\n",
       "    </tr>\n",
       "    <tr>\n",
       "      <td>17</td>\n",
       "      <td>15830954</td>\n",
       "      <td>549</td>\n",
       "      <td>Рыбинск</td>\n",
       "      <td>Ж</td>\n",
       "      <td>24</td>\n",
       "      <td>9</td>\n",
       "      <td>NaN</td>\n",
       "      <td>2</td>\n",
       "      <td>1</td>\n",
       "      <td>1</td>\n",
       "      <td>14406.41</td>\n",
       "      <td>0</td>\n",
       "    </tr>\n",
       "    <tr>\n",
       "      <td>18</td>\n",
       "      <td>15704243</td>\n",
       "      <td>587</td>\n",
       "      <td>Рыбинск</td>\n",
       "      <td>М</td>\n",
       "      <td>45</td>\n",
       "      <td>6</td>\n",
       "      <td>NaN</td>\n",
       "      <td>1</td>\n",
       "      <td>0</td>\n",
       "      <td>0</td>\n",
       "      <td>158684.81</td>\n",
       "      <td>0</td>\n",
       "    </tr>\n",
       "    <tr>\n",
       "      <td>19</td>\n",
       "      <td>15611718</td>\n",
       "      <td>726</td>\n",
       "      <td>Ярославль</td>\n",
       "      <td>Ж</td>\n",
       "      <td>24</td>\n",
       "      <td>6</td>\n",
       "      <td>NaN</td>\n",
       "      <td>2</td>\n",
       "      <td>1</td>\n",
       "      <td>1</td>\n",
       "      <td>54724.03</td>\n",
       "      <td>0</td>\n",
       "    </tr>\n",
       "    <tr>\n",
       "      <td>20</td>\n",
       "      <td>15620393</td>\n",
       "      <td>732</td>\n",
       "      <td>Ярославль</td>\n",
       "      <td>М</td>\n",
       "      <td>41</td>\n",
       "      <td>8</td>\n",
       "      <td>NaN</td>\n",
       "      <td>2</td>\n",
       "      <td>1</td>\n",
       "      <td>1</td>\n",
       "      <td>170886.17</td>\n",
       "      <td>0</td>\n",
       "    </tr>\n",
       "    <tr>\n",
       "      <td>21</td>\n",
       "      <td>15640681</td>\n",
       "      <td>636</td>\n",
       "      <td>Рыбинск</td>\n",
       "      <td>Ж</td>\n",
       "      <td>32</td>\n",
       "      <td>8</td>\n",
       "      <td>NaN</td>\n",
       "      <td>2</td>\n",
       "      <td>1</td>\n",
       "      <td>0</td>\n",
       "      <td>138555.46</td>\n",
       "      <td>0</td>\n",
       "    </tr>\n",
       "    <tr>\n",
       "      <td>22</td>\n",
       "      <td>15742045</td>\n",
       "      <td>510</td>\n",
       "      <td>Рыбинск</td>\n",
       "      <td>Ж</td>\n",
       "      <td>38</td>\n",
       "      <td>4</td>\n",
       "      <td>NaN</td>\n",
       "      <td>1</td>\n",
       "      <td>1</td>\n",
       "      <td>0</td>\n",
       "      <td>118913.53</td>\n",
       "      <td>1</td>\n",
       "    </tr>\n",
       "    <tr>\n",
       "      <td>23</td>\n",
       "      <td>15768473</td>\n",
       "      <td>669</td>\n",
       "      <td>Ярославль</td>\n",
       "      <td>М</td>\n",
       "      <td>46</td>\n",
       "      <td>3</td>\n",
       "      <td>NaN</td>\n",
       "      <td>2</td>\n",
       "      <td>0</td>\n",
       "      <td>1</td>\n",
       "      <td>8487.75</td>\n",
       "      <td>0</td>\n",
       "    </tr>\n",
       "    <tr>\n",
       "      <td>24</td>\n",
       "      <td>15667783</td>\n",
       "      <td>846</td>\n",
       "      <td>Ярославль</td>\n",
       "      <td>Ж</td>\n",
       "      <td>38</td>\n",
       "      <td>5</td>\n",
       "      <td>NaN</td>\n",
       "      <td>1</td>\n",
       "      <td>1</td>\n",
       "      <td>1</td>\n",
       "      <td>187616.16</td>\n",
       "      <td>0</td>\n",
       "    </tr>\n",
       "    <tr>\n",
       "      <td>25</td>\n",
       "      <td>15780927</td>\n",
       "      <td>577</td>\n",
       "      <td>Ярославль</td>\n",
       "      <td>М</td>\n",
       "      <td>25</td>\n",
       "      <td>3</td>\n",
       "      <td>NaN</td>\n",
       "      <td>2</td>\n",
       "      <td>0</td>\n",
       "      <td>1</td>\n",
       "      <td>124508.29</td>\n",
       "      <td>0</td>\n",
       "    </tr>\n",
       "    <tr>\n",
       "      <td>27</td>\n",
       "      <td>15743508</td>\n",
       "      <td>571</td>\n",
       "      <td>Ярославль</td>\n",
       "      <td>М</td>\n",
       "      <td>44</td>\n",
       "      <td>9</td>\n",
       "      <td>NaN</td>\n",
       "      <td>2</td>\n",
       "      <td>0</td>\n",
       "      <td>0</td>\n",
       "      <td>38433.35</td>\n",
       "      <td>0</td>\n",
       "    </tr>\n",
       "    <tr>\n",
       "      <td>30</td>\n",
       "      <td>15632211</td>\n",
       "      <td>591</td>\n",
       "      <td>Рыбинск</td>\n",
       "      <td>Ж</td>\n",
       "      <td>39</td>\n",
       "      <td>3</td>\n",
       "      <td>NaN</td>\n",
       "      <td>3</td>\n",
       "      <td>1</td>\n",
       "      <td>0</td>\n",
       "      <td>140469.38</td>\n",
       "      <td>1</td>\n",
       "    </tr>\n",
       "    <tr>\n",
       "      <td>33</td>\n",
       "      <td>15702164</td>\n",
       "      <td>520</td>\n",
       "      <td>Рыбинск</td>\n",
       "      <td>Ж</td>\n",
       "      <td>42</td>\n",
       "      <td>6</td>\n",
       "      <td>NaN</td>\n",
       "      <td>2</td>\n",
       "      <td>1</td>\n",
       "      <td>1</td>\n",
       "      <td>34410.55</td>\n",
       "      <td>0</td>\n",
       "    </tr>\n",
       "    <tr>\n",
       "      <td>34</td>\n",
       "      <td>15775699</td>\n",
       "      <td>722</td>\n",
       "      <td>Рыбинск</td>\n",
       "      <td>Ж</td>\n",
       "      <td>29</td>\n",
       "      <td>9</td>\n",
       "      <td>NaN</td>\n",
       "      <td>2</td>\n",
       "      <td>1</td>\n",
       "      <td>1</td>\n",
       "      <td>142033.07</td>\n",
       "      <td>0</td>\n",
       "    </tr>\n",
       "  </tbody>\n",
       "</table>\n",
       "</div>"
      ],
      "text/plain": [
       "      userid  score       city gender  age  objects  balance  products  \\\n",
       "0   15677338    619  Ярославль      Ж   42        2      NaN         1   \n",
       "3   15744090    699  Ярославль      Ж   39        1      NaN         2   \n",
       "6   15635267    822  Ярославль      М   50        7      NaN         2   \n",
       "11  15779909    497    Рыбинск      М   24        3      NaN         2   \n",
       "12  15675000    476  Ярославль      Ж   34       10      NaN         2   \n",
       "13  15734219    549  Ярославль      Ж   25        5      NaN         2   \n",
       "14  15643618    635    Рыбинск      Ж   35        7      NaN         2   \n",
       "17  15830954    549    Рыбинск      Ж   24        9      NaN         2   \n",
       "18  15704243    587    Рыбинск      М   45        6      NaN         1   \n",
       "19  15611718    726  Ярославль      Ж   24        6      NaN         2   \n",
       "20  15620393    732  Ярославль      М   41        8      NaN         2   \n",
       "21  15640681    636    Рыбинск      Ж   32        8      NaN         2   \n",
       "22  15742045    510    Рыбинск      Ж   38        4      NaN         1   \n",
       "23  15768473    669  Ярославль      М   46        3      NaN         2   \n",
       "24  15667783    846  Ярославль      Ж   38        5      NaN         1   \n",
       "25  15780927    577  Ярославль      М   25        3      NaN         2   \n",
       "27  15743508    571  Ярославль      М   44        9      NaN         2   \n",
       "30  15632211    591    Рыбинск      Ж   39        3      NaN         3   \n",
       "33  15702164    520    Рыбинск      Ж   42        6      NaN         2   \n",
       "34  15775699    722    Рыбинск      Ж   29        9      NaN         2   \n",
       "\n",
       "    creditcard  loyalty  estimated_salary  churn  \n",
       "0            1        1         101348.88      1  \n",
       "3            0        0          93826.63      0  \n",
       "6            1        1          10062.80      0  \n",
       "11           1        0          76390.01      0  \n",
       "12           1        0          26260.98      0  \n",
       "13           0        0         190857.79      0  \n",
       "14           1        1          65951.65      0  \n",
       "17           1        1          14406.41      0  \n",
       "18           0        0         158684.81      0  \n",
       "19           1        1          54724.03      0  \n",
       "20           1        1         170886.17      0  \n",
       "21           1        0         138555.46      0  \n",
       "22           1        0         118913.53      1  \n",
       "23           0        1           8487.75      0  \n",
       "24           1        1         187616.16      0  \n",
       "25           0        1         124508.29      0  \n",
       "27           0        0          38433.35      0  \n",
       "30           1        0         140469.38      1  \n",
       "33           1        1          34410.55      0  \n",
       "34           1        1         142033.07      0  "
      ]
     },
     "execution_count": 8,
     "metadata": {},
     "output_type": "execute_result"
    }
   ],
   "source": [
    "data[data['balance'].isna()].head(20) #посмотрим их, нет ли зависимостей?"
   ]
  },
  {
   "cell_type": "markdown",
   "metadata": {},
   "source": [
    "Совершенно разные строки с совершенно разными параметрами(город,пол,возраст,продукты,лояльность и тд.).Явной зависимости нет. Как так произошло, что все остальные параметры выгрузились корректно, а именно баланс нет? Может баланс у этих людей в минусах? Но ведь среди них есть лояльные клиенты с высокой зарплатой. Природу пропусков обьяснить тут сложно."
   ]
  },
  {
   "cell_type": "code",
   "execution_count": 56,
   "metadata": {},
   "outputs": [
    {
     "data": {
      "text/html": [
       "<div>\n",
       "<style scoped>\n",
       "    .dataframe tbody tr th:only-of-type {\n",
       "        vertical-align: middle;\n",
       "    }\n",
       "\n",
       "    .dataframe tbody tr th {\n",
       "        vertical-align: top;\n",
       "    }\n",
       "\n",
       "    .dataframe thead th {\n",
       "        text-align: right;\n",
       "    }\n",
       "</style>\n",
       "<table border=\"1\" class=\"dataframe\">\n",
       "  <thead>\n",
       "    <tr style=\"text-align: right;\">\n",
       "      <th></th>\n",
       "      <th>userid</th>\n",
       "    </tr>\n",
       "    <tr>\n",
       "      <th>City</th>\n",
       "      <th></th>\n",
       "    </tr>\n",
       "  </thead>\n",
       "  <tbody>\n",
       "    <tr>\n",
       "      <td>Рыбинск</td>\n",
       "      <td>1199</td>\n",
       "    </tr>\n",
       "    <tr>\n",
       "      <td>Ярославль</td>\n",
       "      <td>2418</td>\n",
       "    </tr>\n",
       "  </tbody>\n",
       "</table>\n",
       "</div>"
      ],
      "text/plain": [
       "           userid\n",
       "City             \n",
       "Рыбинск      1199\n",
       "Ярославль    2418"
      ]
     },
     "execution_count": 56,
     "metadata": {},
     "output_type": "execute_result"
    }
   ],
   "source": [
    "df[df['Balance'].isna()].groupby('City').agg({'userid': 'nunique'})"
   ]
  },
  {
   "cell_type": "markdown",
   "metadata": {},
   "source": [
    "**Есть 3 варианта:**\n",
    "\n",
    "**1 - Удалить данные.** Не подходит. Теряется 37% остальных полезных данных, а это очень много. \n",
    "\n",
    "**2 - Заполнить пропуски средними\\медианными значениями.** Не подходит, т.к. эти данные скучкуются вокруг среднего и исказят реальную картину на балансу. Статистический анализ и модель прогнозирования станут бесполезны.\n",
    "\n",
    "**3 - Заполнить пропуски \"заглушкой\"** Например, нулями. Так мы сохраним остальные данные и в нужный момент можем отфильтровать эти нули, чтобы не учитывать их при анализе. Самый практичный вариант. "
   ]
  },
  {
   "cell_type": "code",
   "execution_count": 9,
   "metadata": {},
   "outputs": [],
   "source": [
    "data['balance'] = data['balance'].fillna(0)"
   ]
  },
  {
   "cell_type": "code",
   "execution_count": 10,
   "metadata": {},
   "outputs": [
    {
     "data": {
      "text/plain": [
       "0"
      ]
     },
     "execution_count": 10,
     "metadata": {},
     "output_type": "execute_result"
    }
   ],
   "source": [
    "data.duplicated().sum()"
   ]
  },
  {
   "cell_type": "markdown",
   "metadata": {},
   "source": [
    "Дубликатов в данных нет."
   ]
  },
  {
   "cell_type": "code",
   "execution_count": 11,
   "metadata": {},
   "outputs": [
    {
     "data": {
      "text/html": [
       "<div>\n",
       "<style scoped>\n",
       "    .dataframe tbody tr th:only-of-type {\n",
       "        vertical-align: middle;\n",
       "    }\n",
       "\n",
       "    .dataframe tbody tr th {\n",
       "        vertical-align: top;\n",
       "    }\n",
       "\n",
       "    .dataframe thead th {\n",
       "        text-align: right;\n",
       "    }\n",
       "</style>\n",
       "<table border=\"1\" class=\"dataframe\">\n",
       "  <thead>\n",
       "    <tr style=\"text-align: right;\">\n",
       "      <th></th>\n",
       "      <th>userid</th>\n",
       "      <th>score</th>\n",
       "      <th>city</th>\n",
       "      <th>gender</th>\n",
       "      <th>age</th>\n",
       "      <th>objects</th>\n",
       "      <th>balance</th>\n",
       "      <th>products</th>\n",
       "      <th>creditcard</th>\n",
       "      <th>loyalty</th>\n",
       "      <th>estimated_salary</th>\n",
       "      <th>churn</th>\n",
       "    </tr>\n",
       "  </thead>\n",
       "  <tbody>\n",
       "    <tr>\n",
       "      <td>0</td>\n",
       "      <td>15677338</td>\n",
       "      <td>619</td>\n",
       "      <td>Ярославль</td>\n",
       "      <td>Ж</td>\n",
       "      <td>42</td>\n",
       "      <td>2</td>\n",
       "      <td>0.00</td>\n",
       "      <td>1</td>\n",
       "      <td>1</td>\n",
       "      <td>1</td>\n",
       "      <td>101348.88</td>\n",
       "      <td>1</td>\n",
       "    </tr>\n",
       "    <tr>\n",
       "      <td>1</td>\n",
       "      <td>15690047</td>\n",
       "      <td>608</td>\n",
       "      <td>Рыбинск</td>\n",
       "      <td>Ж</td>\n",
       "      <td>41</td>\n",
       "      <td>1</td>\n",
       "      <td>83807.86</td>\n",
       "      <td>1</td>\n",
       "      <td>0</td>\n",
       "      <td>1</td>\n",
       "      <td>112542.58</td>\n",
       "      <td>0</td>\n",
       "    </tr>\n",
       "    <tr>\n",
       "      <td>2</td>\n",
       "      <td>15662040</td>\n",
       "      <td>502</td>\n",
       "      <td>Ярославль</td>\n",
       "      <td>Ж</td>\n",
       "      <td>42</td>\n",
       "      <td>8</td>\n",
       "      <td>159660.80</td>\n",
       "      <td>3</td>\n",
       "      <td>1</td>\n",
       "      <td>0</td>\n",
       "      <td>113931.57</td>\n",
       "      <td>1</td>\n",
       "    </tr>\n",
       "    <tr>\n",
       "      <td>3</td>\n",
       "      <td>15744090</td>\n",
       "      <td>699</td>\n",
       "      <td>Ярославль</td>\n",
       "      <td>Ж</td>\n",
       "      <td>39</td>\n",
       "      <td>1</td>\n",
       "      <td>0.00</td>\n",
       "      <td>2</td>\n",
       "      <td>0</td>\n",
       "      <td>0</td>\n",
       "      <td>93826.63</td>\n",
       "      <td>0</td>\n",
       "    </tr>\n",
       "    <tr>\n",
       "      <td>4</td>\n",
       "      <td>15780624</td>\n",
       "      <td>850</td>\n",
       "      <td>Рыбинск</td>\n",
       "      <td>Ж</td>\n",
       "      <td>43</td>\n",
       "      <td>2</td>\n",
       "      <td>125510.82</td>\n",
       "      <td>1</td>\n",
       "      <td>1</td>\n",
       "      <td>1</td>\n",
       "      <td>79084.10</td>\n",
       "      <td>0</td>\n",
       "    </tr>\n",
       "    <tr>\n",
       "      <td>...</td>\n",
       "      <td>...</td>\n",
       "      <td>...</td>\n",
       "      <td>...</td>\n",
       "      <td>...</td>\n",
       "      <td>...</td>\n",
       "      <td>...</td>\n",
       "      <td>...</td>\n",
       "      <td>...</td>\n",
       "      <td>...</td>\n",
       "      <td>...</td>\n",
       "      <td>...</td>\n",
       "      <td>...</td>\n",
       "    </tr>\n",
       "    <tr>\n",
       "      <td>9995</td>\n",
       "      <td>15648965</td>\n",
       "      <td>771</td>\n",
       "      <td>Ярославль</td>\n",
       "      <td>М</td>\n",
       "      <td>39</td>\n",
       "      <td>5</td>\n",
       "      <td>0.00</td>\n",
       "      <td>2</td>\n",
       "      <td>1</td>\n",
       "      <td>0</td>\n",
       "      <td>96270.64</td>\n",
       "      <td>0</td>\n",
       "    </tr>\n",
       "    <tr>\n",
       "      <td>9996</td>\n",
       "      <td>15612628</td>\n",
       "      <td>516</td>\n",
       "      <td>Ярославль</td>\n",
       "      <td>М</td>\n",
       "      <td>35</td>\n",
       "      <td>10</td>\n",
       "      <td>57369.61</td>\n",
       "      <td>1</td>\n",
       "      <td>1</td>\n",
       "      <td>1</td>\n",
       "      <td>101699.77</td>\n",
       "      <td>0</td>\n",
       "    </tr>\n",
       "    <tr>\n",
       "      <td>9997</td>\n",
       "      <td>15627268</td>\n",
       "      <td>709</td>\n",
       "      <td>Ярославль</td>\n",
       "      <td>Ж</td>\n",
       "      <td>36</td>\n",
       "      <td>7</td>\n",
       "      <td>0.00</td>\n",
       "      <td>1</td>\n",
       "      <td>0</td>\n",
       "      <td>1</td>\n",
       "      <td>42085.58</td>\n",
       "      <td>1</td>\n",
       "    </tr>\n",
       "    <tr>\n",
       "      <td>9998</td>\n",
       "      <td>15725091</td>\n",
       "      <td>772</td>\n",
       "      <td>Ростов Великий</td>\n",
       "      <td>М</td>\n",
       "      <td>42</td>\n",
       "      <td>3</td>\n",
       "      <td>75075.31</td>\n",
       "      <td>2</td>\n",
       "      <td>1</td>\n",
       "      <td>0</td>\n",
       "      <td>92888.52</td>\n",
       "      <td>1</td>\n",
       "    </tr>\n",
       "    <tr>\n",
       "      <td>9999</td>\n",
       "      <td>15671055</td>\n",
       "      <td>792</td>\n",
       "      <td>Ярославль</td>\n",
       "      <td>Ж</td>\n",
       "      <td>28</td>\n",
       "      <td>4</td>\n",
       "      <td>130142.79</td>\n",
       "      <td>1</td>\n",
       "      <td>1</td>\n",
       "      <td>0</td>\n",
       "      <td>38190.78</td>\n",
       "      <td>0</td>\n",
       "    </tr>\n",
       "  </tbody>\n",
       "</table>\n",
       "<p>10000 rows × 12 columns</p>\n",
       "</div>"
      ],
      "text/plain": [
       "        userid  score            city gender  age  objects    balance  \\\n",
       "0     15677338    619       Ярославль      Ж   42        2       0.00   \n",
       "1     15690047    608         Рыбинск      Ж   41        1   83807.86   \n",
       "2     15662040    502       Ярославль      Ж   42        8  159660.80   \n",
       "3     15744090    699       Ярославль      Ж   39        1       0.00   \n",
       "4     15780624    850         Рыбинск      Ж   43        2  125510.82   \n",
       "...        ...    ...             ...    ...  ...      ...        ...   \n",
       "9995  15648965    771       Ярославль      М   39        5       0.00   \n",
       "9996  15612628    516       Ярославль      М   35       10   57369.61   \n",
       "9997  15627268    709       Ярославль      Ж   36        7       0.00   \n",
       "9998  15725091    772  Ростов Великий      М   42        3   75075.31   \n",
       "9999  15671055    792       Ярославль      Ж   28        4  130142.79   \n",
       "\n",
       "      products  creditcard  loyalty  estimated_salary  churn  \n",
       "0            1           1        1         101348.88      1  \n",
       "1            1           0        1         112542.58      0  \n",
       "2            3           1        0         113931.57      1  \n",
       "3            2           0        0          93826.63      0  \n",
       "4            1           1        1          79084.10      0  \n",
       "...        ...         ...      ...               ...    ...  \n",
       "9995         2           1        0          96270.64      0  \n",
       "9996         1           1        1         101699.77      0  \n",
       "9997         1           0        1          42085.58      1  \n",
       "9998         2           1        0          92888.52      1  \n",
       "9999         1           1        0          38190.78      0  \n",
       "\n",
       "[10000 rows x 12 columns]"
      ]
     },
     "execution_count": 11,
     "metadata": {},
     "output_type": "execute_result"
    }
   ],
   "source": [
    "data"
   ]
  },
  {
   "cell_type": "code",
   "execution_count": 12,
   "metadata": {},
   "outputs": [
    {
     "data": {
      "text/html": [
       "<div>\n",
       "<style scoped>\n",
       "    .dataframe tbody tr th:only-of-type {\n",
       "        vertical-align: middle;\n",
       "    }\n",
       "\n",
       "    .dataframe tbody tr th {\n",
       "        vertical-align: top;\n",
       "    }\n",
       "\n",
       "    .dataframe thead th {\n",
       "        text-align: right;\n",
       "    }\n",
       "</style>\n",
       "<table border=\"1\" class=\"dataframe\">\n",
       "  <thead>\n",
       "    <tr style=\"text-align: right;\">\n",
       "      <th></th>\n",
       "      <th>userid</th>\n",
       "      <th>score</th>\n",
       "      <th>age</th>\n",
       "      <th>objects</th>\n",
       "      <th>balance</th>\n",
       "      <th>products</th>\n",
       "      <th>creditcard</th>\n",
       "      <th>loyalty</th>\n",
       "      <th>estimated_salary</th>\n",
       "      <th>churn</th>\n",
       "    </tr>\n",
       "  </thead>\n",
       "  <tbody>\n",
       "    <tr>\n",
       "      <td>count</td>\n",
       "      <td>1.000000e+04</td>\n",
       "      <td>10000.000000</td>\n",
       "      <td>10000.000000</td>\n",
       "      <td>10000.000000</td>\n",
       "      <td>10000.000000</td>\n",
       "      <td>10000.000000</td>\n",
       "      <td>10000.00000</td>\n",
       "      <td>10000.000000</td>\n",
       "      <td>10000.000000</td>\n",
       "      <td>10000.000000</td>\n",
       "    </tr>\n",
       "    <tr>\n",
       "      <td>mean</td>\n",
       "      <td>1.573368e+07</td>\n",
       "      <td>650.528800</td>\n",
       "      <td>38.921800</td>\n",
       "      <td>5.012800</td>\n",
       "      <td>76485.889288</td>\n",
       "      <td>1.530200</td>\n",
       "      <td>0.70550</td>\n",
       "      <td>0.515100</td>\n",
       "      <td>100090.239881</td>\n",
       "      <td>0.203700</td>\n",
       "    </tr>\n",
       "    <tr>\n",
       "      <td>std</td>\n",
       "      <td>7.193619e+04</td>\n",
       "      <td>96.653299</td>\n",
       "      <td>10.487806</td>\n",
       "      <td>2.892174</td>\n",
       "      <td>62397.405202</td>\n",
       "      <td>0.581654</td>\n",
       "      <td>0.45584</td>\n",
       "      <td>0.499797</td>\n",
       "      <td>57510.492818</td>\n",
       "      <td>0.402769</td>\n",
       "    </tr>\n",
       "    <tr>\n",
       "      <td>min</td>\n",
       "      <td>1.560844e+07</td>\n",
       "      <td>350.000000</td>\n",
       "      <td>18.000000</td>\n",
       "      <td>0.000000</td>\n",
       "      <td>0.000000</td>\n",
       "      <td>1.000000</td>\n",
       "      <td>0.00000</td>\n",
       "      <td>0.000000</td>\n",
       "      <td>11.580000</td>\n",
       "      <td>0.000000</td>\n",
       "    </tr>\n",
       "    <tr>\n",
       "      <td>25%</td>\n",
       "      <td>1.567126e+07</td>\n",
       "      <td>584.000000</td>\n",
       "      <td>32.000000</td>\n",
       "      <td>3.000000</td>\n",
       "      <td>0.000000</td>\n",
       "      <td>1.000000</td>\n",
       "      <td>0.00000</td>\n",
       "      <td>0.000000</td>\n",
       "      <td>51002.110000</td>\n",
       "      <td>0.000000</td>\n",
       "    </tr>\n",
       "    <tr>\n",
       "      <td>50%</td>\n",
       "      <td>1.573347e+07</td>\n",
       "      <td>652.000000</td>\n",
       "      <td>37.000000</td>\n",
       "      <td>5.000000</td>\n",
       "      <td>97198.540000</td>\n",
       "      <td>1.000000</td>\n",
       "      <td>1.00000</td>\n",
       "      <td>1.000000</td>\n",
       "      <td>100193.915000</td>\n",
       "      <td>0.000000</td>\n",
       "    </tr>\n",
       "    <tr>\n",
       "      <td>75%</td>\n",
       "      <td>1.579597e+07</td>\n",
       "      <td>718.000000</td>\n",
       "      <td>44.000000</td>\n",
       "      <td>7.000000</td>\n",
       "      <td>127644.240000</td>\n",
       "      <td>2.000000</td>\n",
       "      <td>1.00000</td>\n",
       "      <td>1.000000</td>\n",
       "      <td>149388.247500</td>\n",
       "      <td>0.000000</td>\n",
       "    </tr>\n",
       "    <tr>\n",
       "      <td>max</td>\n",
       "      <td>1.585843e+07</td>\n",
       "      <td>850.000000</td>\n",
       "      <td>92.000000</td>\n",
       "      <td>10.000000</td>\n",
       "      <td>250898.090000</td>\n",
       "      <td>4.000000</td>\n",
       "      <td>1.00000</td>\n",
       "      <td>1.000000</td>\n",
       "      <td>199992.480000</td>\n",
       "      <td>1.000000</td>\n",
       "    </tr>\n",
       "  </tbody>\n",
       "</table>\n",
       "</div>"
      ],
      "text/plain": [
       "             userid         score           age       objects        balance  \\\n",
       "count  1.000000e+04  10000.000000  10000.000000  10000.000000   10000.000000   \n",
       "mean   1.573368e+07    650.528800     38.921800      5.012800   76485.889288   \n",
       "std    7.193619e+04     96.653299     10.487806      2.892174   62397.405202   \n",
       "min    1.560844e+07    350.000000     18.000000      0.000000       0.000000   \n",
       "25%    1.567126e+07    584.000000     32.000000      3.000000       0.000000   \n",
       "50%    1.573347e+07    652.000000     37.000000      5.000000   97198.540000   \n",
       "75%    1.579597e+07    718.000000     44.000000      7.000000  127644.240000   \n",
       "max    1.585843e+07    850.000000     92.000000     10.000000  250898.090000   \n",
       "\n",
       "           products   creditcard       loyalty  estimated_salary         churn  \n",
       "count  10000.000000  10000.00000  10000.000000      10000.000000  10000.000000  \n",
       "mean       1.530200      0.70550      0.515100     100090.239881      0.203700  \n",
       "std        0.581654      0.45584      0.499797      57510.492818      0.402769  \n",
       "min        1.000000      0.00000      0.000000         11.580000      0.000000  \n",
       "25%        1.000000      0.00000      0.000000      51002.110000      0.000000  \n",
       "50%        1.000000      1.00000      1.000000     100193.915000      0.000000  \n",
       "75%        2.000000      1.00000      1.000000     149388.247500      0.000000  \n",
       "max        4.000000      1.00000      1.000000     199992.480000      1.000000  "
      ]
     },
     "execution_count": 12,
     "metadata": {},
     "output_type": "execute_result"
    }
   ],
   "source": [
    "data.describe() # убедимся нет ли отрицательных значений или что-нибудь подобное"
   ]
  },
  {
   "cell_type": "code",
   "execution_count": 13,
   "metadata": {},
   "outputs": [
    {
     "data": {
      "text/plain": [
       "(array(['Ж', 'М'], dtype=object),\n",
       " array(['Ярославль', 'Рыбинск', 'Ростов Великий'], dtype=object))"
      ]
     },
     "execution_count": 13,
     "metadata": {},
     "output_type": "execute_result"
    }
   ],
   "source": [
    "data.gender.unique(),data.city.unique() # провем текстовые значения на уникальность, нет ли чего лишнего?"
   ]
  },
  {
   "cell_type": "markdown",
   "metadata": {},
   "source": [
    "**Предобработку данных можно считать завершенной**"
   ]
  },
  {
   "cell_type": "markdown",
   "metadata": {},
   "source": [
    "## Шаг. Исследовательский анализ данных."
   ]
  },
  {
   "cell_type": "markdown",
   "metadata": {},
   "source": [
    "- Посмотрим средние значения признаков. Отдельно оставшихся клиентов и ушедших. Есть ли разница между ними?\n",
    "- Построим гистограммы распределения величин.\n",
    "- Оценим выбросы в данных.\n",
    "- Посмотрим отношения между парами признаков.\n",
    "- Составим портреты клиентов. Сделаем выводы."
   ]
  },
  {
   "cell_type": "code",
   "execution_count": 14,
   "metadata": {},
   "outputs": [
    {
     "data": {
      "text/html": [
       "<div>\n",
       "<style scoped>\n",
       "    .dataframe tbody tr th:only-of-type {\n",
       "        vertical-align: middle;\n",
       "    }\n",
       "\n",
       "    .dataframe tbody tr th {\n",
       "        vertical-align: top;\n",
       "    }\n",
       "\n",
       "    .dataframe thead th {\n",
       "        text-align: right;\n",
       "    }\n",
       "</style>\n",
       "<table border=\"1\" class=\"dataframe\">\n",
       "  <thead>\n",
       "    <tr style=\"text-align: right;\">\n",
       "      <th></th>\n",
       "      <th>userid</th>\n",
       "      <th>score</th>\n",
       "      <th>age</th>\n",
       "      <th>objects</th>\n",
       "      <th>balance</th>\n",
       "      <th>products</th>\n",
       "      <th>creditcard</th>\n",
       "      <th>loyalty</th>\n",
       "      <th>estimated_salary</th>\n",
       "    </tr>\n",
       "    <tr>\n",
       "      <th>churn</th>\n",
       "      <th></th>\n",
       "      <th></th>\n",
       "      <th></th>\n",
       "      <th></th>\n",
       "      <th></th>\n",
       "      <th></th>\n",
       "      <th></th>\n",
       "      <th></th>\n",
       "      <th></th>\n",
       "    </tr>\n",
       "  </thead>\n",
       "  <tbody>\n",
       "    <tr>\n",
       "      <td>0</td>\n",
       "      <td>1.573390e+07</td>\n",
       "      <td>651.853196</td>\n",
       "      <td>37.408389</td>\n",
       "      <td>5.033279</td>\n",
       "      <td>72745.296779</td>\n",
       "      <td>1.544267</td>\n",
       "      <td>0.707146</td>\n",
       "      <td>0.554565</td>\n",
       "      <td>99738.391772</td>\n",
       "    </tr>\n",
       "    <tr>\n",
       "      <td>1</td>\n",
       "      <td>1.573279e+07</td>\n",
       "      <td>645.351497</td>\n",
       "      <td>44.837997</td>\n",
       "      <td>4.932744</td>\n",
       "      <td>91108.539337</td>\n",
       "      <td>1.475209</td>\n",
       "      <td>0.699067</td>\n",
       "      <td>0.360825</td>\n",
       "      <td>101465.677531</td>\n",
       "    </tr>\n",
       "  </tbody>\n",
       "</table>\n",
       "</div>"
      ],
      "text/plain": [
       "             userid       score        age   objects       balance  products  \\\n",
       "churn                                                                          \n",
       "0      1.573390e+07  651.853196  37.408389  5.033279  72745.296779  1.544267   \n",
       "1      1.573279e+07  645.351497  44.837997  4.932744  91108.539337  1.475209   \n",
       "\n",
       "       creditcard   loyalty  estimated_salary  \n",
       "churn                                          \n",
       "0        0.707146  0.554565      99738.391772  \n",
       "1        0.699067  0.360825     101465.677531  "
      ]
     },
     "execution_count": 14,
     "metadata": {},
     "output_type": "execute_result"
    }
   ],
   "source": [
    "data.groupby('churn').agg('mean')"
   ]
  },
  {
   "cell_type": "code",
   "execution_count": 15,
   "metadata": {},
   "outputs": [
    {
     "data": {
      "text/plain": [
       "М    5457\n",
       "Ж    4543\n",
       "Name: gender, dtype: int64"
      ]
     },
     "execution_count": 15,
     "metadata": {},
     "output_type": "execute_result"
    }
   ],
   "source": [
    "data.gender.value_counts()"
   ]
  },
  {
   "cell_type": "code",
   "execution_count": 16,
   "metadata": {},
   "outputs": [
    {
     "data": {
      "text/plain": [
       "Ярославль         5014\n",
       "Ростов Великий    2509\n",
       "Рыбинск           2477\n",
       "Name: city, dtype: int64"
      ]
     },
     "execution_count": 16,
     "metadata": {},
     "output_type": "execute_result"
    }
   ],
   "source": [
    "data.city.value_counts()"
   ]
  },
  {
   "cell_type": "markdown",
   "metadata": {},
   "source": [
    "Ушедшие клиенты в среднем старше, на балансе у них больше денег, активность и количество продуктов в среднем ожидаемо ниже. Мужчин больше, чем женщин. Из Ярославля половина клиентов. Все остальные параметры примерно равны."
   ]
  },
  {
   "cell_type": "markdown",
   "metadata": {},
   "source": [
    "**Чтобы более детально изучить информацию, построим гистограммы распределения величин.**"
   ]
  },
  {
   "cell_type": "code",
   "execution_count": 17,
   "metadata": {},
   "outputs": [
    {
     "data": {
      "image/png": "[encoded data removed]",
      "text/plain": [
       "<Figure size 1224x1224 with 12 Axes>"
      ]
     },
     "metadata": {
      "needs_background": "light"
     },
     "output_type": "display_data"
    }
   ],
   "source": [
    "grid =  [(i, j) for i in range(4) for j in range(3)]\n",
    "data_columns = data.drop(columns=['userid']).columns\n",
    "\n",
    "fig, ax = plt.subplots(4, 3, figsize=(17, 17))\n",
    "sns.set_style(\"darkgrid\")\n",
    "sns.set_palette(['lightblue','red'])\n",
    "\n",
    "for position, column in zip(grid, data_columns):\n",
    "    sns.histplot(x=column, hue=\"churn\", data=data,ax=ax[position])\n",
    "    ax[position].set_title('Распределение параметра {}'.format(column), fontsize=14)\n",
    "    ax[position].set_xlabel('')\n",
    "    ax[position].set_ylabel('Количество клиентов', fontsize=12)\n",
    "    #ax[position].legend(['Ушли', 'Остались'])\n",
    "\n",
    "ax[(1,0)].set_xticks(range(10,100,10)) # настроим ticks на графиках корректно\n",
    "ax[(1,1)].set_xticks(range(0,11,1))\n",
    "ax[(2,0)].set_xticks(range(1,5,1))\n",
    "ax[(2,1)].set_xticks(range(0,2,1))\n",
    "ax[(2,2)].set_xticks(range(0,2,1))\n",
    "ax[(3,0)].set_xticklabels(range(-25000,250000,25000),rotation='vertical')\n",
    "ax[(3,1)].set_xticks(range(0,2,1))\n",
    "\n",
    "plt.show()"
   ]
  },
  {
   "cell_type": "markdown",
   "metadata": {},
   "source": [
    "График по `balance` не информативен, нужно отфильтровать наши нули и нарисовать без них."
   ]
  },
  {
   "cell_type": "code",
   "execution_count": 18,
   "metadata": {},
   "outputs": [
    {
     "data": {
      "image/png": "[encoded data removed]",
      "text/plain": [
       "<Figure size 1296x576 with 1 Axes>"
      ]
     },
     "metadata": {},
     "output_type": "display_data"
    }
   ],
   "source": [
    "sns.set_style(\"darkgrid\")\n",
    "sns.set_palette(['lightblue','red'])\n",
    "fig, ax = plt.subplots(figsize=(18, 8))  \n",
    "ax = sns.histplot(x=\"balance\", hue=\"churn\", data=data.loc[data['balance'] > 0])\n",
    "ax.set_title('Распределение параметра balance', fontsize=20)\n",
    "ax.set_xlabel('Баланс счёта', fontsize=14)\n",
    "ax.set_ylabel('Количество клиентов', fontsize=14)\n",
    "ax.set_xticklabels(range(0,175000,25000))\n",
    "plt.legend(['Ушли', 'Остались'])\n",
    "plt.show()"
   ]
  },
  {
   "cell_type": "markdown",
   "metadata": {},
   "source": [
    "**Можно делать промежуточные выводы:**\n",
    "\n",
    "- `score`. Кредитный рейтинг распределен нормально, как среди оставшихся так и среди ушедших. Много клиентов с максимальным рейтингов в 850.\n",
    "\n",
    "- `city`. Три города. Из Ярославля половина клиентов. В Ростове Великом самая большая доля оттока - около 50%.\n",
    "\n",
    "- `gender`. Мужчин больше, чем женщин. Но среди женщин отток значительно выше.\n",
    "\n",
    "- `age`. Оставшиеся клиенты в среднем моложе ушедших. Чем старше, тем доля оттока растет. Данные распределены нормально.\n",
    "\n",
    "- `objects`. Тут все почти ровно. Настолько ровно, что даже странно. Я ожидал увидеть нормальное распределение с пиками 1 или 2, однако все не так. Интересно о каких объектах собственности тут речь?\n",
    "\n",
    "- `balance`. Нормальные распределения по балансу счетов. Влияние не замечено.\n",
    "\n",
    "- `products`. Почти все клиенты пользуются 1 или 2 продуктами. Клиенты, которые пользуются 3-4 продуктами уходят от банка.\n",
    "\n",
    "- `creditcard`. Кредитками пользуется бОльшая часть клиентов. Отток среди пользующихся и непользующихся примерно сопоставим.\n",
    "\n",
    "- `loyalty`. Среди неактивныех клиентов отток ожидаемо выше.\n",
    "\n",
    "- `estimated salary`. Зарплата клиентов распредена достаточно ровно. Отток среди них тоже. Опять подозрительно.\n",
    "\n",
    "- `churn`. Отток - 20%."
   ]
  },
  {
   "cell_type": "markdown",
   "metadata": {},
   "source": [
    "Оценим выбросы в количественных переменных."
   ]
  },
  {
   "cell_type": "code",
   "execution_count": 19,
   "metadata": {},
   "outputs": [
    {
     "data": {
      "image/png": "[encoded data removed]",
      "text/plain": [
       "<Figure size 1080x144 with 1 Axes>"
      ]
     },
     "metadata": {},
     "output_type": "display_data"
    },
    {
     "data": {
      "image/png": "[encoded data removed]",
      "text/plain": [
       "<Figure size 1080x144 with 1 Axes>"
      ]
     },
     "metadata": {},
     "output_type": "display_data"
    },
    {
     "data": {
      "image/png": "[encoded data removed]",
      "text/plain": [
       "<Figure size 1080x144 with 1 Axes>"
      ]
     },
     "metadata": {},
     "output_type": "display_data"
    },
    {
     "data": {
      "image/png": "[encoded data removed]",
      "text/plain": [
       "<Figure size 1080x144 with 1 Axes>"
      ]
     },
     "metadata": {},
     "output_type": "display_data"
    },
    {
     "data": {
      "image/png": "[encoded data removed]",
      "text/plain": [
       "<Figure size 1080x144 with 1 Axes>"
      ]
     },
     "metadata": {},
     "output_type": "display_data"
    }
   ],
   "source": [
    "columnlist = ['score','age','objects','products','estimated_salary']\n",
    "for column in columnlist:\n",
    "    plt.figure(figsize=(15,2))\n",
    "    sns.boxplot(data[column],orient=\"h\")\n",
    "    plt.title('Ящик с усами для {}'.format(column),fontsize=14)\n",
    "    plt.xlabel('')\n",
    "    plt.show()"
   ]
  },
  {
   "cell_type": "code",
   "execution_count": 20,
   "metadata": {},
   "outputs": [
    {
     "data": {
      "image/png": "[encoded data removed]",
      "text/plain": [
       "<Figure size 1080x144 with 1 Axes>"
      ]
     },
     "metadata": {},
     "output_type": "display_data"
    }
   ],
   "source": [
    "plt.figure(figsize=(15,2))\n",
    "sns.boxplot(data = data[data['balance'] > 0],x='balance',orient=\"h\")\n",
    "plt.title('Ящик с усами для balance',fontsize=14)\n",
    "plt.xlabel('')\n",
    "plt.show()"
   ]
  },
  {
   "cell_type": "markdown",
   "metadata": {},
   "source": [
    "Для `score` и `products` выбросы незначительны. Появляются они из-за скученности данных к медиане."
   ]
  },
  {
   "cell_type": "code",
   "execution_count": 21,
   "metadata": {},
   "outputs": [
    {
     "data": {
      "image/png": "[encoded data removed]",
      "text/plain": [
       "<Figure size 1080x144 with 1 Axes>"
      ]
     },
     "metadata": {},
     "output_type": "display_data"
    },
    {
     "data": {
      "image/png": "[encoded data removed]",
      "text/plain": [
       "<Figure size 1080x144 with 1 Axes>"
      ]
     },
     "metadata": {},
     "output_type": "display_data"
    }
   ],
   "source": [
    "# посмотрим скэттеры\n",
    "for column in ['age','products']:\n",
    "    plt.figure(figsize=(15,2))\n",
    "    sns.scatterplot(data[column], data['churn'])\n",
    "    plt.show()"
   ]
  },
  {
   "cell_type": "code",
   "execution_count": 22,
   "metadata": {},
   "outputs": [
    {
     "data": {
      "image/png": "[encoded data removed]",
      "text/plain": [
       "<Figure size 1080x144 with 1 Axes>"
      ]
     },
     "metadata": {},
     "output_type": "display_data"
    }
   ],
   "source": [
    "plt.figure(figsize=(15,2))\n",
    "sns.scatterplot(data[data['balance'] > 0]['balance'], data['churn'])\n",
    "plt.show()"
   ]
  },
  {
   "cell_type": "markdown",
   "metadata": {},
   "source": [
    "По `balance` выбросы есть как в меньшую, так и в большую сторону. Причем у ушедших они амплитуднее."
   ]
  },
  {
   "cell_type": "code",
   "execution_count": 23,
   "metadata": {},
   "outputs": [
    {
     "data": {
      "text/html": [
       "<div>\n",
       "<style scoped>\n",
       "    .dataframe tbody tr th:only-of-type {\n",
       "        vertical-align: middle;\n",
       "    }\n",
       "\n",
       "    .dataframe tbody tr th {\n",
       "        vertical-align: top;\n",
       "    }\n",
       "\n",
       "    .dataframe thead tr th {\n",
       "        text-align: left;\n",
       "    }\n",
       "\n",
       "    .dataframe thead tr:last-of-type th {\n",
       "        text-align: right;\n",
       "    }\n",
       "</style>\n",
       "<table border=\"1\" class=\"dataframe\">\n",
       "  <thead>\n",
       "    <tr>\n",
       "      <th></th>\n",
       "      <th colspan=\"2\" halign=\"left\">balance</th>\n",
       "    </tr>\n",
       "    <tr>\n",
       "      <th></th>\n",
       "      <th>mean</th>\n",
       "      <th>median</th>\n",
       "    </tr>\n",
       "    <tr>\n",
       "      <th>churn</th>\n",
       "      <th></th>\n",
       "      <th></th>\n",
       "    </tr>\n",
       "  </thead>\n",
       "  <tbody>\n",
       "    <tr>\n",
       "      <td>0</td>\n",
       "      <td>119535.864270</td>\n",
       "      <td>119791.215</td>\n",
       "    </tr>\n",
       "    <tr>\n",
       "      <td>1</td>\n",
       "      <td>120746.971132</td>\n",
       "      <td>119948.090</td>\n",
       "    </tr>\n",
       "  </tbody>\n",
       "</table>\n",
       "</div>"
      ],
      "text/plain": [
       "             balance            \n",
       "                mean      median\n",
       "churn                           \n",
       "0      119535.864270  119791.215\n",
       "1      120746.971132  119948.090"
      ]
     },
     "execution_count": 23,
     "metadata": {},
     "output_type": "execute_result"
    }
   ],
   "source": [
    "data[data['balance'] > 0].groupby('churn').agg({'balance':['mean','median']})"
   ]
  },
  {
   "cell_type": "markdown",
   "metadata": {},
   "source": [
    "Чем дальше среднее от медианы, тем больше выбросов и их влияние. Здесь же средние и медианы практически совпадают. Выбросы по обоим сторонам уравновешивают друг друга, так сказать."
   ]
  },
  {
   "cell_type": "markdown",
   "metadata": {},
   "source": [
    "**Выводы**"
   ]
  },
  {
   "cell_type": "markdown",
   "metadata": {},
   "source": [
    "## Шаг. Статистический анализ анализ данных."
   ]
  },
  {
   "cell_type": "markdown",
   "metadata": {},
   "source": [
    "**Гипотеза 1 - Гипотеза различия дохода между теми клиентами, которые ушли и теми, которые остались.**"
   ]
  },
  {
   "cell_type": "markdown",
   "metadata": {},
   "source": [
    "Чтобы проверить гипотезу о равенстве средних двух генеральных совокупностей по взятым из них выборкам, применим метод `scipy.stats.ttest_ind`. **Нулевая гипотеза** - равенство средних . Соответственно **альтернативная** - их различие."
   ]
  },
  {
   "cell_type": "markdown",
   "metadata": {},
   "source": [
    "Критерий Стьюдента(t-критерий) направлен на оценку равенства средних значений двух выборок, которые распределены по нормальному закону. Также важное условие состоит в равенстве дисперсий двух выборок."
   ]
  },
  {
   "cell_type": "markdown",
   "metadata": {},
   "source": [
    "Проверим данные на нормальное распределение"
   ]
  },
  {
   "cell_type": "code",
   "execution_count": 24,
   "metadata": {},
   "outputs": [
    {
     "data": {
      "image/png": "[encoded data removed]",
      "text/plain": [
       "<Figure size 1224x360 with 2 Axes>"
      ]
     },
     "metadata": {},
     "output_type": "display_data"
    }
   ],
   "source": [
    "salary_churn_0 = data[data['churn'] == 0]['estimated_salary']\n",
    "salary_churn_1 = data[data['churn'] == 1]['estimated_salary']\n",
    "fig, ax = plt.subplots(1, 2, figsize=(17, 5))\n",
    "sns.histplot(x=salary_churn_0, ax=ax[0], kde=True, color='green',bins=30)\n",
    "sns.histplot(x=salary_churn_1, ax=ax[1], kde=True, color='red',bins=30)\n",
    "ax[0].set_title('Распределение зарплат оставшихся клиентов',fontsize=16)\n",
    "ax[1].set_title('Распределение зарплат ушедших клиентов',fontsize=16)\n",
    "ax[0].set_xlabel('Зарплата',fontsize=14)\n",
    "ax[0].set_ylabel('Количество клиентов',fontsize=14)\n",
    "ax[1].set_xlabel('Зарплата',fontsize=14)\n",
    "ax[1].set_ylabel('Количество клиентов',fontsize=14)\n",
    "plt.show()"
   ]
  },
  {
   "cell_type": "markdown",
   "metadata": {},
   "source": [
    "Данные имеют примерно равномерное распределение. Хотя казалось бы данные должны иметь нормальное распределение к какой-нибудь средней зарплате. Я ни за что не поверю, что количество людей с ЗП=50000 будет примерно равным количеству людей с ЗП=200000. Но данные есть данные. Поэтому, для такого распределения проведем сразу 2 теста: **t-тест Стьюдента** и **u-тест Манна-Уитни**."
   ]
  },
  {
   "cell_type": "markdown",
   "metadata": {},
   "source": [
    "Также имеет значение равенство дисперсий (распределения) выборок. При неравных дисперсиях применяется **t-критерий Уэлча**."
   ]
  },
  {
   "cell_type": "code",
   "execution_count": 25,
   "metadata": {},
   "outputs": [
    {
     "name": "stdout",
     "output_type": "stream",
     "text": [
      "Средняя и медиана salary ушедших: \t101465.68\t102460.84\n",
      "Средняя и медиана salary оставшихся: \t99738.39\t99645.04\n",
      "-------------------------------------------------------------------------\n",
      "Дисперсия salary ушедших: \t3353848166.81\n",
      "Дисперсия salary оставшихся: \t3295401414.92\n"
     ]
    }
   ],
   "source": [
    "print('Средняя и медиана salary ушедших: \\t{:.2f}\\t{}'.format(salary_churn_1.mean(),salary_churn_1.median()))\n",
    "print('Средняя и медиана salary оставшихся: \\t{:.2f}\\t{}'.format(salary_churn_0.mean(),salary_churn_0.median()))\n",
    "print('-------------------------------------------------------------------------')\n",
    "print('Дисперсия salary ушедших: \\t{:.2f}'.format(salary_churn_1.var()))\n",
    "print('Дисперсия salary оставшихся: \\t{:.2f}'.format(salary_churn_0.var()))"
   ]
  },
  {
   "cell_type": "code",
   "execution_count": 26,
   "metadata": {},
   "outputs": [
    {
     "name": "stdout",
     "output_type": "stream",
     "text": [
      "p-значение теста Стьюдента: 0.22644042802223346\n",
      "Не получилось отвергнуть нулевую гипотезу\n"
     ]
    }
   ],
   "source": [
    "alpha = 0.05  # критический уровень статистической значимости\n",
    "results = st.ttest_ind(salary_churn_0, salary_churn_1)\n",
    "print('p-значение теста Стьюдента:', results.pvalue)\n",
    "\n",
    "if results.pvalue < alpha:\n",
    "    print('Отвергаем нулевую гипотезу')\n",
    "else:\n",
    "    print('Не получилось отвергнуть нулевую гипотезу')"
   ]
  },
  {
   "cell_type": "code",
   "execution_count": 27,
   "metadata": {},
   "outputs": [
    {
     "name": "stdout",
     "output_type": "stream",
     "text": [
      "p-значение теста Манна-Уитни: 0.11352575465076892\n",
      "Не получилось отвергнуть нулевую гипотезу\n"
     ]
    }
   ],
   "source": [
    "alpha = 0.05\n",
    "stat, p = mannwhitneyu(salary_churn_0, salary_churn_1)\n",
    "print('p-значение теста Манна-Уитни:', p)\n",
    "if p < alpha:\n",
    "    print('Отвергаем нулевую гипотезу')\n",
    "else:\n",
    "    print('Не получилось отвергнуть нулевую гипотезу')"
   ]
  },
  {
   "cell_type": "markdown",
   "metadata": {},
   "source": [
    "Похоже средние зарплаты находятся достаточно близко к друг другу. И тот и другой тест не смогли опровергнуть нулевую гипотезу. Вероятность далеко от уровня критической значимости и она достаточно высокая. Хоть средние могут быть и не одинаковы,такое различие может быть случайно."
   ]
  },
  {
   "cell_type": "markdown",
   "metadata": {},
   "source": [
    "**Гипотеза 2 - Гипотеза различия кредитного скоринга между теми же клиентами.**"
   ]
  },
  {
   "cell_type": "markdown",
   "metadata": {},
   "source": [
    "Теперь проверим средние по `score` на сходство и различие. Опять-таки, **Нулевая гипотеза** - равенство средних . Соответственно **альтернативная** - их различие."
   ]
  },
  {
   "cell_type": "code",
   "execution_count": 28,
   "metadata": {},
   "outputs": [
    {
     "data": {
      "image/png": "[encoded data removed]",
      "text/plain": [
       "<Figure size 1224x360 with 2 Axes>"
      ]
     },
     "metadata": {},
     "output_type": "display_data"
    }
   ],
   "source": [
    "score_churn_0 = data[data['churn'] == 0]['score']\n",
    "score_churn_1 = data[data['churn'] == 1]['score']\n",
    "\n",
    "fig, ax = plt.subplots(1, 2, figsize=(17, 5))\n",
    "sns.histplot(x=score_churn_0, ax=ax[0], kde=True, color='green',bins=30)\n",
    "sns.histplot(x=score_churn_1, ax=ax[1], kde=True, color='red',bins=30)\n",
    "ax[0].set_title('Распределение кредитного скоринга оставшихся клиентов',fontsize=15)\n",
    "ax[1].set_title('Распределение кредитного скоринга ушедших клиентов',fontsize=15)\n",
    "ax[0].set_xlabel('Значение score',fontsize=14)\n",
    "ax[0].set_ylabel('Количество клиентов',fontsize=14)\n",
    "ax[1].set_xlabel('Значение score',fontsize=14)\n",
    "ax[1].set_ylabel('Количество клиентов',fontsize=14)\n",
    "plt.show()"
   ]
  },
  {
   "cell_type": "markdown",
   "metadata": {},
   "source": [
    "А вот здесь всё более менее предсказуемо и имеет нормальное распределение. Ограничимся t-тестом Стьюдента."
   ]
  },
  {
   "cell_type": "code",
   "execution_count": 29,
   "metadata": {},
   "outputs": [
    {
     "name": "stdout",
     "output_type": "stream",
     "text": [
      "Средняя и медиана score ушедших: \t645.35\t646.0\n",
      "Средняя и медиана score оставшихся: \t651.85\t653.0\n",
      "-----------------------------------------------------\n",
      "Дисперсия score ушедших: \t10064.40\n",
      "Дисперсия score оставшихся: \t9149.66\n"
     ]
    }
   ],
   "source": [
    "print('Средняя и медиана score ушедших: \\t{:.2f}\\t{}'.format(score_churn_1.mean(),score_churn_1.median()))\n",
    "print('Средняя и медиана score оставшихся: \\t{:.2f}\\t{}'.format(score_churn_0.mean(),score_churn_0.median()))\n",
    "print('-----------------------------------------------------')\n",
    "print('Дисперсия score ушедших: \\t{:.2f}'.format(score_churn_1.var()))\n",
    "print('Дисперсия score оставшихся: \\t{:.2f}'.format(score_churn_0.var()))"
   ]
  },
  {
   "cell_type": "markdown",
   "metadata": {},
   "source": [
    "Так как дисперсии не равны используем `equal_var=False` в параметрах теста (критерий Уэлча)"
   ]
  },
  {
   "cell_type": "code",
   "execution_count": 30,
   "metadata": {},
   "outputs": [
    {
     "name": "stdout",
     "output_type": "stream",
     "text": [
      "p-значение: 0.008464728991832877\n",
      "Отвергаем нулевую гипотезу\n"
     ]
    }
   ],
   "source": [
    "alpha = 0.05  # критический уровень статистической значимости\n",
    "results = st.ttest_ind(score_churn_0, score_churn_1,equal_var=False)\n",
    "print('p-значение:', results.pvalue)\n",
    "\n",
    "if results.pvalue < alpha:\n",
    "    print('Отвергаем нулевую гипотезу')\n",
    "else:\n",
    "    print('Не получилось отвергнуть нулевую гипотезу')"
   ]
  },
  {
   "cell_type": "markdown",
   "metadata": {},
   "source": [
    "А вот здесь совсем другая картина. p-value чуть меньше 1%. Таким образом тест показывает, что средние наших групп отличаются. Хотя на первый взгляд они и очень близки. Уровень значимости попал в критический интервал. Статистически средние по выборкам сильно отклоняются друг от друга."
   ]
  },
  {
   "cell_type": "markdown",
   "metadata": {},
   "source": [
    "**Гипотеза 3 - Гипотеза различия возраста между теми же клиентами.**"
   ]
  },
  {
   "cell_type": "markdown",
   "metadata": {},
   "source": [
    "Проверим средние по `age` на сходство и различие. Опять-таки, **Нулевая гипотеза** - равенство средних . Соответственно **альтернативная** - их различие."
   ]
  },
  {
   "cell_type": "code",
   "execution_count": 31,
   "metadata": {},
   "outputs": [
    {
     "data": {
      "image/png": "[encoded data removed]",
      "text/plain": [
       "<Figure size 1224x360 with 2 Axes>"
      ]
     },
     "metadata": {},
     "output_type": "display_data"
    }
   ],
   "source": [
    "age_churn_0 = data[data['churn'] == 0]['age']\n",
    "age_churn_1 = data[data['churn'] == 1]['age']\n",
    "\n",
    "fig, ax = plt.subplots(1, 2, figsize=(17, 5))\n",
    "sns.histplot(x=age_churn_0, ax=ax[0], kde=True, color='green',bins=30)\n",
    "sns.histplot(x=age_churn_1, ax=ax[1], kde=True, color='red',bins=30)\n",
    "ax[0].set_title('Распределение возраста оставшихся клиентов',fontsize=16)\n",
    "ax[1].set_title('Распределение возраста ушедших клиентов',fontsize=16)\n",
    "ax[0].set_xlabel('Значение возраста',fontsize=14)\n",
    "ax[0].set_ylabel('Количество клиентов',fontsize=14)\n",
    "ax[1].set_xlabel('Значение возраста',fontsize=14)\n",
    "ax[1].set_ylabel('Количество клиентов',fontsize=14)\n",
    "plt.show()"
   ]
  },
  {
   "cell_type": "markdown",
   "metadata": {},
   "source": [
    "Уже на графиках видно, что пики распределений возраста у групп различаются."
   ]
  },
  {
   "cell_type": "code",
   "execution_count": 32,
   "metadata": {},
   "outputs": [
    {
     "name": "stdout",
     "output_type": "stream",
     "text": [
      "Средняя и медиана возраста ушедших: \t44.84\t45.0\n",
      "Средняя и медиана возраста оставшихся: \t37.41\t36.0\n",
      "-----------------------------------------------------\n",
      "Дисперсия возраста ушедших: \t95.29\n",
      "Дисперсия возраста оставшихся: \t102.52\n"
     ]
    }
   ],
   "source": [
    "print('Средняя и медиана возраста ушедших: \\t{:.2f}\\t{}'.format(age_churn_1.mean(),age_churn_1.median()))\n",
    "print('Средняя и медиана возраста оставшихся: \\t{:.2f}\\t{}'.format(age_churn_0.mean(),age_churn_0.median()))\n",
    "print('-----------------------------------------------------')\n",
    "print('Дисперсия возраста ушедших: \\t{:.2f}'.format(age_churn_1.var()))\n",
    "print('Дисперсия возраста оставшихся: \\t{:.2f}'.format(age_churn_0.var()))"
   ]
  },
  {
   "cell_type": "code",
   "execution_count": 33,
   "metadata": {},
   "outputs": [
    {
     "name": "stdout",
     "output_type": "stream",
     "text": [
      "p-значение теста Стьюдента: 4.7127272656641046e-179\n",
      "Отвергаем нулевую гипотезу\n"
     ]
    }
   ],
   "source": [
    "alpha = 0.05  # критический уровень статистической значимости\n",
    "results = st.ttest_ind(age_churn_0, age_churn_1,equal_var=False)\n",
    "print('p-значение теста Стьюдента:', results.pvalue)\n",
    "\n",
    "if results.pvalue < alpha:\n",
    "    print('Отвергаем нулевую гипотезу')\n",
    "else:\n",
    "    print('Не получилось отвергнуть нулевую гипотезу')"
   ]
  },
  {
   "cell_type": "markdown",
   "metadata": {},
   "source": [
    "p-value очень мал. Нет никаких шансов говорить,что средние у этих групп похожи."
   ]
  },
  {
   "cell_type": "markdown",
   "metadata": {},
   "source": [
    "**Выводы:**\n",
    "\n",
    "По итогам проверки гипотез можно точно сказать про сходства\\различия между оставшимися клиетами и ушедшими.\n",
    "- По доходу средние по группам близки.\n",
    "\n",
    "- По значению кредитного скоринга группы отличаются. У ушедших среднее значение параметра меньше.\n",
    "\n",
    "- По возрасту группы отличаются. У ушедших средний возраст больше."
   ]
  },
  {
   "cell_type": "markdown",
   "metadata": {},
   "source": [
    "## Шаг. Модели предсказания оттока клиентов."
   ]
  },
  {
   "cell_type": "markdown",
   "metadata": {},
   "source": [
    "Для моделей машинного обучения преобразуем текстовые данные в числовые. Приведем их к бинарным и категориальным."
   ]
  },
  {
   "cell_type": "code",
   "execution_count": 34,
   "metadata": {},
   "outputs": [],
   "source": [
    "data_ml = data.copy()\n",
    "data_ml['gender'] = data_ml['gender'].map({'Ж':0, 'М':1})\n",
    "data_ml['city'] = data_ml['city'].map({'Ярославль':0, 'Рыбинск':1, 'Ростов Великий':2})\n",
    "data_ml = data_ml.drop('userid', axis = 1)"
   ]
  },
  {
   "cell_type": "markdown",
   "metadata": {},
   "source": [
    "Возникает дилемма что делать с нулями в `balance`. Можно удалить эти 3700 строк, но вместе с ними удалятся и другие полезные данные (3700*10 = примерно 37000 значений). Другой вариант - удалить только параметр `balance` (10000 значений). Логичнее удалить один параметр."
   ]
  },
  {
   "cell_type": "code",
   "execution_count": 35,
   "metadata": {},
   "outputs": [
    {
     "data": {
      "text/plain": [
       "0"
      ]
     },
     "execution_count": 35,
     "metadata": {},
     "output_type": "execute_result"
    }
   ],
   "source": [
    "data_ml = data_ml.drop('balance', axis = 1)\n",
    "data_ml.duplicated().sum() # и проверим на дубли еще раз"
   ]
  },
  {
   "cell_type": "code",
   "execution_count": 36,
   "metadata": {},
   "outputs": [],
   "source": [
    "corr = data_ml.corr() # посмотрим матрицу корреляций"
   ]
  },
  {
   "cell_type": "code",
   "execution_count": 37,
   "metadata": {},
   "outputs": [
    {
     "data": {
      "image/png": "[encoded data removed]",
      "text/plain": [
       "<Figure size 1440x720 with 2 Axes>"
      ]
     },
     "metadata": {},
     "output_type": "display_data"
    }
   ],
   "source": [
    "fig, ax = plt.subplots(figsize=(20, 10))\n",
    "sns.heatmap(corr, annot = True, square=True, fmt='.2f', vmin=-0.5, vmax=0.5,cmap='coolwarm')\n",
    "plt.title('Матрица корреляций',fontsize=20)\n",
    "plt.show()"
   ]
  },
  {
   "cell_type": "markdown",
   "metadata": {},
   "source": [
    "Данные слабо коррелируют между собой. Целевая переменная `churn` больше всего коррелирует с `age`,`city`,`loyalty` и `gender`."
   ]
  },
  {
   "cell_type": "code",
   "execution_count": 38,
   "metadata": {},
   "outputs": [],
   "source": [
    "X = data_ml.drop(columns='churn',axis = 1)\n",
    "y = data_ml['churn']"
   ]
  },
  {
   "cell_type": "code",
   "execution_count": 39,
   "metadata": {},
   "outputs": [],
   "source": [
    "# разделим модель на обучающую и валидационную выборку\n",
    "X_train, X_test, y_train, y_test = train_test_split(X, y, test_size=0.2, random_state=0)\n",
    "\n",
    "# стандартизируем данные \n",
    "scaler = StandardScaler()\n",
    "scaler.fit(X_train)\n",
    "X_train_st = scaler.transform(X_train)\n",
    "X_test_st = scaler.transform(X_test)\n",
    "\n",
    "\n",
    "# Функция тренирует модель m на тестовых данных и рассчитывает все необходимые метрики\n",
    "def train_model(m):\n",
    "    print(m)\n",
    "    model = m\n",
    "    model.fit(X_train_st,y_train)\n",
    "    predictions = model.predict(X_test_st)\n",
    "    probabilities = model.predict_proba(X_test_st)[:, 1]\n",
    "    print('\\nAccuracy:  {:.2f}'.format(accuracy_score(y_test, predictions)), \n",
    "          '\\nPrecision: {:.2f}'.format(precision_score(y_test, predictions)),\n",
    "          '\\nRecall:    {:.2f}'.format(recall_score(y_test, predictions)),\n",
    "          '\\nF1:        {:.2f}' .format(f1_score(y_test, predictions)),\n",
    "          '\\nROC_AUC:   {:.2f}'.format(roc_auc_score(y_test, probabilities)),'\\n')\n"
   ]
  },
  {
   "cell_type": "code",
   "execution_count": 40,
   "metadata": {},
   "outputs": [
    {
     "name": "stdout",
     "output_type": "stream",
     "text": [
      "LogisticRegression(C=1.0, class_weight=None, dual=False, fit_intercept=True,\n",
      "                   intercept_scaling=1, l1_ratio=None, max_iter=100,\n",
      "                   multi_class='warn', n_jobs=None, penalty='l2',\n",
      "                   random_state=0, solver='warn', tol=0.0001, verbose=0,\n",
      "                   warm_start=False)\n",
      "\n",
      "Accuracy:  0.81 \n",
      "Precision: 0.61 \n",
      "Recall:    0.21 \n",
      "F1:        0.31 \n",
      "ROC_AUC:   0.76 \n",
      "\n",
      "RandomForestClassifier(bootstrap=True, class_weight=None, criterion='gini',\n",
      "                       max_depth=None, max_features='auto', max_leaf_nodes=None,\n",
      "                       min_impurity_decrease=0.0, min_impurity_split=None,\n",
      "                       min_samples_leaf=1, min_samples_split=2,\n",
      "                       min_weight_fraction_leaf=0.0, n_estimators=100,\n",
      "                       n_jobs=None, oob_score=False, random_state=0, verbose=0,\n",
      "                       warm_start=False)\n",
      "\n",
      "Accuracy:  0.86 \n",
      "Precision: 0.74 \n",
      "Recall:    0.49 \n",
      "F1:        0.59 \n",
      "ROC_AUC:   0.84 \n",
      "\n"
     ]
    }
   ],
   "source": [
    "# вызываем функцию для двух моделей\n",
    "for model in [LogisticRegression(random_state = 0),\n",
    "              RandomForestClassifier(n_estimators = 100, random_state = 0)]:\n",
    "    train_model(model)"
   ]
  },
  {
   "cell_type": "markdown",
   "metadata": {},
   "source": [
    "- Accuracy (точность прогнозирования)\n",
    "- Precision (доля правильных ответов в пределах класса)\n",
    "- Recall (количесто истиннопозитивных результатов)\n",
    "- F1 (обобщеная оценка метрик Precision и Recall)\n",
    "- ROC_AUC (площадь под кривой ошибок)\n",
    "\n",
    "Судя по метрикам, модель случайного леса показывает себя намного лучше модели логистической регрессии. Самые важные метрики для нас `Recall` и `F1`. По ним ним модель случайного леса правильно предсказывает больше половины результатов. Модель логистической регрессии предсказывает значительно хуже."
   ]
  },
  {
   "cell_type": "code",
   "execution_count": 41,
   "metadata": {},
   "outputs": [
    {
     "data": {
      "text/html": [
       "<div>\n",
       "<style scoped>\n",
       "    .dataframe tbody tr th:only-of-type {\n",
       "        vertical-align: middle;\n",
       "    }\n",
       "\n",
       "    .dataframe tbody tr th {\n",
       "        vertical-align: top;\n",
       "    }\n",
       "\n",
       "    .dataframe thead th {\n",
       "        text-align: right;\n",
       "    }\n",
       "</style>\n",
       "<table border=\"1\" class=\"dataframe\">\n",
       "  <thead>\n",
       "    <tr style=\"text-align: right;\">\n",
       "      <th></th>\n",
       "      <th>feature</th>\n",
       "      <th>importance</th>\n",
       "    </tr>\n",
       "  </thead>\n",
       "  <tbody>\n",
       "    <tr>\n",
       "      <td>3</td>\n",
       "      <td>age</td>\n",
       "      <td>0.260192</td>\n",
       "    </tr>\n",
       "    <tr>\n",
       "      <td>8</td>\n",
       "      <td>estimated_salary</td>\n",
       "      <td>0.197400</td>\n",
       "    </tr>\n",
       "    <tr>\n",
       "      <td>0</td>\n",
       "      <td>score</td>\n",
       "      <td>0.188851</td>\n",
       "    </tr>\n",
       "    <tr>\n",
       "      <td>5</td>\n",
       "      <td>products</td>\n",
       "      <td>0.129577</td>\n",
       "    </tr>\n",
       "    <tr>\n",
       "      <td>4</td>\n",
       "      <td>objects</td>\n",
       "      <td>0.096895</td>\n",
       "    </tr>\n",
       "    <tr>\n",
       "      <td>1</td>\n",
       "      <td>city</td>\n",
       "      <td>0.045820</td>\n",
       "    </tr>\n",
       "    <tr>\n",
       "      <td>7</td>\n",
       "      <td>loyalty</td>\n",
       "      <td>0.039099</td>\n",
       "    </tr>\n",
       "    <tr>\n",
       "      <td>6</td>\n",
       "      <td>creditcard</td>\n",
       "      <td>0.022002</td>\n",
       "    </tr>\n",
       "    <tr>\n",
       "      <td>2</td>\n",
       "      <td>gender</td>\n",
       "      <td>0.020163</td>\n",
       "    </tr>\n",
       "  </tbody>\n",
       "</table>\n",
       "</div>"
      ],
      "text/plain": [
       "            feature  importance\n",
       "3               age    0.260192\n",
       "8  estimated_salary    0.197400\n",
       "0             score    0.188851\n",
       "5          products    0.129577\n",
       "4           objects    0.096895\n",
       "1              city    0.045820\n",
       "7           loyalty    0.039099\n",
       "6        creditcard    0.022002\n",
       "2            gender    0.020163"
      ]
     },
     "execution_count": 41,
     "metadata": {},
     "output_type": "execute_result"
    }
   ],
   "source": [
    "# важность признаков\n",
    "importance = pd.DataFrame({'feature': X.columns, 'importance':model.feature_importances_})\n",
    "importance.sort_values(by='importance', ascending=False)"
   ]
  },
  {
   "cell_type": "markdown",
   "metadata": {},
   "source": [
    "Самый важный признак для модели - `age`. Модель подтверждает исседовательский анализ. `estimated_salary` и `score` тоже имеют повышенную важность. А вот `gender` наименее влиятельный признак для модели. В исследовательском анализе видно,что женщины более скронны к оттоку, а модель говорит, что это не так."
   ]
  },
  {
   "cell_type": "markdown",
   "metadata": {},
   "source": [
    "**Кластеризация.**"
   ]
  },
  {
   "cell_type": "markdown",
   "metadata": {},
   "source": [
    "- Стандартизируем данные.\n",
    "- Построим матрицу расстояний функцией linkage() на стандартизованной матрице признаков и нарисуем дендрограмму. На основании полученного графика увидим, какое количество кластеров можно выделить.\n",
    "- Обучим модель кластеризации на основании алгоритма K-Means и спрогнозируем кластеры клиентов.\n",
    "- Посмотрим на средние значения признаков для кластеров.\n",
    "- Построим распределения признаков для кластеров."
   ]
  },
  {
   "cell_type": "code",
   "execution_count": 42,
   "metadata": {},
   "outputs": [
    {
     "data": {
      "image/png": "[encoded data removed]",
      "text/plain": [
       "<Figure size 1440x720 with 1 Axes>"
      ]
     },
     "metadata": {},
     "output_type": "display_data"
    }
   ],
   "source": [
    "X_st = scaler.fit_transform(X)\n",
    "linked = linkage(X_st, method='ward')\n",
    "plt.figure(figsize=(20, 10))\n",
    "dendrogram(linked, orientation='top')\n",
    "plt.title('Иерархическая кластеризация', fontsize=20)\n",
    "plt.show()"
   ]
  },
  {
   "cell_type": "markdown",
   "metadata": {},
   "source": [
    "Модель выделила 3 кластера."
   ]
  },
  {
   "cell_type": "code",
   "execution_count": 43,
   "metadata": {},
   "outputs": [],
   "source": [
    "km = KMeans(n_clusters = 3, random_state = 0)\n",
    "labels = km.fit_predict(X_st)\n",
    "data['cluster'] = labels"
   ]
  },
  {
   "cell_type": "code",
   "execution_count": 44,
   "metadata": {},
   "outputs": [],
   "source": [
    "clusters_data = data.drop(['balance','city'],axis = 1)\n",
    "clusters_data['gender'] = clusters_data['gender'].map({'Ж':0, 'М':1})"
   ]
  },
  {
   "cell_type": "code",
   "execution_count": 45,
   "metadata": {
    "scrolled": true
   },
   "outputs": [
    {
     "data": {
      "text/html": [
       "<div>\n",
       "<style scoped>\n",
       "    .dataframe tbody tr th:only-of-type {\n",
       "        vertical-align: middle;\n",
       "    }\n",
       "\n",
       "    .dataframe tbody tr th {\n",
       "        vertical-align: top;\n",
       "    }\n",
       "\n",
       "    .dataframe thead th {\n",
       "        text-align: right;\n",
       "    }\n",
       "</style>\n",
       "<table border=\"1\" class=\"dataframe\">\n",
       "  <thead>\n",
       "    <tr style=\"text-align: right;\">\n",
       "      <th></th>\n",
       "      <th>userid</th>\n",
       "      <th>score</th>\n",
       "      <th>gender</th>\n",
       "      <th>age</th>\n",
       "      <th>objects</th>\n",
       "      <th>products</th>\n",
       "      <th>creditcard</th>\n",
       "      <th>loyalty</th>\n",
       "      <th>estimated_salary</th>\n",
       "      <th>churn</th>\n",
       "    </tr>\n",
       "    <tr>\n",
       "      <th>cluster</th>\n",
       "      <th></th>\n",
       "      <th></th>\n",
       "      <th></th>\n",
       "      <th></th>\n",
       "      <th></th>\n",
       "      <th></th>\n",
       "      <th></th>\n",
       "      <th></th>\n",
       "      <th></th>\n",
       "      <th></th>\n",
       "    </tr>\n",
       "  </thead>\n",
       "  <tbody>\n",
       "    <tr>\n",
       "      <td>0</td>\n",
       "      <td>3192</td>\n",
       "      <td>651</td>\n",
       "      <td>0.000000</td>\n",
       "      <td>38</td>\n",
       "      <td>4.990602</td>\n",
       "      <td>1.543860</td>\n",
       "      <td>1</td>\n",
       "      <td>0.497180</td>\n",
       "      <td>99866.690188</td>\n",
       "      <td>0.249060</td>\n",
       "    </tr>\n",
       "    <tr>\n",
       "      <td>1</td>\n",
       "      <td>3863</td>\n",
       "      <td>651</td>\n",
       "      <td>1.000000</td>\n",
       "      <td>37</td>\n",
       "      <td>5.108206</td>\n",
       "      <td>1.521098</td>\n",
       "      <td>1</td>\n",
       "      <td>0.522910</td>\n",
       "      <td>99600.911848</td>\n",
       "      <td>0.162827</td>\n",
       "    </tr>\n",
       "    <tr>\n",
       "      <td>2</td>\n",
       "      <td>2945</td>\n",
       "      <td>654</td>\n",
       "      <td>0.541256</td>\n",
       "      <td>38</td>\n",
       "      <td>4.911715</td>\n",
       "      <td>1.527334</td>\n",
       "      <td>0</td>\n",
       "      <td>0.524278</td>\n",
       "      <td>100974.397711</td>\n",
       "      <td>0.208149</td>\n",
       "    </tr>\n",
       "  </tbody>\n",
       "</table>\n",
       "</div>"
      ],
      "text/plain": [
       "         userid  score    gender  age   objects  products  creditcard  \\\n",
       "cluster                                                                 \n",
       "0          3192    651  0.000000   38  4.990602  1.543860           1   \n",
       "1          3863    651  1.000000   37  5.108206  1.521098           1   \n",
       "2          2945    654  0.541256   38  4.911715  1.527334           0   \n",
       "\n",
       "          loyalty  estimated_salary     churn  \n",
       "cluster                                        \n",
       "0        0.497180      99866.690188  0.249060  \n",
       "1        0.522910      99600.911848  0.162827  \n",
       "2        0.524278     100974.397711  0.208149  "
      ]
     },
     "execution_count": 45,
     "metadata": {},
     "output_type": "execute_result"
    }
   ],
   "source": [
    "clusters_data.groupby('cluster').agg({'userid': 'nunique',\n",
    "                                       'score': 'median',\n",
    "                                       'gender': 'mean',\n",
    "                                       'age': 'median',\n",
    "                                       'objects': 'mean',\n",
    "                                       'products': 'mean',\n",
    "                                       'creditcard': 'mean',\n",
    "                                       'loyalty': 'mean',\n",
    "                                       'estimated_salary': 'mean',\n",
    "                                       'churn': 'mean',\n",
    "                             })"
   ]
  },
  {
   "cell_type": "code",
   "execution_count": 46,
   "metadata": {},
   "outputs": [
    {
     "data": {
      "image/png": "[encoded data removed]",
      "text/plain": [
       "<Figure size 1224x720 with 9 Axes>"
      ]
     },
     "metadata": {},
     "output_type": "display_data"
    },
    {
     "data": {
      "image/png": "[encoded data removed]",
      "text/plain": [
       "<Figure size 1224x720 with 9 Axes>"
      ]
     },
     "metadata": {},
     "output_type": "display_data"
    },
    {
     "data": {
      "image/png": "[encoded data removed]",
      "text/plain": [
       "<Figure size 1224x720 with 9 Axes>"
      ]
     },
     "metadata": {},
     "output_type": "display_data"
    }
   ],
   "source": [
    "for cluster in [0, 1, 2]: # переберем кластеры\n",
    "    clusters_data[clusters_data['cluster']==cluster].drop(['userid','churn','cluster'], axis=1).hist(figsize=(17,10))\n",
    "    plt.suptitle('Распределение признаков для кластера {}'.format(cluster), fontsize = 15)\n",
    "    plt.ylabel('count')\n",
    "    plt.show()"
   ]
  },
  {
   "cell_type": "markdown",
   "metadata": {},
   "source": [
    "0 кластер - Только женщины, объектов в собственности выброс на 10, паритет по лояльности, остальные параметны примерно также распределены как у всех. Отток - 25%.\n",
    "\n",
    "1 кластер - Только мужчины, объектов в собственности также выброс на 10, остальные параметры похожи. Отток - 16%.\n",
    "\n",
    "2 кластер - Мужчин побольше,чем женщин, кредитной картой не пользуются, остальные параметры похожи. Отток - 20%.\n",
    "\n",
    "Честно говоря, модель кластеризации никаких новых идей не дала и сработала недостаточно хорошо."
   ]
  },
  {
   "cell_type": "markdown",
   "metadata": {},
   "source": [
    "**Выводы**\n",
    "\n",
    "Честно говоря, модель кластеризации никаких новых идей не дала и сработала недостаточно хорошо. Единственное, показывает, что по мужчинам отток 16%, по женщинам - 25% в среднем. Модель случайного леса показал нам ключевые признаки по важности влияния на целевую переменную. Самые важные - `age`, `estimated_salary` и `score`. Единственное, если посмотреть на распределение зарплат, то сильного влияния на отток незаметно(отток примерно постоянен)."
   ]
  },
  {
   "cell_type": "markdown",
   "metadata": {},
   "source": [
    "## Шаг. Итоги."
   ]
  },
  {
   "cell_type": "markdown",
   "metadata": {},
   "source": [
    "Проведен исследовательский анализ признаков наших клиентов. Выделены ключевые точки, где отток различается.\n",
    "\n",
    "Проведен статистический анализ некоторых признаков на равенство их средних.\n",
    "\n",
    "Обучили 2 модели прогнозирования целевой переменной отток. Результаты прогнозирования слабые. Возможно для обучения моделей нужно больше данных.\n",
    "\n",
    "Поделили клиентов на кластеры и узнали как изменяется целевая переменная в зависимости от кластера.\n",
    "\n",
    "\n",
    "По итогом анализа выделим несколько признаков, которые больше всего влияют на целевую переменную `churn`:\n",
    "\n",
    "- `age` С возрастом клиента, вероятность  тоже оттока растёт. Особенно после 45 лет. Смерть клиента тоже считается за отток.\n",
    "\n",
    "- `gender` Мужчины менее подвержены оттоку, нежели женщины.\n",
    "\n",
    "- `score` Статистический анализ показывает, что средние по группам не равны. А значит этот параметр тоже влияет на отток.\n",
    "\n",
    "- `loyalty` Лояльные и активные клиенты намного менее подвержены оттоку, чем нелояльные.\n",
    "\n",
    "- `creditcard` Клиенты с кредитной картой менее склонны к оттоку. Кредитка - удобный инструмент, если знать как и правильно её использовать.\n",
    "\n",
    "- `products` Большинство клиентов пользуются 1-2 продуктами банка. Причем среди пользователей с 2 продуктами показатель оттока самый низкий. С 3-4 продуктами пользователей намного меньше и показатель оттока среди них катастрофически высок.\n",
    "\n",
    "- `city` В Ростове Великом существенно больший отток клиентов, чем в остальных городах."
   ]
  },
  {
   "cell_type": "markdown",
   "metadata": {},
   "source": [
    "**Рекомендации:**"
   ]
  },
  {
   "cell_type": "markdown",
   "metadata": {},
   "source": [
    "- Увеличивать лояльность, привлекать клиентов к более активному использованию приложения/продуктов банка.\n",
    "\n",
    "- Не перегружать клиента продуктами. Людям это не нравится. Возможно стоит информировать клиентов о том или ином продукте рассылками.\n",
    "\n",
    "- Людям 45+ нужны стимулы/отдельная программа лояльности, чтобы удержать их.\n",
    "\n",
    "- Продолжать работать с кредитными картами, чтобы сделать условия еще более привлекательными.\n",
    "\n",
    "- Отдельно проверить работу банка и процессы в Ростове Великом, велика вероятность что, что-то там работает не так как должно.\n",
    "\n",
    "- Ввести/проработать программу кэшбека по картам. Во-первых,люди любят кэшбек. Во-вторых, поможет привлечь больше клиентов других банков. В-третьих, повысить лояльность и снизить отток уже действующих клиентов нашего банка.\n",
    "\n",
    "- По возможности поддерживать и предлагать лучшие условия по продуктам банка среди остальных банков.\n",
    "\n",
    "- Более активно рекламировать услуги банка с наших городах."
   ]
  }
 ],
 "metadata": {
  "ExecuteTimeLog": [
   {
    "duration": 1134,
    "start_time": "2021-12-08T16:59:00.993Z"
   },
   {
    "duration": 2405,
    "start_time": "2021-12-08T16:59:43.900Z"
   },
   {
    "duration": 151,
    "start_time": "2021-12-08T17:01:20.801Z"
   },
   {
    "duration": 103,
    "start_time": "2021-12-08T17:02:56.823Z"
   },
   {
    "duration": 104,
    "start_time": "2021-12-08T17:03:08.676Z"
   },
   {
    "duration": 106,
    "start_time": "2021-12-08T17:03:21.077Z"
   },
   {
    "duration": 10,
    "start_time": "2021-12-08T17:03:30.078Z"
   },
   {
    "duration": 107,
    "start_time": "2021-12-08T17:08:12.480Z"
   },
   {
    "duration": 10,
    "start_time": "2021-12-08T17:08:22.079Z"
   },
   {
    "duration": 3,
    "start_time": "2021-12-08T17:08:37.774Z"
   },
   {
    "duration": 16,
    "start_time": "2021-12-08T17:08:40.615Z"
   },
   {
    "duration": 3,
    "start_time": "2021-12-08T17:08:48.199Z"
   },
   {
    "duration": 4,
    "start_time": "2021-12-08T17:08:51.239Z"
   },
   {
    "duration": 3,
    "start_time": "2021-12-08T17:09:05.494Z"
   },
   {
    "duration": 16,
    "start_time": "2021-12-08T17:09:07.520Z"
   },
   {
    "duration": 4,
    "start_time": "2021-12-08T17:09:18.400Z"
   },
   {
    "duration": 4,
    "start_time": "2021-12-08T17:10:08.920Z"
   },
   {
    "duration": 3,
    "start_time": "2021-12-08T17:10:11.119Z"
   },
   {
    "duration": 15,
    "start_time": "2021-12-08T17:10:12.934Z"
   },
   {
    "duration": 15,
    "start_time": "2021-12-08T17:10:16.439Z"
   },
   {
    "duration": 16,
    "start_time": "2021-12-08T17:10:21.382Z"
   },
   {
    "duration": 4,
    "start_time": "2021-12-08T17:12:39.444Z"
   },
   {
    "duration": 7,
    "start_time": "2021-12-08T17:13:54.588Z"
   },
   {
    "duration": 253,
    "start_time": "2021-12-08T17:16:10.832Z"
   },
   {
    "duration": 8,
    "start_time": "2021-12-08T17:16:18.192Z"
   },
   {
    "duration": 7,
    "start_time": "2021-12-08T17:42:11.417Z"
   },
   {
    "duration": 16,
    "start_time": "2021-12-08T17:42:19.366Z"
   },
   {
    "duration": 4,
    "start_time": "2021-12-08T17:42:30.629Z"
   },
   {
    "duration": 15,
    "start_time": "2021-12-08T17:42:32.669Z"
   },
   {
    "duration": 10,
    "start_time": "2021-12-08T17:44:10.455Z"
   },
   {
    "duration": 9,
    "start_time": "2021-12-08T17:44:18.054Z"
   },
   {
    "duration": 14,
    "start_time": "2021-12-08T17:45:17.659Z"
   },
   {
    "duration": 5,
    "start_time": "2021-12-08T17:46:04.647Z"
   },
   {
    "duration": 284,
    "start_time": "2021-12-08T17:46:14.139Z"
   },
   {
    "duration": 4,
    "start_time": "2021-12-08T17:46:33.739Z"
   },
   {
    "duration": 4,
    "start_time": "2021-12-08T17:46:58.261Z"
   },
   {
    "duration": 4,
    "start_time": "2021-12-08T17:47:06.288Z"
   },
   {
    "duration": 5,
    "start_time": "2021-12-08T17:47:17.458Z"
   },
   {
    "duration": 4,
    "start_time": "2021-12-08T17:47:30.327Z"
   },
   {
    "duration": 249,
    "start_time": "2021-12-08T17:47:48.327Z"
   },
   {
    "duration": 49,
    "start_time": "2021-12-08T17:48:25.298Z"
   },
   {
    "duration": 5,
    "start_time": "2021-12-08T17:51:15.673Z"
   },
   {
    "duration": 5,
    "start_time": "2021-12-08T17:51:33.460Z"
   },
   {
    "duration": 5,
    "start_time": "2021-12-08T17:51:42.367Z"
   },
   {
    "duration": 6,
    "start_time": "2021-12-08T17:52:06.887Z"
   },
   {
    "duration": 6,
    "start_time": "2021-12-08T17:52:58.049Z"
   },
   {
    "duration": 161,
    "start_time": "2021-12-08T18:00:38.985Z"
   },
   {
    "duration": 177,
    "start_time": "2021-12-08T18:00:57.665Z"
   },
   {
    "duration": 169,
    "start_time": "2021-12-08T18:01:36.383Z"
   },
   {
    "duration": 163,
    "start_time": "2021-12-08T18:01:52.889Z"
   },
   {
    "duration": 7,
    "start_time": "2021-12-08T18:03:04.821Z"
   },
   {
    "duration": 17,
    "start_time": "2021-12-08T18:03:10.851Z"
   },
   {
    "duration": 12,
    "start_time": "2021-12-08T18:04:39.292Z"
   },
   {
    "duration": 4,
    "start_time": "2021-12-08T18:24:58.279Z"
   },
   {
    "duration": 6,
    "start_time": "2021-12-08T18:25:10.749Z"
   },
   {
    "duration": 6,
    "start_time": "2021-12-08T18:25:50.175Z"
   },
   {
    "duration": 90,
    "start_time": "2021-12-08T18:27:59.771Z"
   },
   {
    "duration": 4,
    "start_time": "2021-12-08T18:30:55.726Z"
   },
   {
    "duration": 4,
    "start_time": "2021-12-08T18:31:13.461Z"
   },
   {
    "duration": 232,
    "start_time": "2021-12-08T18:37:24.784Z"
   },
   {
    "duration": 508,
    "start_time": "2021-12-08T18:38:00.238Z"
   },
   {
    "duration": 241,
    "start_time": "2021-12-08T18:38:45.598Z"
   },
   {
    "duration": 330,
    "start_time": "2021-12-08T18:40:14.329Z"
   },
   {
    "duration": 243,
    "start_time": "2021-12-08T18:40:55.697Z"
   },
   {
    "duration": 5,
    "start_time": "2021-12-08T18:41:17.010Z"
   },
   {
    "duration": 235,
    "start_time": "2021-12-08T18:41:29.570Z"
   },
   {
    "duration": 241,
    "start_time": "2021-12-08T18:41:39.834Z"
   },
   {
    "duration": 907,
    "start_time": "2021-12-08T18:41:49.595Z"
   },
   {
    "duration": 817,
    "start_time": "2021-12-08T18:42:03.114Z"
   },
   {
    "duration": 4,
    "start_time": "2021-12-08T18:42:05.370Z"
   },
   {
    "duration": 494,
    "start_time": "2021-12-08T18:42:06.794Z"
   },
   {
    "duration": 240,
    "start_time": "2021-12-08T18:43:36.462Z"
   },
   {
    "duration": 284,
    "start_time": "2021-12-08T18:44:42.339Z"
   },
   {
    "duration": 819,
    "start_time": "2021-12-08T18:49:39.170Z"
   },
   {
    "duration": 825,
    "start_time": "2021-12-08T18:49:51.213Z"
   },
   {
    "duration": 270,
    "start_time": "2021-12-08T18:50:29.546Z"
   },
   {
    "duration": 727,
    "start_time": "2021-12-08T18:50:50.133Z"
   },
   {
    "duration": 1201,
    "start_time": "2021-12-08T18:52:07.976Z"
   },
   {
    "duration": 1590,
    "start_time": "2021-12-09T06:44:08.027Z"
   },
   {
    "duration": 353,
    "start_time": "2021-12-09T06:44:09.620Z"
   },
   {
    "duration": 21,
    "start_time": "2021-12-09T06:44:09.976Z"
   },
   {
    "duration": 5,
    "start_time": "2021-12-09T06:44:09.999Z"
   },
   {
    "duration": 18,
    "start_time": "2021-12-09T06:44:10.006Z"
   },
   {
    "duration": 17,
    "start_time": "2021-12-09T06:44:10.026Z"
   },
   {
    "duration": 5,
    "start_time": "2021-12-09T06:44:10.046Z"
   },
   {
    "duration": 18,
    "start_time": "2021-12-09T06:44:10.055Z"
   },
   {
    "duration": 53,
    "start_time": "2021-12-09T06:44:10.076Z"
   },
   {
    "duration": 58,
    "start_time": "2021-12-09T06:44:10.132Z"
   },
   {
    "duration": 29,
    "start_time": "2021-12-09T06:44:10.192Z"
   },
   {
    "duration": 22,
    "start_time": "2021-12-09T06:44:10.224Z"
   },
   {
    "duration": 9,
    "start_time": "2021-12-09T06:44:10.249Z"
   },
   {
    "duration": 10,
    "start_time": "2021-12-09T06:44:10.262Z"
   },
   {
    "duration": 1597,
    "start_time": "2021-12-09T06:48:50.187Z"
   },
   {
    "duration": 199,
    "start_time": "2021-12-09T06:48:51.787Z"
   },
   {
    "duration": 21,
    "start_time": "2021-12-09T06:48:51.989Z"
   },
   {
    "duration": 10,
    "start_time": "2021-12-09T06:48:52.013Z"
   },
   {
    "duration": 14,
    "start_time": "2021-12-09T06:48:52.025Z"
   },
   {
    "duration": 12,
    "start_time": "2021-12-09T06:48:52.042Z"
   },
   {
    "duration": 4,
    "start_time": "2021-12-09T06:48:52.057Z"
   },
   {
    "duration": 26,
    "start_time": "2021-12-09T06:48:52.065Z"
   },
   {
    "duration": 45,
    "start_time": "2021-12-09T06:48:52.093Z"
   },
   {
    "duration": 77,
    "start_time": "2021-12-09T06:48:52.141Z"
   },
   {
    "duration": 7,
    "start_time": "2021-12-09T06:48:52.221Z"
   },
   {
    "duration": 39,
    "start_time": "2021-12-09T06:48:52.230Z"
   },
   {
    "duration": 9,
    "start_time": "2021-12-09T06:48:52.271Z"
   },
   {
    "duration": 27,
    "start_time": "2021-12-09T06:48:52.282Z"
   },
   {
    "duration": 1571,
    "start_time": "2021-12-09T06:50:35.638Z"
   },
   {
    "duration": 5669,
    "start_time": "2021-12-09T06:50:37.213Z"
   },
   {
    "duration": 204,
    "start_time": "2021-12-09T06:50:42.885Z"
   },
   {
    "duration": 22,
    "start_time": "2021-12-09T06:50:43.092Z"
   },
   {
    "duration": 6,
    "start_time": "2021-12-09T06:50:43.117Z"
   },
   {
    "duration": 11,
    "start_time": "2021-12-09T06:50:43.125Z"
   },
   {
    "duration": 12,
    "start_time": "2021-12-09T06:50:43.138Z"
   },
   {
    "duration": 5,
    "start_time": "2021-12-09T06:50:43.154Z"
   },
   {
    "duration": 57,
    "start_time": "2021-12-09T06:50:43.162Z"
   },
   {
    "duration": 28,
    "start_time": "2021-12-09T06:50:43.222Z"
   },
   {
    "duration": 94,
    "start_time": "2021-12-09T06:50:43.253Z"
   },
   {
    "duration": 8,
    "start_time": "2021-12-09T06:50:43.350Z"
   },
   {
    "duration": 29,
    "start_time": "2021-12-09T06:50:43.361Z"
   },
   {
    "duration": 10,
    "start_time": "2021-12-09T06:50:43.417Z"
   },
   {
    "duration": 12,
    "start_time": "2021-12-09T06:50:43.429Z"
   },
   {
    "duration": 6,
    "start_time": "2021-12-09T06:50:43.443Z"
   },
   {
    "duration": 7,
    "start_time": "2021-12-09T06:50:43.451Z"
   },
   {
    "duration": 6,
    "start_time": "2021-12-09T06:50:43.460Z"
   },
   {
    "duration": 969,
    "start_time": "2021-12-09T06:52:16.527Z"
   },
   {
    "duration": 394,
    "start_time": "2021-12-09T06:53:05.390Z"
   },
   {
    "duration": 403,
    "start_time": "2021-12-09T06:54:40.792Z"
   },
   {
    "duration": 1578,
    "start_time": "2021-12-09T06:57:00.452Z"
   },
   {
    "duration": 3326,
    "start_time": "2021-12-09T06:57:02.033Z"
   },
   {
    "duration": 153,
    "start_time": "2021-12-09T06:57:05.363Z"
   },
   {
    "duration": 21,
    "start_time": "2021-12-09T06:57:05.518Z"
   },
   {
    "duration": 9,
    "start_time": "2021-12-09T06:57:05.541Z"
   },
   {
    "duration": 11,
    "start_time": "2021-12-09T06:57:05.552Z"
   },
   {
    "duration": 11,
    "start_time": "2021-12-09T06:57:05.565Z"
   },
   {
    "duration": 5,
    "start_time": "2021-12-09T06:57:05.616Z"
   },
   {
    "duration": 15,
    "start_time": "2021-12-09T06:57:05.624Z"
   },
   {
    "duration": 26,
    "start_time": "2021-12-09T06:57:05.641Z"
   },
   {
    "duration": 88,
    "start_time": "2021-12-09T06:57:05.670Z"
   },
   {
    "duration": 7,
    "start_time": "2021-12-09T06:57:05.760Z"
   },
   {
    "duration": 19,
    "start_time": "2021-12-09T06:57:05.769Z"
   },
   {
    "duration": 32,
    "start_time": "2021-12-09T06:57:05.790Z"
   },
   {
    "duration": 12,
    "start_time": "2021-12-09T06:57:05.824Z"
   },
   {
    "duration": 6,
    "start_time": "2021-12-09T06:57:05.838Z"
   },
   {
    "duration": 5,
    "start_time": "2021-12-09T06:57:05.846Z"
   },
   {
    "duration": 7,
    "start_time": "2021-12-09T06:57:05.853Z"
   },
   {
    "duration": 869,
    "start_time": "2021-12-09T06:57:05.863Z"
   },
   {
    "duration": 471,
    "start_time": "2021-12-09T06:58:26.226Z"
   },
   {
    "duration": 496,
    "start_time": "2021-12-09T06:59:30.411Z"
   },
   {
    "duration": 322,
    "start_time": "2021-12-09T07:00:12.282Z"
   },
   {
    "duration": 936,
    "start_time": "2021-12-09T07:00:21.251Z"
   },
   {
    "duration": 1424,
    "start_time": "2021-12-09T07:00:45.619Z"
   },
   {
    "duration": 773,
    "start_time": "2021-12-09T07:01:00.690Z"
   },
   {
    "duration": 274,
    "start_time": "2021-12-09T07:01:29.202Z"
   },
   {
    "duration": 727,
    "start_time": "2021-12-09T07:01:39.066Z"
   },
   {
    "duration": 802,
    "start_time": "2021-12-09T07:02:43.643Z"
   },
   {
    "duration": 6036,
    "start_time": "2021-12-09T07:03:02.058Z"
   },
   {
    "duration": 11069,
    "start_time": "2021-12-09T07:04:42.259Z"
   },
   {
    "duration": 15204,
    "start_time": "2021-12-09T07:06:29.572Z"
   },
   {
    "duration": 15361,
    "start_time": "2021-12-09T07:08:19.156Z"
   },
   {
    "duration": 15086,
    "start_time": "2021-12-09T07:08:38.333Z"
   },
   {
    "duration": 14838,
    "start_time": "2021-12-09T07:09:17.379Z"
   },
   {
    "duration": 15509,
    "start_time": "2021-12-09T07:10:03.314Z"
   },
   {
    "duration": 109,
    "start_time": "2021-12-09T07:10:44.533Z"
   },
   {
    "duration": 15175,
    "start_time": "2021-12-09T07:11:03.787Z"
   },
   {
    "duration": 1853,
    "start_time": "2021-12-09T07:12:00.451Z"
   },
   {
    "duration": 15337,
    "start_time": "2021-12-09T07:13:47.982Z"
   },
   {
    "duration": 14874,
    "start_time": "2021-12-09T07:14:09.845Z"
   },
   {
    "duration": 15811,
    "start_time": "2021-12-09T07:14:58.188Z"
   },
   {
    "duration": 14847,
    "start_time": "2021-12-09T07:15:43.958Z"
   },
   {
    "duration": 6938,
    "start_time": "2021-12-09T07:17:35.636Z"
   },
   {
    "duration": 6918,
    "start_time": "2021-12-09T07:20:25.189Z"
   },
   {
    "duration": 6952,
    "start_time": "2021-12-09T07:21:10.400Z"
   },
   {
    "duration": 14825,
    "start_time": "2021-12-09T07:21:31.789Z"
   },
   {
    "duration": 354,
    "start_time": "2021-12-09T07:21:56.518Z"
   },
   {
    "duration": 14961,
    "start_time": "2021-12-09T07:22:12.293Z"
   },
   {
    "duration": 7127,
    "start_time": "2021-12-09T07:37:53.303Z"
   },
   {
    "duration": 18867,
    "start_time": "2021-12-09T10:26:31.714Z"
   },
   {
    "duration": 9207,
    "start_time": "2021-12-09T10:27:09.979Z"
   },
   {
    "duration": 9766,
    "start_time": "2021-12-09T10:28:49.122Z"
   },
   {
    "duration": 10264,
    "start_time": "2021-12-09T10:29:01.386Z"
   },
   {
    "duration": 22045,
    "start_time": "2021-12-09T10:30:08.858Z"
   },
   {
    "duration": 20060,
    "start_time": "2021-12-09T10:30:59.666Z"
   },
   {
    "duration": 20371,
    "start_time": "2021-12-09T10:32:32.194Z"
   },
   {
    "duration": 20115,
    "start_time": "2021-12-09T10:34:17.595Z"
   },
   {
    "duration": 7052,
    "start_time": "2021-12-09T10:35:17.883Z"
   },
   {
    "duration": 7470,
    "start_time": "2021-12-09T10:36:21.763Z"
   },
   {
    "duration": 7121,
    "start_time": "2021-12-09T10:39:10.156Z"
   },
   {
    "duration": 9429,
    "start_time": "2021-12-09T10:40:18.732Z"
   },
   {
    "duration": 7542,
    "start_time": "2021-12-09T10:40:41.832Z"
   },
   {
    "duration": 7817,
    "start_time": "2021-12-09T10:40:53.819Z"
   },
   {
    "duration": 7210,
    "start_time": "2021-12-09T10:41:34.499Z"
   },
   {
    "duration": 7026,
    "start_time": "2021-12-09T10:45:59.116Z"
   },
   {
    "duration": 7694,
    "start_time": "2021-12-09T10:46:48.636Z"
   },
   {
    "duration": 6974,
    "start_time": "2021-12-09T10:47:37.429Z"
   },
   {
    "duration": 7373,
    "start_time": "2021-12-09T10:47:52.116Z"
   },
   {
    "duration": 7957,
    "start_time": "2021-12-09T10:48:11.268Z"
   },
   {
    "duration": 10820,
    "start_time": "2021-12-09T10:51:59.821Z"
   },
   {
    "duration": 7758,
    "start_time": "2021-12-09T10:55:32.493Z"
   },
   {
    "duration": 7160,
    "start_time": "2021-12-09T10:56:27.766Z"
   },
   {
    "duration": 7252,
    "start_time": "2021-12-09T10:56:45.318Z"
   },
   {
    "duration": 11170,
    "start_time": "2021-12-09T11:20:13.120Z"
   },
   {
    "duration": 7939,
    "start_time": "2021-12-09T11:23:56.273Z"
   },
   {
    "duration": 6952,
    "start_time": "2021-12-09T11:24:28.129Z"
   },
   {
    "duration": 7201,
    "start_time": "2021-12-09T11:26:00.323Z"
   },
   {
    "duration": 7629,
    "start_time": "2021-12-09T11:26:17.660Z"
   },
   {
    "duration": 8028,
    "start_time": "2021-12-09T11:26:38.746Z"
   },
   {
    "duration": 6966,
    "start_time": "2021-12-09T11:27:08.195Z"
   },
   {
    "duration": 7364,
    "start_time": "2021-12-09T11:27:36.003Z"
   },
   {
    "duration": 6601,
    "start_time": "2021-12-09T11:31:28.600Z"
   },
   {
    "duration": 6811,
    "start_time": "2021-12-09T11:32:34.679Z"
   },
   {
    "duration": 6943,
    "start_time": "2021-12-09T11:33:12.055Z"
   },
   {
    "duration": 9990,
    "start_time": "2021-12-09T11:36:46.463Z"
   },
   {
    "duration": 7084,
    "start_time": "2021-12-09T11:38:37.648Z"
   },
   {
    "duration": 6473,
    "start_time": "2021-12-09T11:38:59.575Z"
   },
   {
    "duration": 7642,
    "start_time": "2021-12-09T11:41:06.882Z"
   },
   {
    "duration": 9267,
    "start_time": "2021-12-09T11:41:50.210Z"
   },
   {
    "duration": 6551,
    "start_time": "2021-12-09T11:44:38.850Z"
   },
   {
    "duration": 6575,
    "start_time": "2021-12-09T11:45:13.050Z"
   },
   {
    "duration": 7009,
    "start_time": "2021-12-09T11:45:25.938Z"
   },
   {
    "duration": 6443,
    "start_time": "2021-12-09T11:45:56.250Z"
   },
   {
    "duration": 115,
    "start_time": "2021-12-09T11:52:14.453Z"
   },
   {
    "duration": 7543,
    "start_time": "2021-12-09T11:52:38.835Z"
   },
   {
    "duration": 6616,
    "start_time": "2021-12-09T11:53:22.220Z"
   },
   {
    "duration": 6398,
    "start_time": "2021-12-09T11:57:02.469Z"
   },
   {
    "duration": 646,
    "start_time": "2021-12-09T12:15:42.529Z"
   },
   {
    "duration": 1107,
    "start_time": "2021-12-09T12:16:26.233Z"
   },
   {
    "duration": 1082,
    "start_time": "2021-12-09T12:17:39.762Z"
   },
   {
    "duration": 1182,
    "start_time": "2021-12-09T12:20:00.170Z"
   },
   {
    "duration": 1086,
    "start_time": "2021-12-09T12:20:12.410Z"
   },
   {
    "duration": 1085,
    "start_time": "2021-12-09T12:20:52.747Z"
   },
   {
    "duration": 1096,
    "start_time": "2021-12-09T12:21:13.426Z"
   },
   {
    "duration": 1318,
    "start_time": "2021-12-09T12:22:52.499Z"
   },
   {
    "duration": 1115,
    "start_time": "2021-12-09T12:23:21.558Z"
   },
   {
    "duration": 6532,
    "start_time": "2021-12-09T12:23:41.053Z"
   },
   {
    "duration": 6347,
    "start_time": "2021-12-09T12:25:10.190Z"
   },
   {
    "duration": 6518,
    "start_time": "2021-12-09T12:26:37.054Z"
   },
   {
    "duration": 1079,
    "start_time": "2021-12-09T12:28:31.656Z"
   },
   {
    "duration": 1079,
    "start_time": "2021-12-09T12:28:42.798Z"
   },
   {
    "duration": 1104,
    "start_time": "2021-12-09T12:29:03.536Z"
   },
   {
    "duration": 1483,
    "start_time": "2021-12-09T12:29:35.542Z"
   },
   {
    "duration": 1061,
    "start_time": "2021-12-09T12:29:57.367Z"
   },
   {
    "duration": 1071,
    "start_time": "2021-12-09T12:30:09.982Z"
   },
   {
    "duration": 1664,
    "start_time": "2021-12-09T16:55:43.229Z"
   },
   {
    "duration": 4434,
    "start_time": "2021-12-09T16:55:44.895Z"
   },
   {
    "duration": 193,
    "start_time": "2021-12-09T16:55:49.332Z"
   },
   {
    "duration": 20,
    "start_time": "2021-12-09T16:55:49.528Z"
   },
   {
    "duration": 5,
    "start_time": "2021-12-09T16:55:49.550Z"
   },
   {
    "duration": 22,
    "start_time": "2021-12-09T16:55:49.557Z"
   },
   {
    "duration": 11,
    "start_time": "2021-12-09T16:55:49.582Z"
   },
   {
    "duration": 4,
    "start_time": "2021-12-09T16:55:49.618Z"
   },
   {
    "duration": 17,
    "start_time": "2021-12-09T16:55:49.626Z"
   },
   {
    "duration": 27,
    "start_time": "2021-12-09T16:55:49.645Z"
   },
   {
    "duration": 87,
    "start_time": "2021-12-09T16:55:49.675Z"
   },
   {
    "duration": 6,
    "start_time": "2021-12-09T16:55:49.765Z"
   },
   {
    "duration": 43,
    "start_time": "2021-12-09T16:55:49.774Z"
   },
   {
    "duration": 9,
    "start_time": "2021-12-09T16:55:49.819Z"
   },
   {
    "duration": 9,
    "start_time": "2021-12-09T16:55:49.830Z"
   },
   {
    "duration": 472,
    "start_time": "2021-12-09T16:55:49.841Z"
   },
   {
    "duration": -287,
    "start_time": "2021-12-09T16:55:50.603Z"
   },
   {
    "duration": -294,
    "start_time": "2021-12-09T16:55:50.611Z"
   },
   {
    "duration": 1497,
    "start_time": "2021-12-09T16:57:10.260Z"
   },
   {
    "duration": 3204,
    "start_time": "2021-12-09T16:57:11.760Z"
   },
   {
    "duration": 162,
    "start_time": "2021-12-09T16:57:14.968Z"
   },
   {
    "duration": 20,
    "start_time": "2021-12-09T16:57:15.134Z"
   },
   {
    "duration": 5,
    "start_time": "2021-12-09T16:57:15.157Z"
   },
   {
    "duration": 11,
    "start_time": "2021-12-09T16:57:15.165Z"
   },
   {
    "duration": 46,
    "start_time": "2021-12-09T16:57:15.179Z"
   },
   {
    "duration": 5,
    "start_time": "2021-12-09T16:57:15.228Z"
   },
   {
    "duration": 16,
    "start_time": "2021-12-09T16:57:15.239Z"
   },
   {
    "duration": 63,
    "start_time": "2021-12-09T16:57:15.258Z"
   },
   {
    "duration": 56,
    "start_time": "2021-12-09T16:57:15.323Z"
   },
   {
    "duration": 38,
    "start_time": "2021-12-09T16:57:15.382Z"
   },
   {
    "duration": 24,
    "start_time": "2021-12-09T16:57:15.423Z"
   },
   {
    "duration": 10,
    "start_time": "2021-12-09T16:57:15.450Z"
   },
   {
    "duration": 11,
    "start_time": "2021-12-09T16:57:15.463Z"
   },
   {
    "duration": 7225,
    "start_time": "2021-12-09T16:57:15.518Z"
   },
   {
    "duration": 6640,
    "start_time": "2021-12-09T16:57:22.745Z"
   },
   {
    "duration": 1154,
    "start_time": "2021-12-09T16:57:29.387Z"
   },
   {
    "duration": 8,
    "start_time": "2021-12-09T16:59:55.065Z"
   },
   {
    "duration": 7,
    "start_time": "2021-12-09T17:00:08.254Z"
   },
   {
    "duration": 29,
    "start_time": "2021-12-09T17:00:27.118Z"
   },
   {
    "duration": 25,
    "start_time": "2021-12-09T17:01:12.960Z"
   },
   {
    "duration": 1753,
    "start_time": "2021-12-09T17:05:04.971Z"
   },
   {
    "duration": 518,
    "start_time": "2021-12-09T17:05:06.728Z"
   },
   {
    "duration": -217,
    "start_time": "2021-12-09T17:05:07.467Z"
   },
   {
    "duration": -227,
    "start_time": "2021-12-09T17:05:07.478Z"
   },
   {
    "duration": -231,
    "start_time": "2021-12-09T17:05:07.484Z"
   },
   {
    "duration": -263,
    "start_time": "2021-12-09T17:05:07.518Z"
   },
   {
    "duration": -278,
    "start_time": "2021-12-09T17:05:07.536Z"
   },
   {
    "duration": -283,
    "start_time": "2021-12-09T17:05:07.543Z"
   },
   {
    "duration": -288,
    "start_time": "2021-12-09T17:05:07.550Z"
   },
   {
    "duration": -294,
    "start_time": "2021-12-09T17:05:07.558Z"
   },
   {
    "duration": -298,
    "start_time": "2021-12-09T17:05:07.564Z"
   },
   {
    "duration": -303,
    "start_time": "2021-12-09T17:05:07.571Z"
   },
   {
    "duration": -306,
    "start_time": "2021-12-09T17:05:07.576Z"
   },
   {
    "duration": -309,
    "start_time": "2021-12-09T17:05:07.582Z"
   },
   {
    "duration": -313,
    "start_time": "2021-12-09T17:05:07.588Z"
   },
   {
    "duration": -354,
    "start_time": "2021-12-09T17:05:07.630Z"
   },
   {
    "duration": -366,
    "start_time": "2021-12-09T17:05:07.644Z"
   },
   {
    "duration": -369,
    "start_time": "2021-12-09T17:05:07.648Z"
   },
   {
    "duration": -371,
    "start_time": "2021-12-09T17:05:07.652Z"
   },
   {
    "duration": -373,
    "start_time": "2021-12-09T17:05:07.656Z"
   },
   {
    "duration": 1618,
    "start_time": "2021-12-09T17:06:09.083Z"
   },
   {
    "duration": 4220,
    "start_time": "2021-12-09T17:06:10.704Z"
   },
   {
    "duration": 207,
    "start_time": "2021-12-09T17:06:14.928Z"
   },
   {
    "duration": 31,
    "start_time": "2021-12-09T17:06:15.139Z"
   },
   {
    "duration": 6,
    "start_time": "2021-12-09T17:06:15.173Z"
   },
   {
    "duration": 36,
    "start_time": "2021-12-09T17:06:15.181Z"
   },
   {
    "duration": 15,
    "start_time": "2021-12-09T17:06:15.221Z"
   },
   {
    "duration": 33,
    "start_time": "2021-12-09T17:06:15.240Z"
   },
   {
    "duration": 38,
    "start_time": "2021-12-09T17:06:15.279Z"
   },
   {
    "duration": 17,
    "start_time": "2021-12-09T17:06:15.321Z"
   },
   {
    "duration": 28,
    "start_time": "2021-12-09T17:06:15.340Z"
   },
   {
    "duration": 89,
    "start_time": "2021-12-09T17:06:15.371Z"
   },
   {
    "duration": 8,
    "start_time": "2021-12-09T17:06:15.463Z"
   },
   {
    "duration": 54,
    "start_time": "2021-12-09T17:06:15.473Z"
   },
   {
    "duration": 8,
    "start_time": "2021-12-09T17:06:15.530Z"
   },
   {
    "duration": 12,
    "start_time": "2021-12-09T17:06:15.541Z"
   },
   {
    "duration": 10265,
    "start_time": "2021-12-09T17:06:15.555Z"
   },
   {
    "duration": 9643,
    "start_time": "2021-12-09T17:06:25.823Z"
   },
   {
    "duration": 1196,
    "start_time": "2021-12-09T17:06:35.470Z"
   },
   {
    "duration": 9673,
    "start_time": "2021-12-09T17:24:09.680Z"
   },
   {
    "duration": 7998,
    "start_time": "2021-12-09T17:24:49.955Z"
   },
   {
    "duration": 6407,
    "start_time": "2021-12-09T17:25:13.923Z"
   },
   {
    "duration": 456,
    "start_time": "2021-12-09T18:27:17.992Z"
   },
   {
    "duration": 367,
    "start_time": "2021-12-09T18:28:22.472Z"
   },
   {
    "duration": 360,
    "start_time": "2021-12-09T18:28:35.111Z"
   },
   {
    "duration": 549,
    "start_time": "2021-12-09T18:29:13.429Z"
   },
   {
    "duration": 475,
    "start_time": "2021-12-09T18:29:18.921Z"
   },
   {
    "duration": 634,
    "start_time": "2021-12-09T18:36:11.929Z"
   },
   {
    "duration": 244,
    "start_time": "2021-12-09T18:36:48.627Z"
   },
   {
    "duration": 8236,
    "start_time": "2021-12-09T18:39:40.745Z"
   },
   {
    "duration": 9580,
    "start_time": "2021-12-09T18:40:04.136Z"
   },
   {
    "duration": 2417,
    "start_time": "2021-12-09T18:41:05.119Z"
   },
   {
    "duration": 2387,
    "start_time": "2021-12-09T18:42:53.199Z"
   },
   {
    "duration": 2229,
    "start_time": "2021-12-09T18:44:13.406Z"
   },
   {
    "duration": 637,
    "start_time": "2021-12-09T18:44:29.180Z"
   },
   {
    "duration": 2199,
    "start_time": "2021-12-09T18:44:57.101Z"
   },
   {
    "duration": 2123,
    "start_time": "2021-12-09T18:46:06.366Z"
   },
   {
    "duration": 125,
    "start_time": "2021-12-09T18:47:31.269Z"
   },
   {
    "duration": 2382,
    "start_time": "2021-12-09T18:55:03.652Z"
   },
   {
    "duration": 2206,
    "start_time": "2021-12-09T18:55:13.640Z"
   },
   {
    "duration": 2168,
    "start_time": "2021-12-09T18:56:33.559Z"
   },
   {
    "duration": 1984,
    "start_time": "2021-12-09T18:56:47.122Z"
   },
   {
    "duration": 1875,
    "start_time": "2021-12-09T18:57:13.273Z"
   },
   {
    "duration": 299,
    "start_time": "2021-12-09T18:57:57.848Z"
   },
   {
    "duration": 330,
    "start_time": "2021-12-09T18:58:50.111Z"
   },
   {
    "duration": 340,
    "start_time": "2021-12-09T18:59:21.464Z"
   },
   {
    "duration": 1886,
    "start_time": "2021-12-09T19:08:45.531Z"
   },
   {
    "duration": 678,
    "start_time": "2021-12-09T19:08:53.692Z"
   },
   {
    "duration": 1901,
    "start_time": "2021-12-09T19:09:00.011Z"
   },
   {
    "duration": 338,
    "start_time": "2021-12-09T19:09:35.336Z"
   },
   {
    "duration": 3473,
    "start_time": "2021-12-09T19:11:29.511Z"
   },
   {
    "duration": 105,
    "start_time": "2021-12-09T19:15:57.550Z"
   },
   {
    "duration": 363,
    "start_time": "2021-12-09T19:16:23.863Z"
   },
   {
    "duration": 603,
    "start_time": "2021-12-09T19:17:02.414Z"
   },
   {
    "duration": 1353,
    "start_time": "2021-12-09T19:20:43.589Z"
   },
   {
    "duration": 9,
    "start_time": "2021-12-09T19:27:55.789Z"
   },
   {
    "duration": 385,
    "start_time": "2021-12-09T19:28:56.493Z"
   },
   {
    "duration": 308,
    "start_time": "2021-12-09T19:29:00.842Z"
   },
   {
    "duration": 14,
    "start_time": "2021-12-09T19:30:00.460Z"
   },
   {
    "duration": 104,
    "start_time": "2021-12-09T19:32:13.472Z"
   },
   {
    "duration": 21,
    "start_time": "2021-12-09T19:32:27.978Z"
   },
   {
    "duration": 319,
    "start_time": "2021-12-09T19:41:57.232Z"
   },
   {
    "duration": 145257,
    "start_time": "2021-12-09T19:42:06.752Z"
   },
   {
    "duration": 307,
    "start_time": "2021-12-09T19:46:22.803Z"
   },
   {
    "duration": 109738,
    "start_time": "2021-12-09T19:47:10.863Z"
   },
   {
    "duration": 100,
    "start_time": "2021-12-09T19:51:42.265Z"
   },
   {
    "duration": 7,
    "start_time": "2021-12-09T20:03:13.483Z"
   },
   {
    "duration": 7,
    "start_time": "2021-12-09T20:03:20.449Z"
   },
   {
    "duration": 4,
    "start_time": "2021-12-09T20:03:32.662Z"
   },
   {
    "duration": 1336,
    "start_time": "2021-12-09T20:05:59.193Z"
   },
   {
    "duration": 1245,
    "start_time": "2021-12-09T20:06:17.193Z"
   },
   {
    "duration": 979,
    "start_time": "2021-12-09T20:07:43.481Z"
   },
   {
    "duration": 944,
    "start_time": "2021-12-09T20:08:06.549Z"
   },
   {
    "duration": 1247,
    "start_time": "2021-12-09T20:08:47.172Z"
   },
   {
    "duration": 972,
    "start_time": "2021-12-09T20:09:55.960Z"
   },
   {
    "duration": 1379,
    "start_time": "2021-12-09T20:10:24.681Z"
   },
   {
    "duration": 1417,
    "start_time": "2021-12-09T20:10:50.728Z"
   },
   {
    "duration": 1057,
    "start_time": "2021-12-09T20:12:00.290Z"
   },
   {
    "duration": 1047,
    "start_time": "2021-12-09T20:13:49.787Z"
   },
   {
    "duration": 1670,
    "start_time": "2021-12-09T20:14:39.996Z"
   },
   {
    "duration": 1243,
    "start_time": "2021-12-09T20:15:42.869Z"
   },
   {
    "duration": 1117,
    "start_time": "2021-12-09T20:16:01.524Z"
   },
   {
    "duration": 1212,
    "start_time": "2021-12-09T20:16:28.158Z"
   },
   {
    "duration": 1114,
    "start_time": "2021-12-09T20:16:34.921Z"
   },
   {
    "duration": 1133,
    "start_time": "2021-12-09T20:18:50.530Z"
   },
   {
    "duration": 1181,
    "start_time": "2021-12-09T20:20:01.114Z"
   },
   {
    "duration": 1147,
    "start_time": "2021-12-09T20:20:16.472Z"
   },
   {
    "duration": 1461,
    "start_time": "2021-12-09T20:20:43.513Z"
   },
   {
    "duration": 1134,
    "start_time": "2021-12-09T20:21:42.241Z"
   },
   {
    "duration": 1151,
    "start_time": "2021-12-09T20:22:01.857Z"
   },
   {
    "duration": 1160,
    "start_time": "2021-12-09T20:35:04.011Z"
   },
   {
    "duration": 1633,
    "start_time": "2021-12-10T10:49:25.642Z"
   },
   {
    "duration": 4920,
    "start_time": "2021-12-10T10:49:27.278Z"
   },
   {
    "duration": 181,
    "start_time": "2021-12-10T10:49:32.201Z"
   },
   {
    "duration": 22,
    "start_time": "2021-12-10T10:49:32.384Z"
   },
   {
    "duration": 6,
    "start_time": "2021-12-10T10:49:32.408Z"
   },
   {
    "duration": 15,
    "start_time": "2021-12-10T10:49:32.416Z"
   },
   {
    "duration": 40,
    "start_time": "2021-12-10T10:49:32.434Z"
   },
   {
    "duration": 26,
    "start_time": "2021-12-10T10:49:32.478Z"
   },
   {
    "duration": 6,
    "start_time": "2021-12-10T10:49:32.508Z"
   },
   {
    "duration": 60,
    "start_time": "2021-12-10T10:49:32.517Z"
   },
   {
    "duration": 30,
    "start_time": "2021-12-10T10:49:32.580Z"
   },
   {
    "duration": 93,
    "start_time": "2021-12-10T10:49:32.613Z"
   },
   {
    "duration": 9,
    "start_time": "2021-12-10T10:49:32.709Z"
   },
   {
    "duration": 52,
    "start_time": "2021-12-10T10:49:32.721Z"
   },
   {
    "duration": 10,
    "start_time": "2021-12-10T10:49:32.776Z"
   },
   {
    "duration": 10,
    "start_time": "2021-12-10T10:49:32.789Z"
   },
   {
    "duration": 3279,
    "start_time": "2021-12-10T10:49:32.802Z"
   },
   {
    "duration": -31990,
    "start_time": "2021-12-10T10:50:08.075Z"
   },
   {
    "duration": -31991,
    "start_time": "2021-12-10T10:50:08.078Z"
   },
   {
    "duration": -31992,
    "start_time": "2021-12-10T10:50:08.081Z"
   },
   {
    "duration": -31995,
    "start_time": "2021-12-10T10:50:08.086Z"
   },
   {
    "duration": -31997,
    "start_time": "2021-12-10T10:50:08.090Z"
   },
   {
    "duration": -31999,
    "start_time": "2021-12-10T10:50:08.094Z"
   },
   {
    "duration": -32007,
    "start_time": "2021-12-10T10:50:08.104Z"
   },
   {
    "duration": -32009,
    "start_time": "2021-12-10T10:50:08.108Z"
   },
   {
    "duration": 2045,
    "start_time": "2021-12-10T10:57:46.822Z"
   },
   {
    "duration": 4119,
    "start_time": "2021-12-10T10:57:48.871Z"
   },
   {
    "duration": 256,
    "start_time": "2021-12-10T10:57:52.994Z"
   },
   {
    "duration": 33,
    "start_time": "2021-12-10T10:57:53.254Z"
   },
   {
    "duration": 5,
    "start_time": "2021-12-10T10:57:53.289Z"
   },
   {
    "duration": 11,
    "start_time": "2021-12-10T10:57:53.297Z"
   },
   {
    "duration": 14,
    "start_time": "2021-12-10T10:57:53.310Z"
   },
   {
    "duration": 64,
    "start_time": "2021-12-10T10:57:53.326Z"
   },
   {
    "duration": 5,
    "start_time": "2021-12-10T10:57:53.395Z"
   },
   {
    "duration": 18,
    "start_time": "2021-12-10T10:57:53.404Z"
   },
   {
    "duration": 66,
    "start_time": "2021-12-10T10:57:53.424Z"
   },
   {
    "duration": 88,
    "start_time": "2021-12-10T10:57:53.494Z"
   },
   {
    "duration": 8,
    "start_time": "2021-12-10T10:57:53.585Z"
   },
   {
    "duration": 32,
    "start_time": "2021-12-10T10:57:53.595Z"
   },
   {
    "duration": 40,
    "start_time": "2021-12-10T10:57:53.630Z"
   },
   {
    "duration": 14,
    "start_time": "2021-12-10T10:57:53.673Z"
   },
   {
    "duration": 5982,
    "start_time": "2021-12-10T10:57:53.690Z"
   },
   {
    "duration": 1151,
    "start_time": "2021-12-10T10:57:59.674Z"
   },
   {
    "duration": 2078,
    "start_time": "2021-12-10T10:58:00.827Z"
   },
   {
    "duration": 377,
    "start_time": "2021-12-10T10:58:02.908Z"
   },
   {
    "duration": 1568,
    "start_time": "2021-12-10T10:58:03.288Z"
   },
   {
    "duration": 649,
    "start_time": "2021-12-10T10:58:04.859Z"
   },
   {
    "duration": 20,
    "start_time": "2021-12-10T10:58:05.511Z"
   },
   {
    "duration": 4,
    "start_time": "2021-12-10T10:58:05.534Z"
   },
   {
    "duration": 1415,
    "start_time": "2021-12-10T10:58:05.568Z"
   },
   {
    "duration": 7,
    "start_time": "2021-12-10T11:01:18.150Z"
   },
   {
    "duration": 5,
    "start_time": "2021-12-10T11:01:49.183Z"
   },
   {
    "duration": 6,
    "start_time": "2021-12-10T11:04:03.326Z"
   },
   {
    "duration": 7,
    "start_time": "2021-12-10T11:04:09.942Z"
   },
   {
    "duration": 6740,
    "start_time": "2021-12-10T11:04:35.094Z"
   },
   {
    "duration": 4855,
    "start_time": "2021-12-10T11:05:06.127Z"
   },
   {
    "duration": 6915,
    "start_time": "2021-12-10T11:05:22.736Z"
   },
   {
    "duration": 1442,
    "start_time": "2021-12-10T11:23:48.977Z"
   },
   {
    "duration": 1306,
    "start_time": "2021-12-10T11:24:04.137Z"
   },
   {
    "duration": 6,
    "start_time": "2021-12-10T12:23:33.554Z"
   },
   {
    "duration": 8,
    "start_time": "2021-12-10T12:23:40.720Z"
   },
   {
    "duration": 5,
    "start_time": "2021-12-10T12:23:50.201Z"
   },
   {
    "duration": 9,
    "start_time": "2021-12-10T12:24:07.528Z"
   },
   {
    "duration": 10,
    "start_time": "2021-12-10T12:29:07.690Z"
   },
   {
    "duration": 613,
    "start_time": "2021-12-10T12:29:21.762Z"
   },
   {
    "duration": 6,
    "start_time": "2021-12-10T12:30:17.505Z"
   },
   {
    "duration": 7,
    "start_time": "2021-12-10T12:30:26.368Z"
   },
   {
    "duration": 8,
    "start_time": "2021-12-10T12:30:43.529Z"
   },
   {
    "duration": 9,
    "start_time": "2021-12-10T12:30:45.993Z"
   },
   {
    "duration": 7,
    "start_time": "2021-12-10T13:19:43.984Z"
   },
   {
    "duration": 7,
    "start_time": "2021-12-10T13:19:50.024Z"
   },
   {
    "duration": 6,
    "start_time": "2021-12-10T13:20:02.431Z"
   },
   {
    "duration": 10,
    "start_time": "2021-12-10T13:22:22.704Z"
   },
   {
    "duration": 8,
    "start_time": "2021-12-10T13:22:37.672Z"
   },
   {
    "duration": 6,
    "start_time": "2021-12-10T13:30:14.481Z"
   },
   {
    "duration": 6,
    "start_time": "2021-12-10T13:30:17.729Z"
   },
   {
    "duration": 9,
    "start_time": "2021-12-10T13:30:27.985Z"
   },
   {
    "duration": 8,
    "start_time": "2021-12-10T13:30:33.441Z"
   },
   {
    "duration": 6,
    "start_time": "2021-12-10T13:30:51.650Z"
   },
   {
    "duration": 6,
    "start_time": "2021-12-10T13:30:54.505Z"
   },
   {
    "duration": 17,
    "start_time": "2021-12-10T13:32:49.217Z"
   },
   {
    "duration": 18,
    "start_time": "2021-12-10T13:33:07.089Z"
   },
   {
    "duration": 293,
    "start_time": "2021-12-10T13:38:50.620Z"
   },
   {
    "duration": 7,
    "start_time": "2021-12-10T13:39:03.841Z"
   },
   {
    "duration": 7,
    "start_time": "2021-12-10T13:39:27.190Z"
   },
   {
    "duration": 6,
    "start_time": "2021-12-10T13:39:40.850Z"
   },
   {
    "duration": 7,
    "start_time": "2021-12-10T13:39:48.489Z"
   },
   {
    "duration": 6,
    "start_time": "2021-12-10T13:39:57.530Z"
   },
   {
    "duration": 6,
    "start_time": "2021-12-10T13:40:23.978Z"
   },
   {
    "duration": 9,
    "start_time": "2021-12-10T13:41:04.474Z"
   },
   {
    "duration": 1605,
    "start_time": "2021-12-11T11:29:30.363Z"
   },
   {
    "duration": 4693,
    "start_time": "2021-12-11T11:29:31.970Z"
   },
   {
    "duration": 221,
    "start_time": "2021-12-11T11:29:36.667Z"
   },
   {
    "duration": 22,
    "start_time": "2021-12-11T11:29:36.891Z"
   },
   {
    "duration": 6,
    "start_time": "2021-12-11T11:29:36.917Z"
   },
   {
    "duration": 24,
    "start_time": "2021-12-11T11:29:36.926Z"
   },
   {
    "duration": 14,
    "start_time": "2021-12-11T11:29:36.968Z"
   },
   {
    "duration": 23,
    "start_time": "2021-12-11T11:29:36.987Z"
   },
   {
    "duration": 14,
    "start_time": "2021-12-11T11:29:37.013Z"
   },
   {
    "duration": 52,
    "start_time": "2021-12-11T11:29:37.029Z"
   },
   {
    "duration": 30,
    "start_time": "2021-12-11T11:29:37.084Z"
   },
   {
    "duration": 82,
    "start_time": "2021-12-11T11:29:37.117Z"
   },
   {
    "duration": 8,
    "start_time": "2021-12-11T11:29:37.202Z"
   },
   {
    "duration": 41,
    "start_time": "2021-12-11T11:29:37.214Z"
   },
   {
    "duration": 10,
    "start_time": "2021-12-11T11:29:37.267Z"
   },
   {
    "duration": 21,
    "start_time": "2021-12-11T11:29:37.281Z"
   },
   {
    "duration": 3109,
    "start_time": "2021-12-11T11:29:37.305Z"
   },
   {
    "duration": -2386,
    "start_time": "2021-12-11T11:29:42.804Z"
   },
   {
    "duration": -2386,
    "start_time": "2021-12-11T11:29:42.806Z"
   },
   {
    "duration": -2384,
    "start_time": "2021-12-11T11:29:42.807Z"
   },
   {
    "duration": -2384,
    "start_time": "2021-12-11T11:29:42.809Z"
   },
   {
    "duration": -2384,
    "start_time": "2021-12-11T11:29:42.811Z"
   },
   {
    "duration": -2383,
    "start_time": "2021-12-11T11:29:42.812Z"
   },
   {
    "duration": -2417,
    "start_time": "2021-12-11T11:29:42.848Z"
   },
   {
    "duration": -2415,
    "start_time": "2021-12-11T11:29:42.849Z"
   },
   {
    "duration": -2388,
    "start_time": "2021-12-11T11:29:42.854Z"
   },
   {
    "duration": -2388,
    "start_time": "2021-12-11T11:29:42.856Z"
   },
   {
    "duration": -2387,
    "start_time": "2021-12-11T11:29:42.857Z"
   },
   {
    "duration": -2387,
    "start_time": "2021-12-11T11:29:42.859Z"
   },
   {
    "duration": -2386,
    "start_time": "2021-12-11T11:29:42.860Z"
   },
   {
    "duration": 1539,
    "start_time": "2021-12-11T11:30:37.994Z"
   },
   {
    "duration": 3268,
    "start_time": "2021-12-11T11:30:39.536Z"
   },
   {
    "duration": 200,
    "start_time": "2021-12-11T11:30:42.808Z"
   },
   {
    "duration": 22,
    "start_time": "2021-12-11T11:30:43.011Z"
   },
   {
    "duration": 7,
    "start_time": "2021-12-11T11:30:43.036Z"
   },
   {
    "duration": 23,
    "start_time": "2021-12-11T11:30:43.045Z"
   },
   {
    "duration": 12,
    "start_time": "2021-12-11T11:30:43.071Z"
   },
   {
    "duration": 24,
    "start_time": "2021-12-11T11:30:43.086Z"
   },
   {
    "duration": 5,
    "start_time": "2021-12-11T11:30:43.113Z"
   },
   {
    "duration": 57,
    "start_time": "2021-12-11T11:30:43.121Z"
   },
   {
    "duration": 27,
    "start_time": "2021-12-11T11:30:43.180Z"
   },
   {
    "duration": 80,
    "start_time": "2021-12-11T11:30:43.209Z"
   },
   {
    "duration": 7,
    "start_time": "2021-12-11T11:30:43.292Z"
   },
   {
    "duration": 30,
    "start_time": "2021-12-11T11:30:43.301Z"
   },
   {
    "duration": 12,
    "start_time": "2021-12-11T11:30:43.333Z"
   },
   {
    "duration": 9,
    "start_time": "2021-12-11T11:30:43.367Z"
   },
   {
    "duration": 5757,
    "start_time": "2021-12-11T11:30:43.378Z"
   },
   {
    "duration": 1697,
    "start_time": "2021-12-11T11:30:49.138Z"
   },
   {
    "duration": 2488,
    "start_time": "2021-12-11T11:30:50.838Z"
   },
   {
    "duration": 415,
    "start_time": "2021-12-11T11:30:53.329Z"
   },
   {
    "duration": 1635,
    "start_time": "2021-12-11T11:30:53.746Z"
   },
   {
    "duration": 642,
    "start_time": "2021-12-11T11:30:55.383Z"
   },
   {
    "duration": 20,
    "start_time": "2021-12-11T11:30:56.027Z"
   },
   {
    "duration": 18,
    "start_time": "2021-12-11T11:30:56.050Z"
   },
   {
    "duration": 1369,
    "start_time": "2021-12-11T11:30:56.071Z"
   },
   {
    "duration": 25,
    "start_time": "2021-12-11T11:30:57.442Z"
   },
   {
    "duration": 13,
    "start_time": "2021-12-11T11:30:57.474Z"
   },
   {
    "duration": 25,
    "start_time": "2021-12-11T11:30:57.490Z"
   },
   {
    "duration": 30,
    "start_time": "2021-12-11T11:30:57.518Z"
   },
   {
    "duration": 39,
    "start_time": "2021-12-11T11:30:57.551Z"
   },
   {
    "duration": 1204,
    "start_time": "2021-12-11T14:25:26.958Z"
   },
   {
    "duration": 3800,
    "start_time": "2021-12-11T14:25:28.164Z"
   },
   {
    "duration": 222,
    "start_time": "2021-12-11T14:25:31.966Z"
   },
   {
    "duration": 14,
    "start_time": "2021-12-11T14:25:32.190Z"
   },
   {
    "duration": 7,
    "start_time": "2021-12-11T14:25:32.206Z"
   },
   {
    "duration": 8,
    "start_time": "2021-12-11T14:25:32.215Z"
   },
   {
    "duration": 10,
    "start_time": "2021-12-11T14:25:32.225Z"
   },
   {
    "duration": 15,
    "start_time": "2021-12-11T14:25:32.237Z"
   },
   {
    "duration": 4,
    "start_time": "2021-12-11T14:25:32.255Z"
   },
   {
    "duration": 14,
    "start_time": "2021-12-11T14:25:32.261Z"
   },
   {
    "duration": 44,
    "start_time": "2021-12-11T14:25:32.277Z"
   },
   {
    "duration": 37,
    "start_time": "2021-12-11T14:25:32.323Z"
   },
   {
    "duration": 7,
    "start_time": "2021-12-11T14:25:32.362Z"
   },
   {
    "duration": 46,
    "start_time": "2021-12-11T14:25:32.371Z"
   },
   {
    "duration": 8,
    "start_time": "2021-12-11T14:25:32.419Z"
   },
   {
    "duration": 7,
    "start_time": "2021-12-11T14:25:32.429Z"
   },
   {
    "duration": 2097,
    "start_time": "2021-12-11T14:25:32.438Z"
   },
   {
    "duration": -20,
    "start_time": "2021-12-11T14:25:34.557Z"
   },
   {
    "duration": -20,
    "start_time": "2021-12-11T14:25:34.559Z"
   },
   {
    "duration": -30,
    "start_time": "2021-12-11T14:25:34.570Z"
   },
   {
    "duration": -34,
    "start_time": "2021-12-11T14:25:34.576Z"
   },
   {
    "duration": -35,
    "start_time": "2021-12-11T14:25:34.579Z"
   },
   {
    "duration": -36,
    "start_time": "2021-12-11T14:25:34.581Z"
   },
   {
    "duration": -38,
    "start_time": "2021-12-11T14:25:34.585Z"
   },
   {
    "duration": -39,
    "start_time": "2021-12-11T14:25:34.587Z"
   },
   {
    "duration": -39,
    "start_time": "2021-12-11T14:25:34.589Z"
   },
   {
    "duration": -41,
    "start_time": "2021-12-11T14:25:34.592Z"
   },
   {
    "duration": -40,
    "start_time": "2021-12-11T14:25:34.593Z"
   },
   {
    "duration": -41,
    "start_time": "2021-12-11T14:25:34.595Z"
   },
   {
    "duration": -41,
    "start_time": "2021-12-11T14:25:34.596Z"
   },
   {
    "duration": 1298,
    "start_time": "2021-12-11T14:50:22.508Z"
   },
   {
    "duration": 2645,
    "start_time": "2021-12-11T14:50:23.808Z"
   },
   {
    "duration": 199,
    "start_time": "2021-12-11T14:50:26.455Z"
   },
   {
    "duration": 19,
    "start_time": "2021-12-11T14:50:26.656Z"
   },
   {
    "duration": 7,
    "start_time": "2021-12-11T14:50:26.677Z"
   },
   {
    "duration": 11,
    "start_time": "2021-12-11T14:50:26.686Z"
   },
   {
    "duration": 8,
    "start_time": "2021-12-11T14:50:26.699Z"
   },
   {
    "duration": 15,
    "start_time": "2021-12-11T14:50:26.709Z"
   },
   {
    "duration": 4,
    "start_time": "2021-12-11T14:50:26.726Z"
   },
   {
    "duration": 11,
    "start_time": "2021-12-11T14:50:26.732Z"
   },
   {
    "duration": 17,
    "start_time": "2021-12-11T14:50:26.745Z"
   },
   {
    "duration": 73,
    "start_time": "2021-12-11T14:50:26.764Z"
   },
   {
    "duration": 6,
    "start_time": "2021-12-11T14:50:26.838Z"
   },
   {
    "duration": 15,
    "start_time": "2021-12-11T14:50:26.845Z"
   },
   {
    "duration": 6,
    "start_time": "2021-12-11T14:50:26.862Z"
   },
   {
    "duration": 36,
    "start_time": "2021-12-11T14:50:26.870Z"
   },
   {
    "duration": 3358,
    "start_time": "2021-12-11T14:50:26.908Z"
   },
   {
    "duration": 670,
    "start_time": "2021-12-11T14:50:30.268Z"
   },
   {
    "duration": 1242,
    "start_time": "2021-12-11T14:50:30.940Z"
   },
   {
    "duration": 220,
    "start_time": "2021-12-11T14:50:32.183Z"
   },
   {
    "duration": 952,
    "start_time": "2021-12-11T14:50:32.405Z"
   },
   {
    "duration": 430,
    "start_time": "2021-12-11T14:50:33.358Z"
   },
   {
    "duration": 23,
    "start_time": "2021-12-11T14:50:33.790Z"
   },
   {
    "duration": 3,
    "start_time": "2021-12-11T14:50:33.814Z"
   },
   {
    "duration": 727,
    "start_time": "2021-12-11T14:50:33.818Z"
   },
   {
    "duration": 5,
    "start_time": "2021-12-11T14:50:34.547Z"
   },
   {
    "duration": 5,
    "start_time": "2021-12-11T14:50:34.555Z"
   },
   {
    "duration": 9,
    "start_time": "2021-12-11T14:50:34.561Z"
   },
   {
    "duration": 5,
    "start_time": "2021-12-11T14:50:34.571Z"
   },
   {
    "duration": 38,
    "start_time": "2021-12-11T14:50:34.577Z"
   },
   {
    "duration": 485,
    "start_time": "2021-12-11T15:20:59.021Z"
   },
   {
    "duration": 416,
    "start_time": "2021-12-11T15:21:14.199Z"
   },
   {
    "duration": 2,
    "start_time": "2021-12-11T15:21:44.621Z"
   },
   {
    "duration": 6,
    "start_time": "2021-12-11T15:21:46.359Z"
   },
   {
    "duration": 5,
    "start_time": "2021-12-11T15:22:28.681Z"
   },
   {
    "duration": 735,
    "start_time": "2021-12-11T15:27:29.384Z"
   },
   {
    "duration": 350,
    "start_time": "2021-12-11T15:37:08.025Z"
   },
   {
    "duration": 6,
    "start_time": "2021-12-11T15:38:11.114Z"
   },
   {
    "duration": 6,
    "start_time": "2021-12-11T15:45:10.988Z"
   },
   {
    "duration": 7,
    "start_time": "2021-12-11T15:45:58.569Z"
   },
   {
    "duration": 7,
    "start_time": "2021-12-11T15:46:04.705Z"
   },
   {
    "duration": 6,
    "start_time": "2021-12-11T15:46:07.627Z"
   },
   {
    "duration": 7,
    "start_time": "2021-12-11T15:46:13.775Z"
   },
   {
    "duration": 6,
    "start_time": "2021-12-11T15:46:23.817Z"
   },
   {
    "duration": 6,
    "start_time": "2021-12-11T15:46:30.716Z"
   },
   {
    "duration": 6,
    "start_time": "2021-12-11T15:46:36.535Z"
   },
   {
    "duration": 6,
    "start_time": "2021-12-11T15:46:49.916Z"
   },
   {
    "duration": 6,
    "start_time": "2021-12-11T15:46:56.875Z"
   },
   {
    "duration": 7,
    "start_time": "2021-12-11T15:47:05.045Z"
   },
   {
    "duration": 6,
    "start_time": "2021-12-11T15:47:21.945Z"
   },
   {
    "duration": 7,
    "start_time": "2021-12-11T15:47:27.485Z"
   },
   {
    "duration": 7,
    "start_time": "2021-12-11T15:47:32.158Z"
   },
   {
    "duration": 6,
    "start_time": "2021-12-11T15:47:54.595Z"
   },
   {
    "duration": 623,
    "start_time": "2021-12-11T15:48:42.634Z"
   },
   {
    "duration": 7,
    "start_time": "2021-12-11T15:49:52.012Z"
   },
   {
    "duration": 6,
    "start_time": "2021-12-11T15:52:16.378Z"
   },
   {
    "duration": 6,
    "start_time": "2021-12-11T15:52:51.610Z"
   },
   {
    "duration": 86,
    "start_time": "2021-12-11T15:58:02.361Z"
   },
   {
    "duration": 113,
    "start_time": "2021-12-11T15:59:53.223Z"
   },
   {
    "duration": 7,
    "start_time": "2021-12-11T16:00:11.321Z"
   },
   {
    "duration": 6,
    "start_time": "2021-12-11T16:00:55.182Z"
   },
   {
    "duration": 7,
    "start_time": "2021-12-11T16:01:11.442Z"
   },
   {
    "duration": 717,
    "start_time": "2021-12-11T16:04:09.151Z"
   },
   {
    "duration": 7,
    "start_time": "2021-12-11T16:07:05.098Z"
   },
   {
    "duration": 7,
    "start_time": "2021-12-11T16:07:42.500Z"
   },
   {
    "duration": 7,
    "start_time": "2021-12-11T16:07:46.238Z"
   },
   {
    "duration": 8,
    "start_time": "2021-12-11T16:07:49.578Z"
   },
   {
    "duration": 6,
    "start_time": "2021-12-11T16:07:51.848Z"
   },
   {
    "duration": 7,
    "start_time": "2021-12-11T16:08:02.398Z"
   },
   {
    "duration": 7,
    "start_time": "2021-12-11T16:08:05.038Z"
   },
   {
    "duration": 7,
    "start_time": "2021-12-11T16:08:09.949Z"
   },
   {
    "duration": 347,
    "start_time": "2021-12-11T16:09:19.239Z"
   },
   {
    "duration": 794,
    "start_time": "2021-12-11T16:10:12.732Z"
   },
   {
    "duration": 8,
    "start_time": "2021-12-11T16:10:19.095Z"
   },
   {
    "duration": 7,
    "start_time": "2021-12-11T16:10:39.333Z"
   },
   {
    "duration": 349,
    "start_time": "2021-12-11T16:10:45.192Z"
   },
   {
    "duration": 114,
    "start_time": "2021-12-11T16:10:49.472Z"
   },
   {
    "duration": 132,
    "start_time": "2021-12-11T16:12:03.433Z"
   },
   {
    "duration": 116,
    "start_time": "2021-12-11T16:12:13.715Z"
   },
   {
    "duration": 8,
    "start_time": "2021-12-11T16:12:28.394Z"
   },
   {
    "duration": 7,
    "start_time": "2021-12-11T16:12:54.162Z"
   },
   {
    "duration": 7,
    "start_time": "2021-12-11T16:12:57.572Z"
   },
   {
    "duration": 8,
    "start_time": "2021-12-11T16:13:14.312Z"
   },
   {
    "duration": 155,
    "start_time": "2021-12-11T16:15:26.075Z"
   },
   {
    "duration": 7,
    "start_time": "2021-12-11T16:15:37.586Z"
   },
   {
    "duration": 6,
    "start_time": "2021-12-11T16:17:14.003Z"
   },
   {
    "duration": 343,
    "start_time": "2021-12-11T16:17:29.555Z"
   },
   {
    "duration": 7,
    "start_time": "2021-12-11T16:17:35.724Z"
   },
   {
    "duration": 6,
    "start_time": "2021-12-11T16:18:49.285Z"
   },
   {
    "duration": 347,
    "start_time": "2021-12-11T16:30:17.090Z"
   },
   {
    "duration": 2,
    "start_time": "2021-12-11T16:30:35.262Z"
   },
   {
    "duration": 111,
    "start_time": "2021-12-11T16:30:40.542Z"
   },
   {
    "duration": 78,
    "start_time": "2021-12-11T16:31:22.402Z"
   },
   {
    "duration": 81,
    "start_time": "2021-12-11T16:31:58.160Z"
   },
   {
    "duration": 5,
    "start_time": "2021-12-11T16:34:41.643Z"
   },
   {
    "duration": 6,
    "start_time": "2021-12-11T16:37:02.566Z"
   },
   {
    "duration": 6,
    "start_time": "2021-12-11T16:37:08.956Z"
   },
   {
    "duration": 6,
    "start_time": "2021-12-11T16:42:44.111Z"
   },
   {
    "duration": 17,
    "start_time": "2021-12-11T16:43:15.994Z"
   },
   {
    "duration": 7,
    "start_time": "2021-12-11T16:43:30.321Z"
   },
   {
    "duration": 5,
    "start_time": "2021-12-11T16:48:51.860Z"
   },
   {
    "duration": 6,
    "start_time": "2021-12-11T16:49:51.148Z"
   },
   {
    "duration": 4,
    "start_time": "2021-12-11T16:50:18.682Z"
   },
   {
    "duration": 675,
    "start_time": "2021-12-11T16:51:47.398Z"
   },
   {
    "duration": 4,
    "start_time": "2021-12-11T16:53:19.150Z"
   },
   {
    "duration": 3,
    "start_time": "2021-12-11T16:53:25.691Z"
   },
   {
    "duration": 4,
    "start_time": "2021-12-11T16:53:41.461Z"
   },
   {
    "duration": 5,
    "start_time": "2021-12-11T16:54:20.471Z"
   },
   {
    "duration": 5,
    "start_time": "2021-12-11T16:54:30.292Z"
   },
   {
    "duration": 4,
    "start_time": "2021-12-11T16:54:40.392Z"
   },
   {
    "duration": 5,
    "start_time": "2021-12-11T16:55:04.670Z"
   },
   {
    "duration": 7,
    "start_time": "2021-12-11T16:56:46.933Z"
   },
   {
    "duration": 6,
    "start_time": "2021-12-11T16:56:57.752Z"
   },
   {
    "duration": 777,
    "start_time": "2021-12-11T16:58:40.743Z"
   },
   {
    "duration": 731,
    "start_time": "2021-12-11T16:59:22.703Z"
   },
   {
    "duration": 7,
    "start_time": "2021-12-11T17:01:31.395Z"
   },
   {
    "duration": 7,
    "start_time": "2021-12-11T17:02:14.795Z"
   },
   {
    "duration": 8,
    "start_time": "2021-12-11T17:02:49.112Z"
   },
   {
    "duration": 7,
    "start_time": "2021-12-11T17:02:52.461Z"
   },
   {
    "duration": 7,
    "start_time": "2021-12-11T17:02:57.033Z"
   },
   {
    "duration": 8,
    "start_time": "2021-12-11T17:03:05.303Z"
   },
   {
    "duration": 8,
    "start_time": "2021-12-11T17:04:13.377Z"
   },
   {
    "duration": 7,
    "start_time": "2021-12-11T17:04:34.560Z"
   },
   {
    "duration": 7,
    "start_time": "2021-12-11T17:04:59.970Z"
   },
   {
    "duration": 8,
    "start_time": "2021-12-11T17:05:17.349Z"
   },
   {
    "duration": 7,
    "start_time": "2021-12-11T17:06:16.607Z"
   },
   {
    "duration": 112,
    "start_time": "2021-12-11T18:28:01.680Z"
   },
   {
    "duration": 725,
    "start_time": "2021-12-11T18:28:38.343Z"
   },
   {
    "duration": 790,
    "start_time": "2021-12-11T18:29:01.433Z"
   },
   {
    "duration": 672,
    "start_time": "2021-12-11T18:30:16.963Z"
   },
   {
    "duration": 117,
    "start_time": "2021-12-11T18:32:26.687Z"
   },
   {
    "duration": 9,
    "start_time": "2021-12-11T18:38:06.724Z"
   },
   {
    "duration": 7,
    "start_time": "2021-12-11T18:38:27.422Z"
   },
   {
    "duration": 7,
    "start_time": "2021-12-11T18:40:23.253Z"
   },
   {
    "duration": 8,
    "start_time": "2021-12-11T18:51:57.288Z"
   },
   {
    "duration": 17,
    "start_time": "2021-12-11T18:52:04.588Z"
   },
   {
    "duration": 5,
    "start_time": "2021-12-11T18:54:01.649Z"
   },
   {
    "duration": 17,
    "start_time": "2021-12-11T18:54:07.190Z"
   },
   {
    "duration": 15,
    "start_time": "2021-12-11T18:56:30.089Z"
   },
   {
    "duration": 342,
    "start_time": "2021-12-11T19:01:16.294Z"
   },
   {
    "duration": 9,
    "start_time": "2021-12-11T19:01:21.475Z"
   },
   {
    "duration": 16,
    "start_time": "2021-12-11T19:01:34.944Z"
   },
   {
    "duration": 9,
    "start_time": "2021-12-11T19:02:24.080Z"
   },
   {
    "duration": 14,
    "start_time": "2021-12-11T19:02:27.510Z"
   },
   {
    "duration": 127,
    "start_time": "2021-12-11T19:11:53.516Z"
   },
   {
    "duration": 430,
    "start_time": "2021-12-11T19:12:00.926Z"
   },
   {
    "duration": 354,
    "start_time": "2021-12-11T19:13:22.773Z"
   },
   {
    "duration": 5,
    "start_time": "2021-12-11T19:13:34.390Z"
   },
   {
    "duration": 12,
    "start_time": "2021-12-11T19:13:40.936Z"
   },
   {
    "duration": 5,
    "start_time": "2021-12-11T19:13:55.410Z"
   },
   {
    "duration": 12,
    "start_time": "2021-12-11T19:14:17.530Z"
   },
   {
    "duration": 279,
    "start_time": "2021-12-11T19:14:38.500Z"
   },
   {
    "duration": 13,
    "start_time": "2021-12-11T19:17:30.880Z"
   },
   {
    "duration": 716,
    "start_time": "2021-12-11T19:17:33.079Z"
   },
   {
    "duration": 13,
    "start_time": "2021-12-11T19:18:00.240Z"
   },
   {
    "duration": 221,
    "start_time": "2021-12-11T19:18:02.840Z"
   },
   {
    "duration": 13,
    "start_time": "2021-12-11T19:18:17.980Z"
   },
   {
    "duration": 258,
    "start_time": "2021-12-11T19:18:19.800Z"
   },
   {
    "duration": 14,
    "start_time": "2021-12-11T19:25:50.153Z"
   },
   {
    "duration": 257,
    "start_time": "2021-12-11T19:25:55.723Z"
   },
   {
    "duration": 15,
    "start_time": "2021-12-11T19:28:17.530Z"
   },
   {
    "duration": 257,
    "start_time": "2021-12-11T19:28:22.819Z"
   },
   {
    "duration": 14,
    "start_time": "2021-12-11T19:28:58.823Z"
   },
   {
    "duration": 258,
    "start_time": "2021-12-11T19:29:01.015Z"
   },
   {
    "duration": 14,
    "start_time": "2021-12-11T19:29:21.484Z"
   },
   {
    "duration": 245,
    "start_time": "2021-12-11T19:29:24.663Z"
   },
   {
    "duration": 10,
    "start_time": "2021-12-11T19:30:40.101Z"
   },
   {
    "duration": 16,
    "start_time": "2021-12-11T19:30:51.482Z"
   },
   {
    "duration": 10,
    "start_time": "2021-12-11T19:31:58.523Z"
   },
   {
    "duration": 16,
    "start_time": "2021-12-11T19:32:06.163Z"
   },
   {
    "duration": 249,
    "start_time": "2021-12-11T19:32:28.022Z"
   },
   {
    "duration": 5,
    "start_time": "2021-12-11T19:32:50.662Z"
   },
   {
    "duration": 12,
    "start_time": "2021-12-11T19:32:52.504Z"
   },
   {
    "duration": 279,
    "start_time": "2021-12-11T19:33:00.474Z"
   },
   {
    "duration": 10,
    "start_time": "2021-12-11T19:34:17.568Z"
   },
   {
    "duration": 10,
    "start_time": "2021-12-11T19:34:19.405Z"
   },
   {
    "duration": 6,
    "start_time": "2021-12-11T19:34:20.975Z"
   },
   {
    "duration": 14,
    "start_time": "2021-12-11T19:34:22.456Z"
   },
   {
    "duration": 238,
    "start_time": "2021-12-11T19:34:30.635Z"
   },
   {
    "duration": 248,
    "start_time": "2021-12-11T19:43:39.063Z"
   },
   {
    "duration": 16,
    "start_time": "2021-12-11T19:46:31.037Z"
   },
   {
    "duration": 151,
    "start_time": "2021-12-11T19:46:33.997Z"
   },
   {
    "duration": 148,
    "start_time": "2021-12-11T19:47:04.647Z"
   },
   {
    "duration": 14,
    "start_time": "2021-12-11T19:47:18.306Z"
   },
   {
    "duration": 250,
    "start_time": "2021-12-11T19:47:28.218Z"
   },
   {
    "duration": 145,
    "start_time": "2021-12-11T19:47:38.538Z"
   },
   {
    "duration": 280,
    "start_time": "2021-12-11T19:48:05.597Z"
   },
   {
    "duration": 280,
    "start_time": "2021-12-11T19:48:12.496Z"
   },
   {
    "duration": 292,
    "start_time": "2021-12-11T19:48:39.377Z"
   },
   {
    "duration": 291,
    "start_time": "2021-12-11T19:49:41.078Z"
   },
   {
    "duration": 817,
    "start_time": "2021-12-11T19:50:58.648Z"
   },
   {
    "duration": 13,
    "start_time": "2021-12-11T19:52:08.211Z"
   },
   {
    "duration": 247,
    "start_time": "2021-12-11T19:52:16.623Z"
   },
   {
    "duration": 883,
    "start_time": "2021-12-11T19:52:22.173Z"
   },
   {
    "duration": 6,
    "start_time": "2021-12-11T20:00:22.349Z"
   },
   {
    "duration": 6,
    "start_time": "2021-12-11T20:00:31.867Z"
   },
   {
    "duration": 866,
    "start_time": "2021-12-11T20:00:56.059Z"
   },
   {
    "duration": 885,
    "start_time": "2021-12-11T20:03:46.278Z"
   },
   {
    "duration": 811,
    "start_time": "2021-12-11T20:09:28.638Z"
   },
   {
    "duration": 15,
    "start_time": "2021-12-11T21:06:46.162Z"
   },
   {
    "duration": 19,
    "start_time": "2021-12-11T21:07:29.152Z"
   },
   {
    "duration": 14,
    "start_time": "2021-12-11T21:08:53.262Z"
   },
   {
    "duration": 13,
    "start_time": "2021-12-11T21:08:58.632Z"
   },
   {
    "duration": 830,
    "start_time": "2021-12-11T21:10:01.343Z"
   },
   {
    "duration": 961,
    "start_time": "2021-12-11T21:10:31.114Z"
   },
   {
    "duration": 19,
    "start_time": "2021-12-11T21:10:42.303Z"
   },
   {
    "duration": 14,
    "start_time": "2021-12-11T21:11:06.833Z"
   },
   {
    "duration": 16,
    "start_time": "2021-12-11T21:11:25.673Z"
   },
   {
    "duration": 154,
    "start_time": "2021-12-11T21:12:31.769Z"
   },
   {
    "duration": 353,
    "start_time": "2021-12-11T21:13:05.151Z"
   },
   {
    "duration": 5,
    "start_time": "2021-12-11T21:13:16.546Z"
   },
   {
    "duration": 11,
    "start_time": "2021-12-11T21:13:25.172Z"
   },
   {
    "duration": 6,
    "start_time": "2021-12-11T21:13:45.819Z"
   },
   {
    "duration": 13,
    "start_time": "2021-12-11T21:13:57.863Z"
   },
   {
    "duration": 5,
    "start_time": "2021-12-11T21:15:04.541Z"
   },
   {
    "duration": 17,
    "start_time": "2021-12-11T21:15:06.080Z"
   },
   {
    "duration": 1078,
    "start_time": "2021-12-11T21:15:37.711Z"
   },
   {
    "duration": 1138,
    "start_time": "2021-12-11T21:15:48.802Z"
   },
   {
    "duration": 19,
    "start_time": "2021-12-11T21:15:59.432Z"
   },
   {
    "duration": 15,
    "start_time": "2021-12-11T21:19:05.280Z"
   },
   {
    "duration": 1095,
    "start_time": "2021-12-11T21:19:13.211Z"
   },
   {
    "duration": 1045,
    "start_time": "2021-12-11T21:19:24.932Z"
   },
   {
    "duration": 12,
    "start_time": "2021-12-11T21:19:43.972Z"
   },
   {
    "duration": 1147,
    "start_time": "2021-12-11T21:19:52.751Z"
   },
   {
    "duration": 9,
    "start_time": "2021-12-11T21:27:53.979Z"
   },
   {
    "duration": 10,
    "start_time": "2021-12-11T21:27:56.270Z"
   },
   {
    "duration": 6,
    "start_time": "2021-12-11T21:27:57.818Z"
   },
   {
    "duration": 953,
    "start_time": "2021-12-11T21:27:59.296Z"
   },
   {
    "duration": 4,
    "start_time": "2021-12-11T21:28:15.827Z"
   },
   {
    "duration": 13,
    "start_time": "2021-12-11T21:28:17.377Z"
   },
   {
    "duration": 1085,
    "start_time": "2021-12-11T21:28:22.267Z"
   },
   {
    "duration": 21,
    "start_time": "2021-12-11T21:28:30.338Z"
   },
   {
    "duration": 5,
    "start_time": "2021-12-11T21:48:11.384Z"
   },
   {
    "duration": 219434,
    "start_time": "2021-12-11T21:48:21.520Z"
   },
   {
    "duration": 110,
    "start_time": "2021-12-11T21:59:37.981Z"
   },
   {
    "duration": 1984,
    "start_time": "2021-12-11T22:01:33.528Z"
   },
   {
    "duration": 345,
    "start_time": "2021-12-11T22:02:52.329Z"
   },
   {
    "duration": 16,
    "start_time": "2021-12-11T22:02:58.369Z"
   },
   {
    "duration": 15,
    "start_time": "2021-12-11T22:03:23.268Z"
   },
   {
    "duration": 15,
    "start_time": "2021-12-11T22:03:48.678Z"
   },
   {
    "duration": 17,
    "start_time": "2021-12-11T22:04:31.729Z"
   },
   {
    "duration": 1772,
    "start_time": "2021-12-11T22:06:21.435Z"
   },
   {
    "duration": 25,
    "start_time": "2021-12-11T22:06:35.837Z"
   },
   {
    "duration": 20,
    "start_time": "2021-12-11T22:13:39.129Z"
   },
   {
    "duration": 4,
    "start_time": "2021-12-11T22:15:47.721Z"
   },
   {
    "duration": 16,
    "start_time": "2021-12-11T22:15:53.661Z"
   },
   {
    "duration": 7,
    "start_time": "2021-12-11T22:17:49.578Z"
   },
   {
    "duration": 16,
    "start_time": "2021-12-11T22:17:51.579Z"
   },
   {
    "duration": 501,
    "start_time": "2021-12-11T22:22:41.569Z"
   },
   {
    "duration": 10098,
    "start_time": "2021-12-11T22:23:20.928Z"
   },
   {
    "duration": 349,
    "start_time": "2021-12-11T22:24:07.700Z"
   },
   {
    "duration": 14,
    "start_time": "2021-12-11T22:24:10.480Z"
   },
   {
    "duration": 20,
    "start_time": "2021-12-11T22:25:47.078Z"
   },
   {
    "duration": 19,
    "start_time": "2021-12-11T22:26:32.819Z"
   },
   {
    "duration": 21,
    "start_time": "2021-12-11T22:26:45.222Z"
   },
   {
    "duration": 1072,
    "start_time": "2021-12-11T22:31:31.036Z"
   },
   {
    "duration": 6,
    "start_time": "2021-12-11T22:31:34.997Z"
   },
   {
    "duration": 21,
    "start_time": "2021-12-11T22:31:41.477Z"
   },
   {
    "duration": 19,
    "start_time": "2021-12-11T22:33:27.140Z"
   },
   {
    "duration": 19,
    "start_time": "2021-12-11T22:33:45.290Z"
   },
   {
    "duration": 20,
    "start_time": "2021-12-11T22:34:20.998Z"
   },
   {
    "duration": 1862,
    "start_time": "2021-12-11T22:34:59.258Z"
   },
   {
    "duration": 7,
    "start_time": "2021-12-11T22:35:04.956Z"
   },
   {
    "duration": 21,
    "start_time": "2021-12-11T22:35:07.270Z"
   },
   {
    "duration": 1752,
    "start_time": "2021-12-11T22:35:49.059Z"
   },
   {
    "duration": 7,
    "start_time": "2021-12-11T22:35:53.671Z"
   },
   {
    "duration": 20,
    "start_time": "2021-12-11T22:35:55.818Z"
   },
   {
    "duration": 1675,
    "start_time": "2021-12-11T22:37:15.436Z"
   },
   {
    "duration": 7,
    "start_time": "2021-12-11T22:37:18.500Z"
   },
   {
    "duration": 21,
    "start_time": "2021-12-11T22:37:22.645Z"
   },
   {
    "duration": 9604,
    "start_time": "2021-12-11T22:37:42.070Z"
   },
   {
    "duration": 383,
    "start_time": "2021-12-11T22:38:14.288Z"
   },
   {
    "duration": 6695,
    "start_time": "2021-12-11T22:38:37.778Z"
   },
   {
    "duration": 6593,
    "start_time": "2021-12-11T22:40:37.364Z"
   },
   {
    "duration": 91,
    "start_time": "2021-12-15T06:56:21.731Z"
   },
   {
    "duration": 1271,
    "start_time": "2021-12-15T12:46:47.214Z"
   },
   {
    "duration": 3660,
    "start_time": "2021-12-15T12:46:48.487Z"
   },
   {
    "duration": 186,
    "start_time": "2021-12-15T12:46:52.150Z"
   },
   {
    "duration": 18,
    "start_time": "2021-12-15T12:46:52.338Z"
   },
   {
    "duration": 9,
    "start_time": "2021-12-15T12:46:52.359Z"
   },
   {
    "duration": 15,
    "start_time": "2021-12-15T12:46:52.371Z"
   },
   {
    "duration": 28,
    "start_time": "2021-12-15T12:46:52.388Z"
   },
   {
    "duration": 18,
    "start_time": "2021-12-15T12:46:52.419Z"
   },
   {
    "duration": 4,
    "start_time": "2021-12-15T12:46:52.440Z"
   },
   {
    "duration": 18,
    "start_time": "2021-12-15T12:46:52.446Z"
   },
   {
    "duration": 18,
    "start_time": "2021-12-15T12:46:52.467Z"
   },
   {
    "duration": 59,
    "start_time": "2021-12-15T12:46:52.486Z"
   },
   {
    "duration": 5,
    "start_time": "2021-12-15T12:46:52.547Z"
   },
   {
    "duration": 36,
    "start_time": "2021-12-15T12:46:52.554Z"
   },
   {
    "duration": 28,
    "start_time": "2021-12-15T12:46:52.592Z"
   },
   {
    "duration": 38,
    "start_time": "2021-12-15T12:46:52.622Z"
   },
   {
    "duration": 2073,
    "start_time": "2021-12-15T12:46:52.662Z"
   },
   {
    "duration": -1108,
    "start_time": "2021-12-15T12:46:55.851Z"
   },
   {
    "duration": -1108,
    "start_time": "2021-12-15T12:46:55.853Z"
   },
   {
    "duration": -1108,
    "start_time": "2021-12-15T12:46:55.855Z"
   },
   {
    "duration": -1111,
    "start_time": "2021-12-15T12:46:55.859Z"
   },
   {
    "duration": -1113,
    "start_time": "2021-12-15T12:46:55.863Z"
   },
   {
    "duration": -1114,
    "start_time": "2021-12-15T12:46:55.865Z"
   },
   {
    "duration": -1114,
    "start_time": "2021-12-15T12:46:55.867Z"
   },
   {
    "duration": -1116,
    "start_time": "2021-12-15T12:46:55.870Z"
   },
   {
    "duration": -1117,
    "start_time": "2021-12-15T12:46:55.872Z"
   },
   {
    "duration": -1119,
    "start_time": "2021-12-15T12:46:55.876Z"
   },
   {
    "duration": -1121,
    "start_time": "2021-12-15T12:46:55.879Z"
   },
   {
    "duration": -1122,
    "start_time": "2021-12-15T12:46:55.881Z"
   },
   {
    "duration": -1122,
    "start_time": "2021-12-15T12:46:55.883Z"
   },
   {
    "duration": -1123,
    "start_time": "2021-12-15T12:46:55.885Z"
   },
   {
    "duration": -1122,
    "start_time": "2021-12-15T12:46:55.886Z"
   },
   {
    "duration": -1123,
    "start_time": "2021-12-15T12:46:55.888Z"
   },
   {
    "duration": -1124,
    "start_time": "2021-12-15T12:46:55.890Z"
   },
   {
    "duration": -1126,
    "start_time": "2021-12-15T12:46:55.894Z"
   },
   {
    "duration": -1126,
    "start_time": "2021-12-15T12:46:55.895Z"
   },
   {
    "duration": -1127,
    "start_time": "2021-12-15T12:46:55.897Z"
   },
   {
    "duration": -1128,
    "start_time": "2021-12-15T12:46:55.899Z"
   },
   {
    "duration": -1133,
    "start_time": "2021-12-15T12:46:55.906Z"
   },
   {
    "duration": -1135,
    "start_time": "2021-12-15T12:46:55.909Z"
   },
   {
    "duration": -1138,
    "start_time": "2021-12-15T12:46:55.913Z"
   },
   {
    "duration": -1139,
    "start_time": "2021-12-15T12:46:55.915Z"
   },
   {
    "duration": -1140,
    "start_time": "2021-12-15T12:46:55.917Z"
   },
   {
    "duration": -1141,
    "start_time": "2021-12-15T12:46:55.919Z"
   },
   {
    "duration": -1141,
    "start_time": "2021-12-15T12:46:55.920Z"
   },
   {
    "duration": -1142,
    "start_time": "2021-12-15T12:46:55.922Z"
   },
   {
    "duration": 1288,
    "start_time": "2021-12-15T12:47:19.021Z"
   },
   {
    "duration": 2210,
    "start_time": "2021-12-15T12:47:20.314Z"
   },
   {
    "duration": 125,
    "start_time": "2021-12-15T12:47:22.527Z"
   },
   {
    "duration": 16,
    "start_time": "2021-12-15T12:47:22.654Z"
   },
   {
    "duration": 18,
    "start_time": "2021-12-15T12:47:22.672Z"
   },
   {
    "duration": 30,
    "start_time": "2021-12-15T12:47:22.692Z"
   },
   {
    "duration": 29,
    "start_time": "2021-12-15T12:47:22.724Z"
   },
   {
    "duration": 38,
    "start_time": "2021-12-15T12:47:22.756Z"
   },
   {
    "duration": 20,
    "start_time": "2021-12-15T12:47:22.796Z"
   },
   {
    "duration": 30,
    "start_time": "2021-12-15T12:47:22.817Z"
   },
   {
    "duration": 41,
    "start_time": "2021-12-15T12:47:22.849Z"
   },
   {
    "duration": 53,
    "start_time": "2021-12-15T12:47:22.892Z"
   },
   {
    "duration": 15,
    "start_time": "2021-12-15T12:47:22.947Z"
   },
   {
    "duration": 39,
    "start_time": "2021-12-15T12:47:22.963Z"
   },
   {
    "duration": 7,
    "start_time": "2021-12-15T12:47:23.004Z"
   },
   {
    "duration": 37,
    "start_time": "2021-12-15T12:47:23.013Z"
   },
   {
    "duration": 3376,
    "start_time": "2021-12-15T12:47:23.053Z"
   },
   {
    "duration": 778,
    "start_time": "2021-12-15T12:47:26.443Z"
   },
   {
    "duration": 1259,
    "start_time": "2021-12-15T12:47:27.224Z"
   },
   {
    "duration": 236,
    "start_time": "2021-12-15T12:47:28.486Z"
   },
   {
    "duration": 1037,
    "start_time": "2021-12-15T12:47:28.724Z"
   },
   {
    "duration": 423,
    "start_time": "2021-12-15T12:47:29.764Z"
   },
   {
    "duration": 15,
    "start_time": "2021-12-15T12:47:30.189Z"
   },
   {
    "duration": 828,
    "start_time": "2021-12-15T12:47:30.206Z"
   },
   {
    "duration": -1079,
    "start_time": "2021-12-15T12:47:32.116Z"
   },
   {
    "duration": -1081,
    "start_time": "2021-12-15T12:47:32.119Z"
   },
   {
    "duration": -1085,
    "start_time": "2021-12-15T12:47:32.123Z"
   },
   {
    "duration": -1090,
    "start_time": "2021-12-15T12:47:32.129Z"
   },
   {
    "duration": -1088,
    "start_time": "2021-12-15T12:47:32.132Z"
   },
   {
    "duration": -1091,
    "start_time": "2021-12-15T12:47:32.136Z"
   },
   {
    "duration": -1093,
    "start_time": "2021-12-15T12:47:32.139Z"
   },
   {
    "duration": -1102,
    "start_time": "2021-12-15T12:47:32.150Z"
   },
   {
    "duration": -1106,
    "start_time": "2021-12-15T12:47:32.155Z"
   },
   {
    "duration": -1109,
    "start_time": "2021-12-15T12:47:32.160Z"
   },
   {
    "duration": -1112,
    "start_time": "2021-12-15T12:47:32.164Z"
   },
   {
    "duration": -1114,
    "start_time": "2021-12-15T12:47:32.168Z"
   },
   {
    "duration": -1116,
    "start_time": "2021-12-15T12:47:32.171Z"
   },
   {
    "duration": -1118,
    "start_time": "2021-12-15T12:47:32.175Z"
   },
   {
    "duration": -1121,
    "start_time": "2021-12-15T12:47:32.179Z"
   },
   {
    "duration": -1124,
    "start_time": "2021-12-15T12:47:32.183Z"
   },
   {
    "duration": -1125,
    "start_time": "2021-12-15T12:47:32.186Z"
   },
   {
    "duration": -1128,
    "start_time": "2021-12-15T12:47:32.190Z"
   },
   {
    "duration": -1130,
    "start_time": "2021-12-15T12:47:32.194Z"
   },
   {
    "duration": -1133,
    "start_time": "2021-12-15T12:47:32.198Z"
   },
   {
    "duration": -1134,
    "start_time": "2021-12-15T12:47:32.201Z"
   },
   {
    "duration": -1135,
    "start_time": "2021-12-15T12:47:32.203Z"
   },
   {
    "duration": 726,
    "start_time": "2021-12-15T12:48:18.966Z"
   },
   {
    "duration": 1247,
    "start_time": "2021-12-15T12:48:32.357Z"
   },
   {
    "duration": 2215,
    "start_time": "2021-12-15T12:48:33.606Z"
   },
   {
    "duration": 452,
    "start_time": "2021-12-15T12:48:35.824Z"
   },
   {
    "duration": 14,
    "start_time": "2021-12-15T12:48:36.278Z"
   },
   {
    "duration": 23,
    "start_time": "2021-12-15T12:48:36.294Z"
   },
   {
    "duration": 29,
    "start_time": "2021-12-15T12:48:36.319Z"
   },
   {
    "duration": 31,
    "start_time": "2021-12-15T12:48:36.350Z"
   },
   {
    "duration": 36,
    "start_time": "2021-12-15T12:48:36.383Z"
   },
   {
    "duration": 12,
    "start_time": "2021-12-15T12:48:36.421Z"
   },
   {
    "duration": 36,
    "start_time": "2021-12-15T12:48:36.434Z"
   },
   {
    "duration": 39,
    "start_time": "2021-12-15T12:48:36.471Z"
   },
   {
    "duration": 48,
    "start_time": "2021-12-15T12:48:36.512Z"
   },
   {
    "duration": 5,
    "start_time": "2021-12-15T12:48:36.562Z"
   },
   {
    "duration": 52,
    "start_time": "2021-12-15T12:48:36.568Z"
   },
   {
    "duration": 12,
    "start_time": "2021-12-15T12:48:36.622Z"
   },
   {
    "duration": 36,
    "start_time": "2021-12-15T12:48:36.636Z"
   },
   {
    "duration": 3390,
    "start_time": "2021-12-15T12:48:36.674Z"
   },
   {
    "duration": 666,
    "start_time": "2021-12-15T12:48:40.067Z"
   },
   {
    "duration": 1211,
    "start_time": "2021-12-15T12:48:40.735Z"
   },
   {
    "duration": 226,
    "start_time": "2021-12-15T12:48:41.948Z"
   },
   {
    "duration": 977,
    "start_time": "2021-12-15T12:48:42.175Z"
   },
   {
    "duration": 429,
    "start_time": "2021-12-15T12:48:43.154Z"
   },
   {
    "duration": 14,
    "start_time": "2021-12-15T12:48:43.587Z"
   },
   {
    "duration": 767,
    "start_time": "2021-12-15T12:48:43.603Z"
   },
   {
    "duration": 7,
    "start_time": "2021-12-15T12:48:44.372Z"
   },
   {
    "duration": 5,
    "start_time": "2021-12-15T12:48:44.381Z"
   },
   {
    "duration": 13,
    "start_time": "2021-12-15T12:48:44.388Z"
   },
   {
    "duration": 736,
    "start_time": "2021-12-15T12:48:44.403Z"
   },
   {
    "duration": 8,
    "start_time": "2021-12-15T12:48:45.145Z"
   },
   {
    "duration": 8,
    "start_time": "2021-12-15T12:48:45.155Z"
   },
   {
    "duration": 840,
    "start_time": "2021-12-15T12:48:45.165Z"
   },
   {
    "duration": 8,
    "start_time": "2021-12-15T12:48:46.007Z"
   },
   {
    "duration": 8,
    "start_time": "2021-12-15T12:48:46.017Z"
   },
   {
    "duration": 27,
    "start_time": "2021-12-15T12:48:46.027Z"
   },
   {
    "duration": 11,
    "start_time": "2021-12-15T12:48:46.056Z"
   },
   {
    "duration": 6,
    "start_time": "2021-12-15T12:48:46.070Z"
   },
   {
    "duration": 883,
    "start_time": "2021-12-15T12:48:46.078Z"
   },
   {
    "duration": 5,
    "start_time": "2021-12-15T12:48:46.963Z"
   },
   {
    "duration": 15,
    "start_time": "2021-12-15T12:48:46.971Z"
   },
   {
    "duration": 1067,
    "start_time": "2021-12-15T12:48:46.987Z"
   },
   {
    "duration": 21,
    "start_time": "2021-12-15T12:48:48.056Z"
   },
   {
    "duration": 225648,
    "start_time": "2021-12-15T12:48:48.079Z"
   },
   {
    "duration": 1721,
    "start_time": "2021-12-15T12:52:33.729Z"
   },
   {
    "duration": 7,
    "start_time": "2021-12-15T12:52:35.452Z"
   },
   {
    "duration": 56,
    "start_time": "2021-12-15T12:52:35.461Z"
   },
   {
    "duration": 5894,
    "start_time": "2021-12-15T12:52:35.519Z"
   },
   {
    "duration": 17,
    "start_time": "2021-12-15T12:58:34.793Z"
   },
   {
    "duration": 130,
    "start_time": "2021-12-16T15:20:43.256Z"
   },
   {
    "duration": 222,
    "start_time": "2021-12-16T15:34:19.319Z"
   },
   {
    "duration": 125,
    "start_time": "2021-12-16T15:35:37.314Z"
   }
  ],
  "kernelspec": {
   "display_name": "Python 3",
   "language": "python",
   "name": "python3"
  },
  "language_info": {
   "codemirror_mode": {
    "name": "ipython",
    "version": 3
   },
   "file_extension": ".py",
   "mimetype": "text/x-python",
   "name": "python",
   "nbconvert_exporter": "python",
   "pygments_lexer": "ipython3",
   "version": "3.7.8"
  },
  "toc": {
   "base_numbering": 1,
   "nav_menu": {},
   "number_sections": true,
   "sideBar": true,
   "skip_h1_title": true,
   "title_cell": "Table of Contents",
   "title_sidebar": "Contents",
   "toc_cell": false,
   "toc_position": {},
   "toc_section_display": true,
   "toc_window_display": false
  }
 },
 "nbformat": 4,
 "nbformat_minor": 2
}
